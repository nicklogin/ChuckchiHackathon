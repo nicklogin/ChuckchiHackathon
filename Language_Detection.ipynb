{
  "nbformat": 4,
  "nbformat_minor": 0,
  "metadata": {
    "colab": {
      "name": "Language Detection.ipynb",
      "provenance": [],
      "collapsed_sections": []
    },
    "kernelspec": {
      "name": "python3",
      "display_name": "Python 3"
    },
    "accelerator": "GPU",
    "widgets": {
      "application/vnd.jupyter.widget-state+json": {
        "d3827b48fa70400198aa0563391d060b": {
          "model_module": "@jupyter-widgets/controls",
          "model_name": "HBoxModel",
          "state": {
            "_view_name": "HBoxView",
            "_dom_classes": [],
            "_model_name": "HBoxModel",
            "_view_module": "@jupyter-widgets/controls",
            "_model_module_version": "1.5.0",
            "_view_count": null,
            "_view_module_version": "1.5.0",
            "box_style": "",
            "layout": "IPY_MODEL_9c385ca4c0a5447fbb847523863c6cce",
            "_model_module": "@jupyter-widgets/controls",
            "children": [
              "IPY_MODEL_5ee048fec0974819a12f3c5d206fcd53",
              "IPY_MODEL_ca90e146577b4b00a3b35d0955b39df7"
            ]
          }
        },
        "9c385ca4c0a5447fbb847523863c6cce": {
          "model_module": "@jupyter-widgets/base",
          "model_name": "LayoutModel",
          "state": {
            "_view_name": "LayoutView",
            "grid_template_rows": null,
            "right": null,
            "justify_content": null,
            "_view_module": "@jupyter-widgets/base",
            "overflow": null,
            "_model_module_version": "1.2.0",
            "_view_count": null,
            "flex_flow": null,
            "width": null,
            "min_width": null,
            "border": null,
            "align_items": null,
            "bottom": null,
            "_model_module": "@jupyter-widgets/base",
            "top": null,
            "grid_column": null,
            "overflow_y": null,
            "overflow_x": null,
            "grid_auto_flow": null,
            "grid_area": null,
            "grid_template_columns": null,
            "flex": null,
            "_model_name": "LayoutModel",
            "justify_items": null,
            "grid_row": null,
            "max_height": null,
            "align_content": null,
            "visibility": null,
            "align_self": null,
            "height": null,
            "min_height": null,
            "padding": null,
            "grid_auto_rows": null,
            "grid_gap": null,
            "max_width": null,
            "order": null,
            "_view_module_version": "1.2.0",
            "grid_template_areas": null,
            "object_position": null,
            "object_fit": null,
            "grid_auto_columns": null,
            "margin": null,
            "display": null,
            "left": null
          }
        },
        "5ee048fec0974819a12f3c5d206fcd53": {
          "model_module": "@jupyter-widgets/controls",
          "model_name": "FloatProgressModel",
          "state": {
            "_view_name": "ProgressView",
            "style": "IPY_MODEL_386534363ebb43f196bb4bd5d74723ac",
            "_dom_classes": [],
            "description": "100%",
            "_model_name": "FloatProgressModel",
            "bar_style": "success",
            "max": 1220,
            "_view_module": "@jupyter-widgets/controls",
            "_model_module_version": "1.5.0",
            "value": 1220,
            "_view_count": null,
            "_view_module_version": "1.5.0",
            "orientation": "horizontal",
            "min": 0,
            "description_tooltip": null,
            "_model_module": "@jupyter-widgets/controls",
            "layout": "IPY_MODEL_05a9fa65c9824223ba894e9a46aebd35"
          }
        },
        "ca90e146577b4b00a3b35d0955b39df7": {
          "model_module": "@jupyter-widgets/controls",
          "model_name": "HTMLModel",
          "state": {
            "_view_name": "HTMLView",
            "style": "IPY_MODEL_a65a4d54b250462aae5c602a1af4f3fb",
            "_dom_classes": [],
            "description": "",
            "_model_name": "HTMLModel",
            "placeholder": "​",
            "_view_module": "@jupyter-widgets/controls",
            "_model_module_version": "1.5.0",
            "value": " 1220/1220 [00:36&lt;00:00, 33.42it/s]",
            "_view_count": null,
            "_view_module_version": "1.5.0",
            "description_tooltip": null,
            "_model_module": "@jupyter-widgets/controls",
            "layout": "IPY_MODEL_8c94696577c546f2a31b20a1fc01c3a6"
          }
        },
        "386534363ebb43f196bb4bd5d74723ac": {
          "model_module": "@jupyter-widgets/controls",
          "model_name": "ProgressStyleModel",
          "state": {
            "_view_name": "StyleView",
            "_model_name": "ProgressStyleModel",
            "description_width": "initial",
            "_view_module": "@jupyter-widgets/base",
            "_model_module_version": "1.5.0",
            "_view_count": null,
            "_view_module_version": "1.2.0",
            "bar_color": null,
            "_model_module": "@jupyter-widgets/controls"
          }
        },
        "05a9fa65c9824223ba894e9a46aebd35": {
          "model_module": "@jupyter-widgets/base",
          "model_name": "LayoutModel",
          "state": {
            "_view_name": "LayoutView",
            "grid_template_rows": null,
            "right": null,
            "justify_content": null,
            "_view_module": "@jupyter-widgets/base",
            "overflow": null,
            "_model_module_version": "1.2.0",
            "_view_count": null,
            "flex_flow": null,
            "width": null,
            "min_width": null,
            "border": null,
            "align_items": null,
            "bottom": null,
            "_model_module": "@jupyter-widgets/base",
            "top": null,
            "grid_column": null,
            "overflow_y": null,
            "overflow_x": null,
            "grid_auto_flow": null,
            "grid_area": null,
            "grid_template_columns": null,
            "flex": null,
            "_model_name": "LayoutModel",
            "justify_items": null,
            "grid_row": null,
            "max_height": null,
            "align_content": null,
            "visibility": null,
            "align_self": null,
            "height": null,
            "min_height": null,
            "padding": null,
            "grid_auto_rows": null,
            "grid_gap": null,
            "max_width": null,
            "order": null,
            "_view_module_version": "1.2.0",
            "grid_template_areas": null,
            "object_position": null,
            "object_fit": null,
            "grid_auto_columns": null,
            "margin": null,
            "display": null,
            "left": null
          }
        },
        "a65a4d54b250462aae5c602a1af4f3fb": {
          "model_module": "@jupyter-widgets/controls",
          "model_name": "DescriptionStyleModel",
          "state": {
            "_view_name": "StyleView",
            "_model_name": "DescriptionStyleModel",
            "description_width": "",
            "_view_module": "@jupyter-widgets/base",
            "_model_module_version": "1.5.0",
            "_view_count": null,
            "_view_module_version": "1.2.0",
            "_model_module": "@jupyter-widgets/controls"
          }
        },
        "8c94696577c546f2a31b20a1fc01c3a6": {
          "model_module": "@jupyter-widgets/base",
          "model_name": "LayoutModel",
          "state": {
            "_view_name": "LayoutView",
            "grid_template_rows": null,
            "right": null,
            "justify_content": null,
            "_view_module": "@jupyter-widgets/base",
            "overflow": null,
            "_model_module_version": "1.2.0",
            "_view_count": null,
            "flex_flow": null,
            "width": null,
            "min_width": null,
            "border": null,
            "align_items": null,
            "bottom": null,
            "_model_module": "@jupyter-widgets/base",
            "top": null,
            "grid_column": null,
            "overflow_y": null,
            "overflow_x": null,
            "grid_auto_flow": null,
            "grid_area": null,
            "grid_template_columns": null,
            "flex": null,
            "_model_name": "LayoutModel",
            "justify_items": null,
            "grid_row": null,
            "max_height": null,
            "align_content": null,
            "visibility": null,
            "align_self": null,
            "height": null,
            "min_height": null,
            "padding": null,
            "grid_auto_rows": null,
            "grid_gap": null,
            "max_width": null,
            "order": null,
            "_view_module_version": "1.2.0",
            "grid_template_areas": null,
            "object_position": null,
            "object_fit": null,
            "grid_auto_columns": null,
            "margin": null,
            "display": null,
            "left": null
          }
        },
        "4084ad4087704ad5a48df6e87cd2899f": {
          "model_module": "@jupyter-widgets/controls",
          "model_name": "HBoxModel",
          "state": {
            "_view_name": "HBoxView",
            "_dom_classes": [],
            "_model_name": "HBoxModel",
            "_view_module": "@jupyter-widgets/controls",
            "_model_module_version": "1.5.0",
            "_view_count": null,
            "_view_module_version": "1.5.0",
            "box_style": "",
            "layout": "IPY_MODEL_7c277bfebad14f969b5e4d2a1f69ef9c",
            "_model_module": "@jupyter-widgets/controls",
            "children": [
              "IPY_MODEL_0003ecf0da1b4ac7a7042d2de057dd5c",
              "IPY_MODEL_6ec7cfd1b8c1429b99acb44852bf6027"
            ]
          }
        },
        "7c277bfebad14f969b5e4d2a1f69ef9c": {
          "model_module": "@jupyter-widgets/base",
          "model_name": "LayoutModel",
          "state": {
            "_view_name": "LayoutView",
            "grid_template_rows": null,
            "right": null,
            "justify_content": null,
            "_view_module": "@jupyter-widgets/base",
            "overflow": null,
            "_model_module_version": "1.2.0",
            "_view_count": null,
            "flex_flow": null,
            "width": null,
            "min_width": null,
            "border": null,
            "align_items": null,
            "bottom": null,
            "_model_module": "@jupyter-widgets/base",
            "top": null,
            "grid_column": null,
            "overflow_y": null,
            "overflow_x": null,
            "grid_auto_flow": null,
            "grid_area": null,
            "grid_template_columns": null,
            "flex": null,
            "_model_name": "LayoutModel",
            "justify_items": null,
            "grid_row": null,
            "max_height": null,
            "align_content": null,
            "visibility": null,
            "align_self": null,
            "height": null,
            "min_height": null,
            "padding": null,
            "grid_auto_rows": null,
            "grid_gap": null,
            "max_width": null,
            "order": null,
            "_view_module_version": "1.2.0",
            "grid_template_areas": null,
            "object_position": null,
            "object_fit": null,
            "grid_auto_columns": null,
            "margin": null,
            "display": null,
            "left": null
          }
        },
        "0003ecf0da1b4ac7a7042d2de057dd5c": {
          "model_module": "@jupyter-widgets/controls",
          "model_name": "FloatProgressModel",
          "state": {
            "_view_name": "ProgressView",
            "style": "IPY_MODEL_3d27e5960c23418da425ba8f90efd987",
            "_dom_classes": [],
            "description": "100%",
            "_model_name": "FloatProgressModel",
            "bar_style": "success",
            "max": 5219,
            "_view_module": "@jupyter-widgets/controls",
            "_model_module_version": "1.5.0",
            "value": 5219,
            "_view_count": null,
            "_view_module_version": "1.5.0",
            "orientation": "horizontal",
            "min": 0,
            "description_tooltip": null,
            "_model_module": "@jupyter-widgets/controls",
            "layout": "IPY_MODEL_9160d2a9e9db4e318344d0dbb9c70694"
          }
        },
        "6ec7cfd1b8c1429b99acb44852bf6027": {
          "model_module": "@jupyter-widgets/controls",
          "model_name": "HTMLModel",
          "state": {
            "_view_name": "HTMLView",
            "style": "IPY_MODEL_a59fa61287b44148ae5149ef0b156aac",
            "_dom_classes": [],
            "description": "",
            "_model_name": "HTMLModel",
            "placeholder": "​",
            "_view_module": "@jupyter-widgets/controls",
            "_model_module_version": "1.5.0",
            "value": " 5219/5219 [00:00&lt;00:00, 8929.27it/s]",
            "_view_count": null,
            "_view_module_version": "1.5.0",
            "description_tooltip": null,
            "_model_module": "@jupyter-widgets/controls",
            "layout": "IPY_MODEL_dfa8ced1f3ac49d49ce2d79ed50da366"
          }
        },
        "3d27e5960c23418da425ba8f90efd987": {
          "model_module": "@jupyter-widgets/controls",
          "model_name": "ProgressStyleModel",
          "state": {
            "_view_name": "StyleView",
            "_model_name": "ProgressStyleModel",
            "description_width": "initial",
            "_view_module": "@jupyter-widgets/base",
            "_model_module_version": "1.5.0",
            "_view_count": null,
            "_view_module_version": "1.2.0",
            "bar_color": null,
            "_model_module": "@jupyter-widgets/controls"
          }
        },
        "9160d2a9e9db4e318344d0dbb9c70694": {
          "model_module": "@jupyter-widgets/base",
          "model_name": "LayoutModel",
          "state": {
            "_view_name": "LayoutView",
            "grid_template_rows": null,
            "right": null,
            "justify_content": null,
            "_view_module": "@jupyter-widgets/base",
            "overflow": null,
            "_model_module_version": "1.2.0",
            "_view_count": null,
            "flex_flow": null,
            "width": null,
            "min_width": null,
            "border": null,
            "align_items": null,
            "bottom": null,
            "_model_module": "@jupyter-widgets/base",
            "top": null,
            "grid_column": null,
            "overflow_y": null,
            "overflow_x": null,
            "grid_auto_flow": null,
            "grid_area": null,
            "grid_template_columns": null,
            "flex": null,
            "_model_name": "LayoutModel",
            "justify_items": null,
            "grid_row": null,
            "max_height": null,
            "align_content": null,
            "visibility": null,
            "align_self": null,
            "height": null,
            "min_height": null,
            "padding": null,
            "grid_auto_rows": null,
            "grid_gap": null,
            "max_width": null,
            "order": null,
            "_view_module_version": "1.2.0",
            "grid_template_areas": null,
            "object_position": null,
            "object_fit": null,
            "grid_auto_columns": null,
            "margin": null,
            "display": null,
            "left": null
          }
        },
        "a59fa61287b44148ae5149ef0b156aac": {
          "model_module": "@jupyter-widgets/controls",
          "model_name": "DescriptionStyleModel",
          "state": {
            "_view_name": "StyleView",
            "_model_name": "DescriptionStyleModel",
            "description_width": "",
            "_view_module": "@jupyter-widgets/base",
            "_model_module_version": "1.5.0",
            "_view_count": null,
            "_view_module_version": "1.2.0",
            "_model_module": "@jupyter-widgets/controls"
          }
        },
        "dfa8ced1f3ac49d49ce2d79ed50da366": {
          "model_module": "@jupyter-widgets/base",
          "model_name": "LayoutModel",
          "state": {
            "_view_name": "LayoutView",
            "grid_template_rows": null,
            "right": null,
            "justify_content": null,
            "_view_module": "@jupyter-widgets/base",
            "overflow": null,
            "_model_module_version": "1.2.0",
            "_view_count": null,
            "flex_flow": null,
            "width": null,
            "min_width": null,
            "border": null,
            "align_items": null,
            "bottom": null,
            "_model_module": "@jupyter-widgets/base",
            "top": null,
            "grid_column": null,
            "overflow_y": null,
            "overflow_x": null,
            "grid_auto_flow": null,
            "grid_area": null,
            "grid_template_columns": null,
            "flex": null,
            "_model_name": "LayoutModel",
            "justify_items": null,
            "grid_row": null,
            "max_height": null,
            "align_content": null,
            "visibility": null,
            "align_self": null,
            "height": null,
            "min_height": null,
            "padding": null,
            "grid_auto_rows": null,
            "grid_gap": null,
            "max_width": null,
            "order": null,
            "_view_module_version": "1.2.0",
            "grid_template_areas": null,
            "object_position": null,
            "object_fit": null,
            "grid_auto_columns": null,
            "margin": null,
            "display": null,
            "left": null
          }
        },
        "a49409ed21d9413a93f501d7838523b0": {
          "model_module": "@jupyter-widgets/controls",
          "model_name": "HBoxModel",
          "state": {
            "_view_name": "HBoxView",
            "_dom_classes": [],
            "_model_name": "HBoxModel",
            "_view_module": "@jupyter-widgets/controls",
            "_model_module_version": "1.5.0",
            "_view_count": null,
            "_view_module_version": "1.5.0",
            "box_style": "",
            "layout": "IPY_MODEL_31282a3b227c402a96c1903514940b7e",
            "_model_module": "@jupyter-widgets/controls",
            "children": [
              "IPY_MODEL_54e7c1631881497a9ca220d977f8666d",
              "IPY_MODEL_96898d8b005c4f069e74febb0b9f07b7"
            ]
          }
        },
        "31282a3b227c402a96c1903514940b7e": {
          "model_module": "@jupyter-widgets/base",
          "model_name": "LayoutModel",
          "state": {
            "_view_name": "LayoutView",
            "grid_template_rows": null,
            "right": null,
            "justify_content": null,
            "_view_module": "@jupyter-widgets/base",
            "overflow": null,
            "_model_module_version": "1.2.0",
            "_view_count": null,
            "flex_flow": null,
            "width": null,
            "min_width": null,
            "border": null,
            "align_items": null,
            "bottom": null,
            "_model_module": "@jupyter-widgets/base",
            "top": null,
            "grid_column": null,
            "overflow_y": null,
            "overflow_x": null,
            "grid_auto_flow": null,
            "grid_area": null,
            "grid_template_columns": null,
            "flex": null,
            "_model_name": "LayoutModel",
            "justify_items": null,
            "grid_row": null,
            "max_height": null,
            "align_content": null,
            "visibility": null,
            "align_self": null,
            "height": null,
            "min_height": null,
            "padding": null,
            "grid_auto_rows": null,
            "grid_gap": null,
            "max_width": null,
            "order": null,
            "_view_module_version": "1.2.0",
            "grid_template_areas": null,
            "object_position": null,
            "object_fit": null,
            "grid_auto_columns": null,
            "margin": null,
            "display": null,
            "left": null
          }
        },
        "54e7c1631881497a9ca220d977f8666d": {
          "model_module": "@jupyter-widgets/controls",
          "model_name": "FloatProgressModel",
          "state": {
            "_view_name": "ProgressView",
            "style": "IPY_MODEL_18da6a0bbf334f39898d8bdaeec06d71",
            "_dom_classes": [],
            "description": "100%",
            "_model_name": "FloatProgressModel",
            "bar_style": "success",
            "max": 282,
            "_view_module": "@jupyter-widgets/controls",
            "_model_module_version": "1.5.0",
            "value": 282,
            "_view_count": null,
            "_view_module_version": "1.5.0",
            "orientation": "horizontal",
            "min": 0,
            "description_tooltip": null,
            "_model_module": "@jupyter-widgets/controls",
            "layout": "IPY_MODEL_b430448e16354487b07587787a8fb8ea"
          }
        },
        "96898d8b005c4f069e74febb0b9f07b7": {
          "model_module": "@jupyter-widgets/controls",
          "model_name": "HTMLModel",
          "state": {
            "_view_name": "HTMLView",
            "style": "IPY_MODEL_f45fcc40f5ee43ec95b11b369cf92efb",
            "_dom_classes": [],
            "description": "",
            "_model_name": "HTMLModel",
            "placeholder": "​",
            "_view_module": "@jupyter-widgets/controls",
            "_model_module_version": "1.5.0",
            "value": " 282/282 [01:16&lt;00:00,  3.69it/s]",
            "_view_count": null,
            "_view_module_version": "1.5.0",
            "description_tooltip": null,
            "_model_module": "@jupyter-widgets/controls",
            "layout": "IPY_MODEL_e971e249ffb94a349ead7218b6f8f35f"
          }
        },
        "18da6a0bbf334f39898d8bdaeec06d71": {
          "model_module": "@jupyter-widgets/controls",
          "model_name": "ProgressStyleModel",
          "state": {
            "_view_name": "StyleView",
            "_model_name": "ProgressStyleModel",
            "description_width": "initial",
            "_view_module": "@jupyter-widgets/base",
            "_model_module_version": "1.5.0",
            "_view_count": null,
            "_view_module_version": "1.2.0",
            "bar_color": null,
            "_model_module": "@jupyter-widgets/controls"
          }
        },
        "b430448e16354487b07587787a8fb8ea": {
          "model_module": "@jupyter-widgets/base",
          "model_name": "LayoutModel",
          "state": {
            "_view_name": "LayoutView",
            "grid_template_rows": null,
            "right": null,
            "justify_content": null,
            "_view_module": "@jupyter-widgets/base",
            "overflow": null,
            "_model_module_version": "1.2.0",
            "_view_count": null,
            "flex_flow": null,
            "width": null,
            "min_width": null,
            "border": null,
            "align_items": null,
            "bottom": null,
            "_model_module": "@jupyter-widgets/base",
            "top": null,
            "grid_column": null,
            "overflow_y": null,
            "overflow_x": null,
            "grid_auto_flow": null,
            "grid_area": null,
            "grid_template_columns": null,
            "flex": null,
            "_model_name": "LayoutModel",
            "justify_items": null,
            "grid_row": null,
            "max_height": null,
            "align_content": null,
            "visibility": null,
            "align_self": null,
            "height": null,
            "min_height": null,
            "padding": null,
            "grid_auto_rows": null,
            "grid_gap": null,
            "max_width": null,
            "order": null,
            "_view_module_version": "1.2.0",
            "grid_template_areas": null,
            "object_position": null,
            "object_fit": null,
            "grid_auto_columns": null,
            "margin": null,
            "display": null,
            "left": null
          }
        },
        "f45fcc40f5ee43ec95b11b369cf92efb": {
          "model_module": "@jupyter-widgets/controls",
          "model_name": "DescriptionStyleModel",
          "state": {
            "_view_name": "StyleView",
            "_model_name": "DescriptionStyleModel",
            "description_width": "",
            "_view_module": "@jupyter-widgets/base",
            "_model_module_version": "1.5.0",
            "_view_count": null,
            "_view_module_version": "1.2.0",
            "_model_module": "@jupyter-widgets/controls"
          }
        },
        "e971e249ffb94a349ead7218b6f8f35f": {
          "model_module": "@jupyter-widgets/base",
          "model_name": "LayoutModel",
          "state": {
            "_view_name": "LayoutView",
            "grid_template_rows": null,
            "right": null,
            "justify_content": null,
            "_view_module": "@jupyter-widgets/base",
            "overflow": null,
            "_model_module_version": "1.2.0",
            "_view_count": null,
            "flex_flow": null,
            "width": null,
            "min_width": null,
            "border": null,
            "align_items": null,
            "bottom": null,
            "_model_module": "@jupyter-widgets/base",
            "top": null,
            "grid_column": null,
            "overflow_y": null,
            "overflow_x": null,
            "grid_auto_flow": null,
            "grid_area": null,
            "grid_template_columns": null,
            "flex": null,
            "_model_name": "LayoutModel",
            "justify_items": null,
            "grid_row": null,
            "max_height": null,
            "align_content": null,
            "visibility": null,
            "align_self": null,
            "height": null,
            "min_height": null,
            "padding": null,
            "grid_auto_rows": null,
            "grid_gap": null,
            "max_width": null,
            "order": null,
            "_view_module_version": "1.2.0",
            "grid_template_areas": null,
            "object_position": null,
            "object_fit": null,
            "grid_auto_columns": null,
            "margin": null,
            "display": null,
            "left": null
          }
        }
      }
    }
  },
  "cells": [
    {
      "cell_type": "code",
      "metadata": {
        "colab": {
          "base_uri": "https://localhost:8080/"
        },
        "id": "o2Do7kD1l5ZD",
        "outputId": "fd16e1c8-a909-4312-edc5-576ccf530aba"
      },
      "source": [
        "!pip install transformers"
      ],
      "execution_count": 1,
      "outputs": [
        {
          "output_type": "stream",
          "text": [
            "Collecting transformers\n",
            "\u001b[?25l  Downloading https://files.pythonhosted.org/packages/98/87/ef312eef26f5cecd8b17ae9654cdd8d1fae1eb6dbd87257d6d73c128a4d0/transformers-4.3.2-py3-none-any.whl (1.8MB)\n",
            "\u001b[K     |████████████████████████████████| 1.8MB 5.7MB/s \n",
            "\u001b[?25hRequirement already satisfied: importlib-metadata; python_version < \"3.8\" in /usr/local/lib/python3.6/dist-packages (from transformers) (3.4.0)\n",
            "Requirement already satisfied: tqdm>=4.27 in /usr/local/lib/python3.6/dist-packages (from transformers) (4.41.1)\n",
            "Requirement already satisfied: numpy>=1.17 in /usr/local/lib/python3.6/dist-packages (from transformers) (1.19.5)\n",
            "Collecting tokenizers<0.11,>=0.10.1\n",
            "\u001b[?25l  Downloading https://files.pythonhosted.org/packages/fd/5b/44baae602e0a30bcc53fbdbc60bd940c15e143d252d658dfdefce736ece5/tokenizers-0.10.1-cp36-cp36m-manylinux2010_x86_64.whl (3.2MB)\n",
            "\u001b[K     |████████████████████████████████| 3.2MB 30.7MB/s \n",
            "\u001b[?25hCollecting sacremoses\n",
            "\u001b[?25l  Downloading https://files.pythonhosted.org/packages/7d/34/09d19aff26edcc8eb2a01bed8e98f13a1537005d31e95233fd48216eed10/sacremoses-0.0.43.tar.gz (883kB)\n",
            "\u001b[K     |████████████████████████████████| 890kB 37.7MB/s \n",
            "\u001b[?25hRequirement already satisfied: dataclasses; python_version < \"3.7\" in /usr/local/lib/python3.6/dist-packages (from transformers) (0.8)\n",
            "Requirement already satisfied: regex!=2019.12.17 in /usr/local/lib/python3.6/dist-packages (from transformers) (2019.12.20)\n",
            "Requirement already satisfied: packaging in /usr/local/lib/python3.6/dist-packages (from transformers) (20.9)\n",
            "Requirement already satisfied: filelock in /usr/local/lib/python3.6/dist-packages (from transformers) (3.0.12)\n",
            "Requirement already satisfied: requests in /usr/local/lib/python3.6/dist-packages (from transformers) (2.23.0)\n",
            "Requirement already satisfied: typing-extensions>=3.6.4; python_version < \"3.8\" in /usr/local/lib/python3.6/dist-packages (from importlib-metadata; python_version < \"3.8\"->transformers) (3.7.4.3)\n",
            "Requirement already satisfied: zipp>=0.5 in /usr/local/lib/python3.6/dist-packages (from importlib-metadata; python_version < \"3.8\"->transformers) (3.4.0)\n",
            "Requirement already satisfied: six in /usr/local/lib/python3.6/dist-packages (from sacremoses->transformers) (1.15.0)\n",
            "Requirement already satisfied: click in /usr/local/lib/python3.6/dist-packages (from sacremoses->transformers) (7.1.2)\n",
            "Requirement already satisfied: joblib in /usr/local/lib/python3.6/dist-packages (from sacremoses->transformers) (1.0.0)\n",
            "Requirement already satisfied: pyparsing>=2.0.2 in /usr/local/lib/python3.6/dist-packages (from packaging->transformers) (2.4.7)\n",
            "Requirement already satisfied: chardet<4,>=3.0.2 in /usr/local/lib/python3.6/dist-packages (from requests->transformers) (3.0.4)\n",
            "Requirement already satisfied: urllib3!=1.25.0,!=1.25.1,<1.26,>=1.21.1 in /usr/local/lib/python3.6/dist-packages (from requests->transformers) (1.24.3)\n",
            "Requirement already satisfied: certifi>=2017.4.17 in /usr/local/lib/python3.6/dist-packages (from requests->transformers) (2020.12.5)\n",
            "Requirement already satisfied: idna<3,>=2.5 in /usr/local/lib/python3.6/dist-packages (from requests->transformers) (2.10)\n",
            "Building wheels for collected packages: sacremoses\n",
            "  Building wheel for sacremoses (setup.py) ... \u001b[?25l\u001b[?25hdone\n",
            "  Created wheel for sacremoses: filename=sacremoses-0.0.43-cp36-none-any.whl size=893261 sha256=b5ad18825f83b18427cf382ed7333cf71153bcef1c488172aa4f6c242ec808ee\n",
            "  Stored in directory: /root/.cache/pip/wheels/29/3c/fd/7ce5c3f0666dab31a50123635e6fb5e19ceb42ce38d4e58f45\n",
            "Successfully built sacremoses\n",
            "Installing collected packages: tokenizers, sacremoses, transformers\n",
            "Successfully installed sacremoses-0.0.43 tokenizers-0.10.1 transformers-4.3.2\n"
          ],
          "name": "stdout"
        }
      ]
    },
    {
      "cell_type": "code",
      "metadata": {
        "colab": {
          "base_uri": "https://localhost:8080/"
        },
        "id": "nerBCqTZnc75",
        "outputId": "046c5c98-7d28-41a5-8b5a-83778c6192dd"
      },
      "source": [
        "!git clone https://github.com/nicklogin/ChuckchiHackathon.git"
      ],
      "execution_count": 3,
      "outputs": [
        {
          "output_type": "stream",
          "text": [
            "Cloning into 'ChuckchiHackathon'...\n",
            "remote: Enumerating objects: 4, done.\u001b[K\n",
            "remote: Counting objects: 100% (4/4), done.\u001b[K\n",
            "remote: Compressing objects: 100% (4/4), done.\u001b[K\n",
            "remote: Total 4 (delta 0), reused 0 (delta 0), pack-reused 0\u001b[K\n",
            "Unpacking objects: 100% (4/4), done.\n"
          ],
          "name": "stdout"
        }
      ]
    },
    {
      "cell_type": "code",
      "metadata": {
        "id": "E25oG6Zkm59n"
      },
      "source": [
        "import os"
      ],
      "execution_count": 4,
      "outputs": []
    },
    {
      "cell_type": "code",
      "metadata": {
        "id": "slQhQ1CJoHvL"
      },
      "source": [
        "os.chdir('ChuckchiHackathon')"
      ],
      "execution_count": 6,
      "outputs": []
    },
    {
      "cell_type": "code",
      "metadata": {
        "colab": {
          "base_uri": "https://localhost:8080/"
        },
        "id": "UXtknMPDoQNE",
        "outputId": "8a537b08-7ca5-4c55-e932-938a27e754e5"
      },
      "source": [
        "!unzip чукотский\\ и\\ русский.zip"
      ],
      "execution_count": 8,
      "outputs": [
        {
          "output_type": "stream",
          "text": [
            "Archive:  чукотский и русский.zip\n",
            "  inflating: хакатон/all_corpus_1.txt  \n",
            "  inflating: хакатон/ks87_sent.txt  \n",
            "  inflating: хакатон/kzref.txt  \n",
            "  inflating: хакатон/puzzles.txt  \n"
          ],
          "name": "stdout"
        }
      ]
    },
    {
      "cell_type": "code",
      "metadata": {
        "colab": {
          "base_uri": "https://localhost:8080/"
        },
        "id": "_umVJzYnoXFO",
        "outputId": "48554b09-b18e-48ee-e973-32ce52413101"
      },
      "source": [
        "!unzip только\\ чукотский.zip -d only_chuckchi"
      ],
      "execution_count": 11,
      "outputs": [
        {
          "output_type": "stream",
          "text": [
            "Archive:  только чукотский.zip\n",
            "  inflating: only_chuckchi/только чукотский/edited_chuk.txt  \n",
            "  inflating: only_chuckchi/только чукотский/iknigi_0.txt  \n",
            "  inflating: only_chuckchi/только чукотский/lingvoforum.txt  \n",
            "  inflating: only_chuckchi/только чукотский/rus4all.txt  \n",
            "  inflating: only_chuckchi/только чукотский/skazka.txt  \n"
          ],
          "name": "stdout"
        }
      ]
    },
    {
      "cell_type": "code",
      "metadata": {
        "colab": {
          "base_uri": "https://localhost:8080/"
        },
        "id": "Q6yutEgVorpJ",
        "outputId": "d9846451-d6c3-4578-c458-9513396b450e"
      },
      "source": [
        "!unzip чукотский\\ и\\ русский.zip -d chuckchi_and_rus"
      ],
      "execution_count": 13,
      "outputs": [
        {
          "output_type": "stream",
          "text": [
            "Archive:  чукотский и русский.zip\n",
            "  inflating: chuckchi_and_rus/хакатон/all_corpus_1.txt  \n",
            "  inflating: chuckchi_and_rus/хакатон/ks87_sent.txt  \n",
            "  inflating: chuckchi_and_rus/хакатон/kzref.txt  \n",
            "  inflating: chuckchi_and_rus/хакатон/puzzles.txt  \n"
          ],
          "name": "stdout"
        }
      ]
    },
    {
      "cell_type": "code",
      "metadata": {
        "colab": {
          "base_uri": "https://localhost:8080/"
        },
        "id": "l2vC-5uno3LU",
        "outputId": "53899176-fd82-49e4-da92-1df076e1b296"
      },
      "source": [
        "os.listdir()"
      ],
      "execution_count": 14,
      "outputs": [
        {
          "output_type": "execute_result",
          "data": {
            "text/plain": [
              "['only_chuckchi',\n",
              " 'chuckchi_and_rus',\n",
              " '.git',\n",
              " 'чукотский и русский.zip',\n",
              " 'хакатон',\n",
              " 'только чукотский.zip']"
            ]
          },
          "metadata": {
            "tags": []
          },
          "execution_count": 14
        }
      ]
    },
    {
      "cell_type": "code",
      "metadata": {
        "colab": {
          "base_uri": "https://localhost:8080/"
        },
        "id": "yLizsGf6o5l5",
        "outputId": "08023a68-aa64-4506-bcfa-27093daae893"
      },
      "source": [
        "os.listdir('only_chuckchi/только чукотский')"
      ],
      "execution_count": 16,
      "outputs": [
        {
          "output_type": "execute_result",
          "data": {
            "text/plain": [
              "['rus4all.txt',\n",
              " 'iknigi_0.txt',\n",
              " 'lingvoforum.txt',\n",
              " 'edited_chuk.txt',\n",
              " 'skazka.txt']"
            ]
          },
          "metadata": {
            "tags": []
          },
          "execution_count": 16
        }
      ]
    },
    {
      "cell_type": "code",
      "metadata": {
        "id": "AJQRZq2VpEsq"
      },
      "source": [
        "examples = [\"Её домик в дереве, летает-прыгает, но не птица.\",\r\n",
        "\"85. Тэлвээлек пэнин и’н’к’итыльын.\"]"
      ],
      "execution_count": 28,
      "outputs": []
    },
    {
      "cell_type": "code",
      "metadata": {
        "colab": {
          "base_uri": "https://localhost:8080/"
        },
        "id": "R9_BeXn_rsqx",
        "outputId": "7ce96712-2fc5-4b07-997f-7f00112a9feb"
      },
      "source": [
        "!wget https://dl.fbaipublicfiles.com/fasttext/supervised-models/lid.176.bin"
      ],
      "execution_count": 29,
      "outputs": [
        {
          "output_type": "stream",
          "text": [
            "--2021-02-10 16:04:19--  https://dl.fbaipublicfiles.com/fasttext/supervised-models/lid.176.bin\n",
            "Resolving dl.fbaipublicfiles.com (dl.fbaipublicfiles.com)... 104.22.75.142, 104.22.74.142, 172.67.9.4, ...\n",
            "Connecting to dl.fbaipublicfiles.com (dl.fbaipublicfiles.com)|104.22.75.142|:443... connected.\n",
            "HTTP request sent, awaiting response... 200 OK\n",
            "Length: 131266198 (125M) [application/octet-stream]\n",
            "Saving to: ‘lid.176.bin’\n",
            "\n",
            "lid.176.bin         100%[===================>] 125.18M  13.8MB/s    in 10s     \n",
            "\n",
            "2021-02-10 16:04:29 (12.5 MB/s) - ‘lid.176.bin’ saved [131266198/131266198]\n",
            "\n"
          ],
          "name": "stdout"
        }
      ]
    },
    {
      "cell_type": "code",
      "metadata": {
        "colab": {
          "base_uri": "https://localhost:8080/"
        },
        "id": "o7jh5DFWsfD8",
        "outputId": "c4d2d940-df0d-42a0-89c9-0de8b21695f2"
      },
      "source": [
        "! git clone https://github.com/facebookresearch/fastText.git\r\n",
        "! cd fastText\r\n",
        "! pip install ."
      ],
      "execution_count": 30,
      "outputs": [
        {
          "output_type": "stream",
          "text": [
            "Cloning into 'fastText'...\n",
            "remote: Enumerating objects: 3854, done.\u001b[K\n",
            "remote: Total 3854 (delta 0), reused 0 (delta 0), pack-reused 3854\u001b[K\n",
            "Receiving objects: 100% (3854/3854), 8.22 MiB | 5.60 MiB/s, done.\n",
            "Resolving deltas: 100% (2417/2417), done.\n",
            "\u001b[31mERROR: Directory '.' is not installable. Neither 'setup.py' nor 'pyproject.toml' found.\u001b[0m\n"
          ],
          "name": "stdout"
        }
      ]
    },
    {
      "cell_type": "code",
      "metadata": {
        "colab": {
          "base_uri": "https://localhost:8080/"
        },
        "id": "xLpliG6kspWb",
        "outputId": "9910ee27-4d75-4381-a896-880bcabe0729"
      },
      "source": [
        "!pip install fastText"
      ],
      "execution_count": 32,
      "outputs": [
        {
          "output_type": "stream",
          "text": [
            "Collecting fastText\n",
            "\u001b[?25l  Downloading https://files.pythonhosted.org/packages/f8/85/e2b368ab6d3528827b147fdb814f8189acc981a4bc2f99ab894650e05c40/fasttext-0.9.2.tar.gz (68kB)\n",
            "\r\u001b[K     |████▊                           | 10kB 18.4MB/s eta 0:00:01\r\u001b[K     |█████████▌                      | 20kB 16.1MB/s eta 0:00:01\r\u001b[K     |██████████████▎                 | 30kB 9.5MB/s eta 0:00:01\r\u001b[K     |███████████████████             | 40kB 8.3MB/s eta 0:00:01\r\u001b[K     |███████████████████████▉        | 51kB 4.3MB/s eta 0:00:01\r\u001b[K     |████████████████████████████▋   | 61kB 4.9MB/s eta 0:00:01\r\u001b[K     |████████████████████████████████| 71kB 3.6MB/s \n",
            "\u001b[?25hRequirement already satisfied: pybind11>=2.2 in /usr/local/lib/python3.6/dist-packages (from fastText) (2.6.2)\n",
            "Requirement already satisfied: setuptools>=0.7.0 in /usr/local/lib/python3.6/dist-packages (from fastText) (53.0.0)\n",
            "Requirement already satisfied: numpy in /usr/local/lib/python3.6/dist-packages (from fastText) (1.19.5)\n",
            "Building wheels for collected packages: fastText\n",
            "  Building wheel for fastText (setup.py) ... \u001b[?25l\u001b[?25hdone\n",
            "  Created wheel for fastText: filename=fasttext-0.9.2-cp36-cp36m-linux_x86_64.whl size=3097784 sha256=9731ecf8056404934bea966c06587c76e6e7378525d5330d71b7cf61d2b40d79\n",
            "  Stored in directory: /root/.cache/pip/wheels/98/ba/7f/b154944a1cf5a8cee91c154b75231136cc3a3321ab0e30f592\n",
            "Successfully built fastText\n",
            "Installing collected packages: fastText\n",
            "Successfully installed fastText-0.9.2\n"
          ],
          "name": "stdout"
        }
      ]
    },
    {
      "cell_type": "code",
      "metadata": {
        "colab": {
          "base_uri": "https://localhost:8080/"
        },
        "id": "x3squ6g9tAIf",
        "outputId": "b16fde9c-f39a-4b40-9905-5d84d49f83dd"
      },
      "source": [
        "import fasttext\r\n",
        "\r\n",
        "lid_model = fasttext.load_model(\"lid.176.bin\") "
      ],
      "execution_count": 36,
      "outputs": [
        {
          "output_type": "stream",
          "text": [
            "Warning : `load_model` does not return WordVectorModel or SupervisedModel any more, but a `FastText` object which is very similar.\n"
          ],
          "name": "stderr"
        }
      ]
    },
    {
      "cell_type": "code",
      "metadata": {
        "colab": {
          "base_uri": "https://localhost:8080/"
        },
        "id": "VPQjckn-tZBc",
        "outputId": "0479c8cd-cf72-473c-ce30-e7a2db037655"
      },
      "source": [
        "lid_model.predict(examples[0])"
      ],
      "execution_count": 37,
      "outputs": [
        {
          "output_type": "execute_result",
          "data": {
            "text/plain": [
              "(('__label__ru',), array([0.99599302]))"
            ]
          },
          "metadata": {
            "tags": []
          },
          "execution_count": 37
        }
      ]
    },
    {
      "cell_type": "code",
      "metadata": {
        "colab": {
          "base_uri": "https://localhost:8080/"
        },
        "id": "Li4_6CaNtgRK",
        "outputId": "39692887-2627-4b07-9ec8-19d41413fc5d"
      },
      "source": [
        "lid_model.predict(examples[1])"
      ],
      "execution_count": 38,
      "outputs": [
        {
          "output_type": "execute_result",
          "data": {
            "text/plain": [
              "(('__label__mn',), array([0.45810187]))"
            ]
          },
          "metadata": {
            "tags": []
          },
          "execution_count": 38
        }
      ]
    },
    {
      "cell_type": "code",
      "metadata": {
        "id": "Vdzy5JwUt6WS"
      },
      "source": [
        "from nltk import sent_tokenize\r\n",
        "import nltk"
      ],
      "execution_count": 44,
      "outputs": []
    },
    {
      "cell_type": "code",
      "metadata": {
        "colab": {
          "base_uri": "https://localhost:8080/"
        },
        "id": "AoEulxoWuO27",
        "outputId": "5f92ee28-aba8-4ed6-ffaa-79e09d68fbee"
      },
      "source": [
        "nltk.download('punkt')"
      ],
      "execution_count": 45,
      "outputs": [
        {
          "output_type": "stream",
          "text": [
            "[nltk_data] Downloading package punkt to /root/nltk_data...\n",
            "[nltk_data]   Unzipping tokenizers/punkt.zip.\n"
          ],
          "name": "stdout"
        },
        {
          "output_type": "execute_result",
          "data": {
            "text/plain": [
              "True"
            ]
          },
          "metadata": {
            "tags": []
          },
          "execution_count": 45
        }
      ]
    },
    {
      "cell_type": "code",
      "metadata": {
        "colab": {
          "base_uri": "https://localhost:8080/"
        },
        "id": "shqnMb8HuJz1",
        "outputId": "f63bc9b3-e9e4-4c12-d59a-5217ae3b69ae"
      },
      "source": [
        "sent_tokenize(examples[1])"
      ],
      "execution_count": 46,
      "outputs": [
        {
          "output_type": "execute_result",
          "data": {
            "text/plain": [
              "['85.', 'Тэлвээлек пэнин и’н’к’итыльын.']"
            ]
          },
          "metadata": {
            "tags": []
          },
          "execution_count": 46
        }
      ]
    },
    {
      "cell_type": "code",
      "metadata": {
        "id": "Sq2Fd3Hqt3mn"
      },
      "source": [
        "def get_all_sentences(folder):\r\n",
        "  sentences = []\r\n",
        "\r\n",
        "  print('aaa')\r\n",
        "\r\n",
        "  for root, dirs, files in os.walk(folder):\r\n",
        "    for f in files:\r\n",
        "      if f.endswith('.txt'):\r\n",
        "        with open(os.path.join(root,f),'r',encoding='utf-8') as inp:\r\n",
        "          text = inp.read()\r\n",
        "        sentences += sent_tokenize(text)\r\n",
        "  \r\n",
        "  return sentences"
      ],
      "execution_count": 100,
      "outputs": []
    },
    {
      "cell_type": "code",
      "metadata": {
        "colab": {
          "base_uri": "https://localhost:8080/"
        },
        "id": "-EphgBYYu3S9",
        "outputId": "a51bb94b-a6f7-4f27-ee4f-84d326d5bf0b"
      },
      "source": [
        "os.listdir()"
      ],
      "execution_count": 48,
      "outputs": [
        {
          "output_type": "execute_result",
          "data": {
            "text/plain": [
              "['only_chuckchi',\n",
              " 'chuckchi_and_rus',\n",
              " 'lid.176.bin',\n",
              " '.git',\n",
              " 'чукотский и русский.zip',\n",
              " 'fastText',\n",
              " 'хакатон',\n",
              " 'только чукотский.zip']"
            ]
          },
          "metadata": {
            "tags": []
          },
          "execution_count": 48
        }
      ]
    },
    {
      "cell_type": "code",
      "metadata": {
        "id": "zRO32ZjGu6ya"
      },
      "source": [
        "chuckchi_sentences = get_all_sentences('only_chuckchi')"
      ],
      "execution_count": 53,
      "outputs": []
    },
    {
      "cell_type": "code",
      "metadata": {
        "colab": {
          "base_uri": "https://localhost:8080/"
        },
        "id": "fTAIrOXqviQ7",
        "outputId": "09c91f15-62b0-4c40-d780-f576c3b95130"
      },
      "source": [
        "print([i for i in chuckchi_sentences if '\\n' in i])"
      ],
      "execution_count": 57,
      "outputs": [
        {
          "output_type": "stream",
          "text": [
            "['К’эйвэ эты к’улин ынк’эн ваны тырэльун’ын?»\\nВалка’аральын Рулвэт Пын’ылтэл \\xa0 Рэн’ъатвывакъонвыкэн ярайн’ын.', \"– Ынан юрэк’, ымы вагыргын раплепаквъа…» \\xa0\\nЭ'лвач, тиркык'ымчучьу нъэлыльын \\xa0 ГЫРГОЛЯТТЫЛЯМА тиркытир омын' нынъэлк'ин н'аргынэн, э'квыргъам ванэван кытйъарат, к'элюк' панэна еп нык'эвъявъенток'эн ы'льыл н'айгыпы ынкъам нотаск'эпы, мин'кы н'ан к'увликэ нывытрэтк'ин лыгэран Э'лвачын.\", ' «Яаллъат армавараткен ваамчечаныльыт» Гымнин миргын Тнэтэгын ваамчечальын, эпэкэй-ым Тымнэквына – имчъуинэв\\n Тувъёйпы эпэкэйнэ таляньяппанэнат – вагырга ыттъыёллъат Тнэтэгнынин чавчываратвэрэныткольыт\\n Ытчынан нывиринкин Яйчгынай нутэйиквин\\n Ынкэн нутэйиквин талянъяы ораветльа гэтэйкылин амаравкэнутэйикву\\n Тнэтэгнинин ыттъыётльат ванэван ныкорагынрэтынат\\n Ытръэч нырайоукэн кытвылятгыргын юръэмаравкы яаёлкыл\\n Нымлявыльаткэнат, тинурыткук, пойгынэнтатык, маравляяак ныйгулеткинэт\\n Найэкопы ныкытгынтыттаткэнат, ынкоры-ым выквычкэпы ныпинкучиткинэт, чама найгытолынкы эвильыт кытэпыт нэймиткинэт тэйнэту\\n Ыргынан чыётвама нутэйиквин Ейчгынэйкин Галмыргэн, Авээн вараттэ ычыкагты нытэвиръынкинэт, нытагаканкоранкэнат\\n Ычыгнынныяаркыт Канчаланнутэк вээм Галмыргин ынкъам нэй Авээн\\n Гытгыялканайык нынымытвакэнат елкэльыт, ыргынан нытэйкыкинэт пойгъэныт, тинуркинэтмъамэчьомыткыныт, маравваляйныт\\n Нивкинэт ыекы варатык нытвакэнат чынаеттэ колваратгыпы уйвэльэт, тульыльыт, тэгиннэтыльыт, лыгэн-ым экэлтэтыльыт чэнэтваратык ынкэната-ым гэтэныннынлин-этелкэльыт, ынкъам ытрин нымытван нынныннэгъи Гытгыялкальынай, тана гэтэныннынлин Трехглавая\\n Ытръэч-ым выквэпы тапылвынтык гэйгулетлинэт\\n Нивкинэт кол гитлинэт ынкэкинэт елькэльыт нывыквырэвляткэнат линутэ, ваамъэрынома – ым нэнэрэтын кол выквыёчгын ынкатагнэпы-ым ынкэн вээм нынныяанногъэ Таннуврэр (Танюрэр)\\n Кэлюк-ым елькэльываратык амалва вальын варат нынымытвакэнат блюдцевэмылкэтанныт (ко-о таннымэл микынти), таннывараткэнат (корякыльыт)\\n Тэкэм ынкэнат танныт гэйгулетлинэт выквыпы пылвынтынток\\n Кыцымэнат итык мэлгытанныт, мэлгытанныт,мачъачы мурыгнутэк вытрэтъэт\\n Нутэйиквык Ейчынайгролмакы гамгайнайык гатанванленат Тнэтэгнынин ыттъыётльат\\n Ынкэнат-ым нэгти ычыкнынныяаркыт – Акеутнэй, Мыргынэй, Илгиръынэй\\n Эпэкэйынэ Тымнеквынана лымныл ваамчечавараткэн ыннин нэнатвыкэн «Ваамчечаваратык кол экувликэмаравкылявыл гатвален – Мыргувье\\n Отлё нэрмэкин, танъака кытвыл рытъёлкыл\\n Ытръэт-ым амынан пэнин лейвыльын\\n Пэнин маравваля эмтэльын\\n Тынкы кытийгын Яйчгынайнотаеквэ лейвыльын\\n Кэлюк-ым эвын ынкэн нутэнут гынритъо лынъёлкыл\\n Инкун ынкы мэнин авнамаравка, элвэльинэт оравэтльат ынко этлы элейвыкыльинэт\\n Нивкинэт Ейчгынайнутэйиквин Тиркыйынпэн ванвын\\n Тэкэм-ым Мыргувье амынан Яйчгынай мач рыров вальык янранайык тыттэтыльын экэльэ нэльугъэн Нагыролмыан, напэнрыан\\n Пэнрыткольыт льунинэт\\n Нымкыкинэт, накам-ым амынан\\n Атчыгъэ выквылкык, тинурэ рыпыткавьёоннонэнат\\n Ытръэч-ым амынан, накам экэльыт-ым нымкыкинэт\\n Чимгугъи: «Итык, ыннатал игыр экэльэ кытвыл нэрэнтыгым\\n Вэлер-ым кавэты тынкы тыгинваамчечальэгым въэралекэты мынкиръэ»\\n «Вини ынкэн чимгъун ракылкы луур валёмъэ Мыргувье\\nтаалгылыткогъэ\\n льунин марвклявыл ытръэч танымыльэты нилгыкин гакырвэргыма, накам нынинкин, ныгтинкин\\n «Кэйвэты нирэмури мытръинъэтэнмык?» – пынленэн Мыргувьинэ\\n «Эвыр-ым пытленыльо ритъэ», – татлыныткогъэ элгарклявыл\\n Ырык вэтгавма экэльыт гэтэнэй мэвлинэт\\n «Эгэ, тагъам» – мараввалянгырголявма иквъи Мыргувъи\\n Тэкэм нирэк ыленет наяан маравкы экэлык рээн Мыргувьинэ ынкъам элгарклявыля\\n Киткит мэнин монъэкэлтэтэ\\n Отлё алымы нымкыкин акальыварат\\n Ытръэч пытленыльо, млявыльо ваат Мыргувье гэтумгэ\\n Пылиткук пынленэн Мыргувъинэ клявылтомгын: «Микигыт?» «Конпы имчъэчукнэлгын рымрэкынтыркын\\n Ымы гынинэт аятльат тынкимчьэчук ныйыйкэв, рама пытленыльо ратваныт», – ытръэч ивнин клявылтомга\\n Ынкатагнэпы имчьэчукнэлгын конпы ёрочыко кынмэк йымэтванногъэ, йалгынма-ым каарачыко\\n Маравваляйнын-ым Мыргувьен яатльа ныяакэн мэчкэкын\\n Эпы Тнэтэгын пэлкэтык ынкэн валяйнын тымнэквъэ\\n Нэгны минкы Мыргувье ытри элгарклявыл нэнкытвылевынэт экэльыт, пэлкэтыплыткук ытлен нэнри намайынляан, нынныурэквъи Мыргынэй»\\n «Тнэтэгын Тутъынэнин экык» Тэкэм мэлгытанныт рааленнок нутиннутэк танымъыльэты нанмыткойвыан ваамчечаварат\\n Амынан Тутъынэ-эпэнин ытльа гэегтэлин\\n Тэнэкылпэ элетэврит, тъэр варэт, утъымти ынкъам ыннэн рэтэм тинэнэгнинэт, луурилык ритлининэт рэквыткэгти, Яачгынайгыпы ялгытъэ оттынотагты\\n Лыгэн нылельэткин, кытэкэй нынвилкин, нэнпанъэвнытокэнат моокорат\\n Майныомкынутэк моотылянвык китувъитылельын маравмэлгытаннытан тылянво лыгнин\\n Рылейвынин, лёнпэлята рыннин\\n Накам ытръэч маравваляйнын ынык нытвакэн\\n Тутъынэнэ рэювнин, рэмэлевнин ынкэн таннытан\\n Тутъэнэнин-ым таннытан нэтэнынынъэн оравэтльата Илгыкэутэгин\\n Кэлюк-ым нунтымкин, эръэкэныльэткыльин\\n Чама кытлыги нымигчиръэв гатвален\\n Мэйнынэлвыл нантомгавъан кынмал\\n Кыминэтъыльэтъэт\\n Ытринэт кыминыт – Ынына, Пыккы, Ранаунаут – Чакэ, Ыттъуут, ынкъам гымнин эпы Тнэтэгын\\n 30-е гивинитыт нъэлык минкы нымнымытвакэн Илгыкэутэгин ынкъам Тутъэнэ коммунистат эрму нъэльэт, танымыльо совкоц пэнрыльо нантыннонат\\n Илгыкэутэгин гынпычъэкэ кавтычьоат, ырынтоат\\n Лыгэнитык-ым нэлкэвнэ вынэт, нэлвыл-ым ниткэн\\n Тутъэнэ нэмэ эмтэврит, тъэркай варэт, утъымыт, ерокай ыннэн рэтэм кылтынинэт\\n Мурилыкритлиннинэт тъэр рэквыткэгти, ялгытъэ панэнванвэты айгыскыннотагты, Яйсгынайкачагты\\n Ытръэч энмэч ыныг чээн ялгытгынтэвтылельэтъэт нээккэт Ранъавнавыт –Чакэ, Ыттъуут ынкъам йургынинкэйкэй\\n Экык Тнэтэгын\\n Корарамкыльэн нутэнут галяма Тнэтэгнынэ мэчныги лыгнин тэргыльын ытльа, нинивкин: «Ыммэмэкэй ыннэ атэргатка, митив-ым нэрмэйгыт\\n Чама тылгэмайнатынногъа\\n Таракорагынрэтыркын, тырэнымкэвнын нэлвыл\\n Кырым кыгытъэтгытык»\\n Тутъэнэнэ ытръэч чэмыннувгитэнин\\n Оратчекатъэ Тнэтэгын\\n Чаккэтыг рээн ныкорыгынрэткэн\\n Нэнмэйнэвын нэлвыл\\n Тутъэнэнэ-ым пиринин тумгу магляльыкай Элев\\n Ытрынан нагтоан нээкык Тнэтгэвыт\\n Кол итъи чейвэ рэмкиикви Тнэтэгын\\n Накам конпы нинимтийвыкин маракваляйын Мыргувьинин\\n Кулючивээмык тылянво лыгнин нымным Котгыргынэн\\n Мэйнынэлвыльэн Котгыргын\\n Ыныч ярак рэскиквьи Тнэтэгын\\n Авынральо ынкы ныгпильэткин мургин эпэкэй Тымнэквына\\n Эпэкэйнэ ынкэн вагыргын кэтъок нычемыннунэткин, нивкин: «Лыгэн тыльунэт турык эпэнин лыляйныт тынкы корэн, тивык эмчимгъутэ: «Ынкэн оратчек гымнин ывэкучилкыл»\\nЛинлин кымэк пинтыкэтъи»\\n Чик инъэ Тнэтэгын ченэтрамкэты эквэтъи\\n Эпэкэйнэ пиричкычиннинэт аймыёлгыт, пытльааймычкэквъэ\\n Вээмык кача чинтычкивнинэт кукэт эпэнэ вэнвыеквэ кытгынтырогъэ\\n Мэч кэкын вак Котгыргын чичеквъи, чаккэттомгыкай рэмкыльык яалятъэ\\n Аннэнайпыгъэ пиричкыченнин пойгын, ръэтъеквэ кыленинэт гынтэвыльыт\\n Пыкэрыннольыт Тнэтэгнына нымнымык йонэнат\\n Эпы ытри Котгыргын тэйкэквъэт\\n Котгыргын нымэйынкин чама тайкав вараткэн, эпы мургин ныппылюкин\\n Аны мургин эпы вэнлыги гэрмэлтэтлин\\n Пыткылымнэ аннэнайпыгъэ Котгыргын пойгын пиричкыченнин, пэнрынэн Тнэтэгын\\n Тыгэп маравымгогъат\\n Эпэкэй кытгынтыръогъэ Тнатагнына яранкачагты\\n Эйнэвнин Тутъэнэ\\n Тутъэнэнэ чээн маравынвэты кытгъи Ыттъуут\\n Котгыргына льунин Ыттъуут-ныппылюкин тынкы ытлени, лыляйныт ынкъам тэгнувъэлекинэт кынут пуйгэт кыттэлти\\n Ивнин мургин эпы: «Инъээвъи гынан Тынкывинвъэкэмгыт тульэтъэн гымнин чаккыгэт\\n Кинэйылги гынин чакыгэт, гымнин линлин рагъаагалягъа» Ыннин мургин эпэкэй Тнатагнына ярагты кытъи, Ыттъуут-ым Котгыргына чээн Колёчеваамрамкэты чейвэквэтъи\\n  «Контылян» Майнымаравыплытко Канчалан эмнункы чавчывальэн нэлвылти ыннан совхозэты нагэченнонат тана\\n Ванэван эм гымнин эпы нэнкэтъэн налвыльэнэвнагты\\n Гымнан лыги 51гивик гымнин эпы ынкъам кути чит гарнытоленат налвыльэнэвнаткольэты\\n Ытръэч пэтле нэчичевынэт\\n Ымыльо нэпиринэт\\n Кути нэлкэвнэгынэт, кути Магаданэты нэннивынэт вочкырагты\\n Эпэнэ гымнин ытльа нинивкин: «Добриев атвака кырым юръэ нъуурэтъэн гыто\\n Инэвиринъи»\\n Ко гымнан гэмо ръа Добриев, ытръэч тъивын: «Лыги вэлинкыкинэйгыт виринъэн гымнин эпы, ынкъам урэтъи гымнин ытльа»\\n Гымнан гэмо рэку кэйвэ гэтэныннынлин мургин мургин нымным Канчалано\\n Ытръэч нэнавалемэвым пычвэтвагыльыт эпэкэйнэ рээн Айнантонау ынкам Эттык чаема эмнумкы марыч рак\\n Эттык гивлин: «Этки мытылги тэгинмык совхозатма\\n Чамкык чавчыват нэлгинируткуй вынэт, нэлвыльыт мургинэт ниткэйвынэт»\\n Айнантонау гататлынытколэн: «Ку и-и-ым нан\\n Авэты нан ыннан ванвэты натан ялгытанъюмык\\n Эрыкут еп амайнымарагынмока ченэт нотайпы мытъянгытыръомык, кэлюк-ым ынкы нынсовхоз пэнчыръовкэн варат\\n Алым-ым нан таныемыльо нывинрэткинэт маравыльэты\\n Эвиръыт, корат нинэйылмури»\\n Эпэкэй нэмыкэй нытэпэнинэнуткукин: «Гымык Тнэтэгныкэйин ытлыгылкыл Элев отле ныгынникукин, магляльыкай-ым нан\\n Аны ынкэн гынникыт нинэнэлгыткумури, нэнатъаныпавморы ыкоры-ым нинэнъйитэвмури\\n Элевына-ым магляльа нинэнльэтэткинэт Валкылеты\\n Рыпэт-ым ръэмэниг нэйыльэн»\\n «Аны вэнлыги маравынлытко чавчывварат наналвыльыл энэвнайвыан\\n Ыннан ванвык танымыльо нэнрэвивъюнэт\\n Имчъуильыт, сутпээльыт, чэвтыкэмэльыт\\n Ымы люн ивэ амалва вальыт\\n Цит-ым нутин вааминык ам магляльыт – конральыт нынымытвакэнат\\n Эмтэннынэ, гынникныттэ нынымытвакэнат\\n Нылпууръычиткинэт кол ниткинэт коравальык чээн\\n Рикук – нэлгэ таннэпы ныпирикин чай, таат, ыпляан корагынрэтыльэты ынкэнат вилыткутъулти нынльэтэткинэт, ырыкайпы-ым ныпирикинэт коратакэтчын, лыги эвиръыт, нэлгыт таронкэн, тэрэтэмныкин\\n Вааминын ычыкайпы нынныныякэн Конральэн\\n Чавчыват ымыльо ынкы вээмык рырээвивки алва мытынтыгипэвъэн ынкэн ныннын Концылын – танымыльо нанконынцылавын ыннан нынинымык\\n Моотыляма ынаванвэты, нэвыскэти нытэргаткэнат ымы-ым кылявылтэ мэткиит нытэргъарэкэнат\\n Айвэкай кычьым гэтаё чэкыяаайгыпы кувлинэй вааминын вытрыннок алва мытыгъепоннон Выскынай – амвыскыленытвагыргын, выскычемгъотвагыргын мытльонноан\\n Ытъэт-ым лываквъак конрамагляльыварат корагынрэтык, йыккэй-ым ынкэн вагыргын титэ ынъян\\n Пэнинэт корагынрэтыльыт амнонгыпы рыялгытатъёёттэ нэмэ амнонэты нанъялгытатынат\\n Вэлет-ым ченэткоракай чээн мытмытванномык», – пылыткугъи вэтгавкы гымнин эпэкэй\\n Тэнныткугъи Эттык, чаёолгыткынык рытрилнин чайкойнын, пучъэт рынлининэт, иквъи: – Ымы-ым корагынрэтыльа анкаваратвагыргын чамъам ныяагнэн\\n Увъалякаанты Канээргыаленонгыпы ганалвыльыма гынтэквъи, ялгытыльатъэ нотэннотагты\\n Нутиннутэк пыкирык ытлыгин пэлкэтъи\\n Тэкэм навалемынат ымы нутку расовхоцанныт\\n Майынляплытко ытлыгын, ивнин инъив: «Гымнин нэлвыл кыпиригын\\n Рамъам тырэгитэнынэт эткаёттэ\\n Ытляк рээн Вэлкылык тырэрэвиквъэ»\\n Ынъивэ ивнин: «Чамъам рарыркатъолёгъа»\\n Лымале лунылгэ рыннин ынъив Увъалякаантына,анкаваратвагыргын тыгипгитэнин\\n Рэвиквъэт Вэлкылык, ытльата ивнин: «Отле нылгэнъакаткэкэн ноткэн нымным»\\n Увъалякаантына татлыгнэн: «Ынаан мытрэкэвмык»\\n Кол рыннинэт ытльата льунинэт оравэтльат ръэчильыт анкачормык, йонэнат, пынлёнэнат: «Ныръэгичитури?» «Кун-ым вай нытэйнэтчичимури», – иквъи кол нэвычкэт, ынкъам рыкалыровнэн тэючгииръыр\\n Кутынэ рычичьэвнинэт: «Ытлен леныта нывъэютури?', 'Ноткэнат тынкы эпэпэгти ытръэт нымэйынкинэт, рэку нинэлгытури?» «Нэнапанморэ, нытанчачакэнат рук»,– татлыгнэн нэвычкэтэ\\n Тымнэтвалына (ныннык ытльан Увъалякаантанэн) нэмыкэй гичининэт эпэпэйвытрыт\\n Рагтыгъэ\\n Ярак пыкирык, рыюнэвпэйвытрэ увэтыёнэн, рыпнин пэнъёлгык\\n Пэнъёлгын нылянма гыпэльынногъэ\\n Эвын таалгылятъэ эпэпэйвытрын кокэлгыеквэ, таврэеквы нылекинэт\\n Ванэйпыръома ярак гыролмакы ныкытгынтыръокэн: «Вай-вай, Каанто-о, гымнин аръапат эюугъи»\\n Энаральыт гаглыпкэръат: «Нырэкигыт?» «Кун-вай гымнин аръапат эюугъи кокаймэёлгэпы, таврэткынайпы ръилемъеэркыт», – иквъи Увъалякаантынэн ытльа\\n «Аны янот нынытгылевкин мимыл, ынкоры чеэнмимлычыку ныёокэнат эпэпэйвытрыт\\n Чиинмимлычыку нычелгыръокэнат, нититкинэт» – нанмачынчавынноан Тымнэтваал\\n Кутынэ-ым льунин эймэвтылельын экык: «Чакылкылтэ\\n Кийогын экэлпэ ынъив\\n Эчвэрэ еп эйкунтэткэ итъи\\n Чамъам вай анкачормыльо мытритъэ\\n Эвыр нэриткэнын нэлвыл, танныт кырым ытрынанчинит ныкорагынрэтынат, морыкагты гынритийгут нэрэнтынынэт»\\n Ыннин пэлкынтэтъи Увъалякаанты амнонэты»,– пылыткугъи Эттык\\n Айнантонау иныттугъи, кэтльатъэ ыннин тувкы корагынрэтыльын\\n Амалва вальын вагыргын гатвален гымык миргыкэйымкин игыр кэтъок валёмъё, тычимгуркын: «Отлё нэрмэкинэт гатваленат оравэтльат, танамалва вагырга нэнатантэнмынкэнат, вэнлыги люнпыннэвэ, нъомрычъаткэнат, ныкитныльэткинэт\\n Этъонэл ыргин вагыргын тэнмычъо лынкы»\\n Нивкинэт, нынымытвакэн кол ройыръын Канчаланъэмнункы\\n Кэтэм нан Танюврэрынкач\\n Еп урэткэ ынкэнат нэвыскэт ынкъам клявыл ытринэт ытлыгыт ыннин гэчимгъулинэт: эвыр ырык амъянчъа ройыръык ръурэнныт экык ынкъам нээкык нэрэнчээкэвнынэт\\n Мэч кээкын галяк коле ройыръык урэтъи нинкэй, кутырык-ым нээкэкэй\\n Мэнэтык кылиныт, ытлырык нэнчээкэевынэт\\n Кынур ымыльо чавчыват нынымытвакэнат рычаакаёвъёттэ\\n Ытръэч кутырык авмыльатыргэты, ковчэмгъогты, томык оравэтльагты ленвэрэгты вальыт\\n Такам чэнет ръэтъеквэ ымы чиниткинэт нэнэнэт нэнмэйнэвынэт\\n Ынкэнат нэвычкэт ынкъам клявыл ынпэвъэт нэнэнэк ынкъам ытлывъёкайык гырольнэты\\n Ынпыпалкатынногъэ ытлякай\\n Тэкэм ыргин нымным ныялгытыльаткэн анольэтынвэты\\n Накам-ым нан анольатынвэты ялгытгыргын нэнъэлкин, нурэкин\\n Никитэ ыльыл китык нымуутылекинэт\\n Ылеръок амъёроны нынылкутэвкин кыргычык, танпанъэвныток\\n Волкытвэннок нэмэ ныкоракылгаткэнат, нымуулкивкинэт\\n Нэнэнэтэ тытльэн ытльа майныкаарчыко нынъялгытаткэн\\n Кол итъэт панъэвнытонывильэт тынкыёроны вальык нэйык, ваамчйынрыткынык таронъат, вээмкин тинтин гапрынтатынолэн\\n Ынпынэв эйнэвнин ывэкуч, рэкын ивнин\\n Ынпыначга эккэт ёронылкотаго чыннинэт ваамыткыны\\n Тэкэм минкыри итийгут рыннинэт ытлыгэ ыннин итъэт эккэт, кэлюк-ым тэмнъеп этлы аалёмка атвакыльэн ынпыянвэты\\n Тиркытир гытлягнамгок атчьатъат оравэльат, панъэвнытоплытко амрамоотыляна анольынвэты\\n Тиркытир гынонканоткынатык выргыръугъи чынатыльын ваамгычормыкэн тинтин\\n Оравэтльат ёрочыкойпы ныторъоат\\n Тылпъитэныткыны нынывытрэткин вэтчатвальын ёроны\\n Ытръэч мэнин ымы лёгнытота итъи\\n Ынпыначга нэнавамлекэн выргыргыльын тылпильын тинтин ытръэч омроммачайпынэн нэвъэн, лёнынтота итъи\\n Тылпъильын тинтин ваамкалелы пыльылынва рэквэтэвнин\\n Оравэтльат ваамчормыеквэ ныкытгынтыръокэнат, нъэйнэвкинэт ынпыначгыт ерочыко вальыт, ытръэч-ым ымы мэнин лён колетатлыныткота итъи\\n Тинтин гынунэтэ чынатъэ, ёроны ынкъам ынкэчыку вальыт оравэтльат амэчатъат кокальатгыргын\\n Эгыттагнэты ынкэн нэгны нэтэныннынъэн Еронлыплянай, вээм-ым Еронлыплянайваамо нэтэныннынъэн\\n Чавчыват нивкинэт эвыр мэнин ынкынайванвык ръурэтъэ иплиныльу, ыннан оравэтльа ылгыльэтыльу ритъэ, акачайныкыльо, кырым нывэлвачьатъан, ныкитылинычьэтъэн\\n Ынкъам ынкэната Еронлыплянай ынкачагты ныялгыткэнат кымэнатынольыт торройыръыт', \"Ръэв ынкъам к'ораны\\nАн'к'ачормэпы нылек'ин к'оран'ы, ръэв-ым ан'к'айпы нык'олен- ток'эн:\\n- Китак'ун мынтэйкэвмык.\", \"Пипик'ылгын ынкъам и'н'ыпчик'\\nЭнмэн.\", \"Пипик'ылгэ ивнин и'н'ыпчик':\\n- К'аймыгэ.\", \"Пыкирыльын рамкэпы и'н'ыпчик' пынлёнэн пипикылгэ:\\n- Рэк'э-ым гэначъэлен ыргин яран'ы?\", \"И'ны, вэтлы ынкъам кытэпалгын\\n\\nЫнпъэгычгын гачакэта ялгыттэнмаквъэ.\", \"И'ны иквъи:\\n- Вэлв-игыт, к'ун'элги.\", \"Ынкы иквъи и'ны:\\n- Ынн'атал нымэйын'к'ин тэн'ун'инэн'.\", 'Кыевык вэтлы пынлёгъэ:\\n- Чайкок гититлин?', \"Инъэ и'ны иквъи:\\n- Микынэ н'эвъэну рэлгын'ыркынин гымнин чакыгэт?\", \"Пипик'ылгын ынкъам рэк'окалгын\\n\\nЭмнун'кы гатвален пипик'ылгык'эй.\", \"Пипик'ылгык'эй ик-въи:\\n- Етти!\", \"Пипик'ылгык'эй чен'ыттэтгъи, ин'к'ун рэмкыльын рантогъа, вэтгатгъэ:\\n- Ытръэч=ым мин'кэмил мытрувичвэтгъэ?\", \"Пипик'ылгын иквъи:\\n- Кита ынръам мынатчычет.\", \"Рик'укэтэ гынонъылён'эт к'ырирнин атчыльын, ынк'о иквъи:\\n- Вэлет аны к'ык'олентогэ!\", \"Пипик'ылгын очыткогъэ:\\n- Гым н'утку!\", \"Рыпэт га-ел-ы-нто-лен, ынк'о ик-въи:\\n- Калырогъэ, - гыт эрмэлтэтгъи - иквъи рэк'окалгын пэпэк'ылгэты.\", \"Мэлёталгык'ай ынкъам кэлы\\n\\nМэлёталгык'ай омкычыкогты ы'ск'агтакватгъэ.\", \"Ытльата ивнин:\\n- Ынн'э арыроватка, ратымн'эквъа.\", \"Виврэльыръугъи мэлёталгык'ай, ивнин кэлы:\\n- Гымнан инэнукыльигым ынк'эн тэкичгын!\", \"К'улильыръугъи:\\n- Галгаторэ!\", \"Кытгынтыпкэрмэч кэлы пынлёгъэ:\\n- Э'ми мэлёталгын?\", \"К'ол гатле иквъи:\\n- Мывинрэтгыт энарэрык!\", \"Вэтлы ынкъам мэлёталгык'ай\\n\\nНыралечетк'эн вэтлы эквын'айгыпы.\", \"Гантыятленат, к'улильыръугъи:\\n- Энаральэгыт!\", \"Аны к'инэвинрэтги, тырэпылк'этгъэ...\\nМилютэтэ ымын' люн'гитэтэ рыннин э'йн'эвыткульын, номчеэръыномакавк'эн.\", \"Энаран'ав, ытлъя вэлвин пынлёгъэ:\\n- Ванэван микынэ ныльунин гымнин экык?\", 'Ымыльо иквъэт:\\n- Ванэван.', \"Атчьатык мэлёталгык'ай иквъи ытльагты:\\n- Эргатык мынъялгынмык.\", \"Эчги въик, Украинак гым \\nК'энамайынлятык;\\nМачынан нитгъэн маёлгын\\nВанво въийылк'этык,\\nУн'к'ун ынк'о ергыт, энмыт\\nМэчынкы к'онпы льук,\\nТан'валёмы Днепр-эрмэчьын\\nЭ'йн'эльын имъэлюк...\\nЭчги Украинаеквэ\\nРэйк'ыпыльыльэтгъэ\\nЭк'эльин мутлымул, -ынкы\\nВытку тырэлк'утгъэ,\\nТырэюгъэ... ынкъам этын\\nИ'и'н траванлян'ын\\nЙылынво гымыгнотагты\\nТэн'ычьын вагыргын.\", \"Майынляплыткок, вутилгыт\\nК'ынчимиръэквыткы;\\nЭ'к'эльымутле и'вчимгъут\\nК'ылгинэрмэквыткы.\", \"Ынк'о гым майн'ыройыръык,\\nТоръечьамвагыргык,\\nНытэн'ъэв к'энакэтъотык\\nКычьымвэтгаквыргык.\", 'Увильын Панечев\\n\\n   Увильын Панечев эӈинкыльин, ытръэч эвын ӄонпыӈ ныкорыӄэн, наӄам йъарат этлы эмӈэлюльэткыльин, ытлён нунтымнымӈэлюӄин.', 'Лыгэн йъаяӄыт нэнриӈэвынэт, Панечевына Ӄэргынкаав ивнин рамынноӈэты:\\n   - Ӈотӄэнат-ым галгат.', \"Тантэнмыӈык ынкэгйит, мимыл кынмаӈӄак ръырапэральын, нувӄэн, нимӄин – лыгэӄэтыӈӈольын…\\n\\nЭчги тэймэвык ыныкагты, тэлкылын Вилюӈэйкин эмнуӈкы у'рэтыльын Вутилгын Олег.\", 'Ымы кытур, рымагтыкытор ынӈин нивигыт…\\n\\n- Этаны, энмэч раӄылӄылегым, эрмэ ӄынвэр натаӈынтыяатгым.', 'Этъоӄааӄын вак нэмэ тымӈылёгъан:\\n\\n- Мэӈӄо-ым ныманэльойгыт?', 'Титэ Гиуӈэнэ таӈымыльо рывъёльавъё плыткунин, ытльата йылнин ыныкы кычемалгын:\\n\\n- Ынцаӄ моргынан мынтаяӈын.', 'Мэсӄээӄын вак иниквъи:\\n\\n- Мачвайынрэ мынтэгрэт.', 'Люур ынпыначга таӈавэтываӄ иниквъи:\\n\\n- Гиину лыӈык – ӄыпиригын.', 'Опопылым Павъе рамынноӈэты иквъи:\\n\\n- Ӄылпууръэтгын оттывалята.', 'Павъенпыначгын пынлёнэн:\\n\\n- Иван Григорыч, миӈкы мытрэткивы?', '– ынкъам морыкӄач вакъогъэ, таӈарычгатгъэ…\\n\\n- Ӄыруӈэлӈыги, - иниквъи гым Павъена.', \"Вытку о'пторатвак вэтгавымгогъэ, мэрынрэ:\\n\\n- Гаймаӈэн тымӈалколяӄ ымы тымӈэтвама ӄутти вагыргын ӄынур гэмэчльутэ, чимгъуу гэлгэ.\", '- А-а-а…\\n\\nМытчаёмгомык.', \"– Тэнъытръэч люнчичевэ, рэӄъум ынӄэн тывыркынэн?»\\n\\n- Вагыргыт о'птыма ныватычьата итыркыт, эмэлкэ ӄутти мытпытӄыльуркынэт.\", '- Люнчичевэ тынтыркынигыт…\\n\\n- Ӈаныӄон-ым!', 'Игыр кальэлявылё титыркын…\\n\\nТарычгатык.', 'Ынӈин тывалёмын: «Рэӄи?» Мэткиит точыткогъак: «Кэй… кэй мэлкэйӈын омкычыкойпы гымыкӄачагты…» ынкъам тытленвэнтэтгъэк – ыммэмы гымыкӄач нытваӄэн…\\n\\nПэтле, ӈэргэрръук, мури, ӈинӄэймури, мытчейвэквэт гойгогты, мыткалеткорантамык.', 'Ынӄоры масӄонпыӈ рагтык ӈалвыльэты ныглёйгым ыммамана, масӄонпыӈ рэто нинэлгигым ыммэмэн ӄулиӄул, льулӄыл…\\n\\nЭвын мэйӈэтык ӈэнӄайытвагыргын малӄонпы нэнакэтъойгым.', 'Чаёкванма инэйылгъи таӈпэравалы ынкъам иниквъи:\\n\\n- Гыныкы ӄэвииръу.', 'Тэӈгитэнин гынмылкин кэвын, мэӈӄо мытъялгынмык, ынкъам мэрынрэӄэй иниквъи:\\n\\n- Ӈаанэнмаёлгык гэнылвэтлин гымнин ытлыгын.', \"\\nГАНЫМЫТВАЛЕНАТ ГАТВАЛЕНАТ ЯТЪЁЛ ЫНКЪАМ МЭЛЁТАЛГЫН\\n\\nЯтъёлын яран'ы гатвален тинтинин.\", \"Милютин-ым\\nитк'илгын.\", \"Ынрак'-ым ятъёла тэнн'у лын'ынын'онэн\\nмэлеталгын: \\n- Гымнин яран’ы тагныкэрык'эн, гнин-ым\\nвуск'ымчыку вальын.\", \"Элервугъи ятъёлын яран’ы тылгыгъи эрыкут-ым\\nЯтъёл таарон'ын'огъэ мэлетагты:\\n- Ивкэ гынык ярачермэты вэлер мыльк'ытгъэт, Милютэк'эй.\", \"Милютэтэ татлыгнэн: \\n\\n-Вынэ к'ырым; гнан-ым гымнин яран’ы\\nвоск'ымчыкомаро нинэлгигыт чама тэнн'у нылгыткуйгыт.\", \"Вэты ятъёл арак'атын'огъэ:\\n- Инкун вэлер ярачермэты нъывэтгыльавнэн.\", \"Эргатык нэмэ ятъёл арак'атын'огъэ ин'к'ун\\nтыллыкагыргэты, нъылк'ытгъэн.\", \"Ятъёла нинэтэнринн'ын'к'ин чама нъарак'атк'эн\\n\\nЯтъел к'ынвэр мэлеталгын вэтгыльатгъэ, ин'к'ун ытлен тыллыкагыргэты нъылк'ытгъэн.\", \"Н'рак' ылён'эт галак ятъёл пчан'эты эвын'н'огъэ: \\n- Милютэк'эй, ивкэ кинэнрэск'ивэтыркын ралковты.\", \"Нъарак'атръок'эн ятъёл ин'к'ун милютэтэ\\n\\nНъынатвынэн ятъел.\", \"К'ынвэръым милютэтэ ратвынэн\\n\\nытлен.\", \"Вакъотван'н'огъэ наргын мэлеталгын ынкъам\\n\\nтэргатын'н'гъэ.\", \"Луур вай мэн'к'о ыттъыт ръэлагалягъат:\\n- Тяф-тяф!\", 'Ярагты кытгъэт:\\n-Тяф-тяф-тяф!Тавтаватръоат ыттъыт.', \"Ятъел пэнъелгыткынгыпы эвын'н'огъэ:\\n\\n- Трэлк'утыск'ычэтгъэ!\", \"Чинит егэ\\n\\nнымэрэгтывак'эн.\", \"Луур вай мэн'к'о галян'н'огъэ ины\\nынкъам пынлёнэн мэлёталгын:\\n\\n- йам гыт нытэргатэгыт?\", \"Ины ярагты к'ытгъи милютин, ынкъам к'ъолан'н'огъэ:\\n- Уыыы… уыыы… Ятъелегыт, к'ынтогэ ярайпы милютин!\", \"Ятъет пэнъёлгыткынгыпы эвын'н'огъэ:\\n\\nТрэлк'утыск'ычэтгъэ!\", \"Луур льунин милютэтэ кэйн'ын тылельын:\\n- Милютэк'эй, йам нытэргатэгыт?\", \"Кэйн'ын ярагты к'ытгъи милютин ынкъам кнъайн'ан'н'огъэ: \\n- Ррр…ррр… К'нтогэ эк'ылпэ милютин ярайпы ятъел.\", \"Мэчичъу ятъел пэнъелгыткынгыпы тэнанайылгэты эвын'н'огъэ:\\n\\n - Трэлк'утыск'ычэтгъэ!\", \"Луур льунин\\nТлельын к'легтанн'ыгатлё, нинимтик'ин нак'ам въэйылвинэн'.\", \"Милютэк'эй, йам нытэргатэгыт\\n- К'элюк'-ым ятъёла гинэннэлин чинит гымык ярайпы.\", \"Чейвэтылеркын\\nЧелгы плак'ыльэгым\\nТимтиркын гымнан въэйылвинэн': въэйылвинэн'этэ трэчвиткуйвыгыт.\", \"Валёмнэн рэк'ын ивыльын танн'ык'лекгатле ятъел \\nАйылгыръоэ ынкъам иквьи:\\n- Тавэръэпыркын…\\nНэмэ танн'ыклекгатле к'олентогъэ:\\n\\n-Ку-ка-ре-ку!\", \"Чейвэтылеркын\\nЧелгы плак'ыльэгым\\nТимтиркын гымнан въэйылвинэн':\\nТрэсвиткуйвын'ын гымнан ятъел\\nЭнмэч пенъёлгыткынгыпы к'увириги!\", \"Валёмнэн ятъёл арэк'ынивыльын, айылгыръогъэ\\nЫнкъам иквъи:\\n- Тавэръэпыркы…\\nНэмэ танн'ык'лекгатле к'олентогъэ:\\n\\n- Ку-ка-ре-ку!\", \"Чейвэтылеркын\\nЧелгы плак'ыльэгым\\nТимтиркынгымнан въэйылвинэн';\\nВъэйылвинэн'этэ трэсвиткуйвыгыт.\", \"- Тэръэпыркын…\\nК'легтанн'ыгалгатан'рочаивнин:\\n\\n-Ку-ка-ре-ку!\", \"Сейвэтылеркын\\nЧелгыплак'ыльэгым\\nТимтиркынгымнанвъэйылвинэн'.\", \"Амайылга ятъёл эк'ылпэ пэнъёлгыткынгыпы вирин\\nЫнкэ к'эйгынтэквъи.\"]\n"
          ],
          "name": "stdout"
        }
      ]
    },
    {
      "cell_type": "code",
      "metadata": {
        "id": "Sh6CgAXbvKxu"
      },
      "source": [
        "chuckchi_labels = [lid_model.predict(sent.replace('\\n', ' '))[0][0] for sent in chuckchi_sentences]"
      ],
      "execution_count": 58,
      "outputs": []
    },
    {
      "cell_type": "code",
      "metadata": {
        "id": "ieDnkmTwwGr1"
      },
      "source": [
        "from collections import Counter"
      ],
      "execution_count": 59,
      "outputs": []
    },
    {
      "cell_type": "code",
      "metadata": {
        "id": "zom1d3Qmwhgi"
      },
      "source": [
        "c = Counter(chuckchi_labels)"
      ],
      "execution_count": 63,
      "outputs": []
    },
    {
      "cell_type": "code",
      "metadata": {
        "colab": {
          "base_uri": "https://localhost:8080/"
        },
        "id": "6Iyk7yQdwrBi",
        "outputId": "f3e1e120-55dd-4f0f-b734-0b5a2d7fdda1"
      },
      "source": [
        "sum([val for key,val in c.items()])"
      ],
      "execution_count": 67,
      "outputs": [
        {
          "output_type": "execute_result",
          "data": {
            "text/plain": [
              "1220"
            ]
          },
          "metadata": {
            "tags": []
          },
          "execution_count": 67
        }
      ]
    },
    {
      "cell_type": "code",
      "metadata": {
        "colab": {
          "base_uri": "https://localhost:8080/"
        },
        "id": "hVr3Lxibw121",
        "outputId": "2bb7003b-d953-4d1d-e536-1ecfa2754673"
      },
      "source": [
        "{key: (val, val/1220) for key,val in c.items()}"
      ],
      "execution_count": 154,
      "outputs": [
        {
          "output_type": "execute_result",
          "data": {
            "text/plain": [
              "{'__label__als': (1, 0.000819672131147541),\n",
              " '__label__arz': (1, 0.000819672131147541),\n",
              " '__label__av': (2, 0.001639344262295082),\n",
              " '__label__az': (2, 0.001639344262295082),\n",
              " '__label__ba': (1, 0.000819672131147541),\n",
              " '__label__be': (185, 0.15163934426229508),\n",
              " '__label__bg': (20, 0.01639344262295082),\n",
              " '__label__bxr': (5, 0.004098360655737705),\n",
              " '__label__ce': (1, 0.000819672131147541),\n",
              " '__label__cs': (15, 0.012295081967213115),\n",
              " '__label__cv': (2, 0.001639344262295082),\n",
              " '__label__et': (4, 0.003278688524590164),\n",
              " '__label__hy': (3, 0.002459016393442623),\n",
              " '__label__kk': (9, 0.007377049180327869),\n",
              " '__label__krc': (49, 0.04016393442622951),\n",
              " '__label__ku': (1, 0.000819672131147541),\n",
              " '__label__ky': (7, 0.005737704918032787),\n",
              " '__label__lez': (5, 0.004098360655737705),\n",
              " '__label__li': (1, 0.000819672131147541),\n",
              " '__label__lo': (2, 0.001639344262295082),\n",
              " '__label__mhr': (53, 0.04344262295081967),\n",
              " '__label__mk': (1, 0.000819672131147541),\n",
              " '__label__mn': (339, 0.2778688524590164),\n",
              " '__label__mr': (4, 0.003278688524590164),\n",
              " '__label__myv': (5, 0.004098360655737705),\n",
              " '__label__ru': (215, 0.1762295081967213),\n",
              " '__label__sa': (1, 0.000819672131147541),\n",
              " '__label__sah': (207, 0.16967213114754098),\n",
              " '__label__sl': (1, 0.000819672131147541),\n",
              " '__label__sr': (3, 0.002459016393442623),\n",
              " '__label__tg': (2, 0.001639344262295082),\n",
              " '__label__tt': (72, 0.05901639344262295),\n",
              " '__label__uk': (1, 0.000819672131147541)}"
            ]
          },
          "metadata": {
            "tags": []
          },
          "execution_count": 154
        }
      ]
    },
    {
      "cell_type": "code",
      "metadata": {
        "id": "gHVhkBj34vwk"
      },
      "source": [
        ""
      ],
      "execution_count": null,
      "outputs": []
    },
    {
      "cell_type": "code",
      "metadata": {
        "colab": {
          "base_uri": "https://localhost:8080/"
        },
        "id": "5s6Oc7xZwJk-",
        "outputId": "57eda8d1-8ef0-4b2e-96ea-116ff147a4e2"
      },
      "source": [
        "[sent for sent, label in zip(chuckchi_sentences, chuckchi_labels) if label == '__label__ru']"
      ],
      "execution_count": 161,
      "outputs": [
        {
          "output_type": "execute_result",
          "data": {
            "text/plain": [
              "['Мэлгынвыкэн валы\\xa0 Пын’ылтэл \\xa0 Инъэ, ялгыттэнмавма, бригадира ынпыначгын ивнин: «Павъеельой, вэчьым, тури Эрынк’у чейвэ нъиттык?',\n",
              " '— Нымэлк’ин?',\n",
              " 'Тыгитэн Павъе.',\n",
              " '— Пэнъёлгываны лыгэракэн.',\n",
              " 'Н’аанкы-ым, — кэн’унэн’этэ рыкалыровнэнат лымн’э к’утти выквыт, — энаальэн ралк’ан’ын.',\n",
              " 'Кытоор мури н’утку ганотваморэ.',\n",
              " 'Павъенпыначгын пынлёнэн: — Иван Григорыч, мин’кы мытрэткивы?',\n",
              " '— Мури виин мынманэгротватыркын.',\n",
              " 'Энмэч гэвулк’ытвилин.',\n",
              " 'Пэнъёлгык к’ача нывакъотвак’эн Павъе.',\n",
              " 'Ръэнут н’ан ынк’о ныннупэтк’ин, малпылвынтывытрын нъалянтатк’эн.',\n",
              " '«Малвалы», — тычимгъугъэк.',\n",
              " '— Колё, мэй, гувэтлин!',\n",
              " 'К’эйвэ?',\n",
              " 'Чемыск’ываамк’ай пэтле и’рнин.',\n",
              " '— Валы?..',\n",
              " '— А-а-а… Мытчаёмгомык.',\n",
              " '— Н’элвыл амэчатгъэ, — рытрилнин койн’ын ынпыначга.',\n",
              " 'К’эйвэ?',\n",
              " '— О’ратнотагты амыглёта, — тан’ъоран’ ынпыначга нэнанвэтгаатк’эн гымо: — Амгынан ети?',\n",
              " '— Эви-и.',\n",
              " '— К’элюк’-ым.',\n",
              " '— Н’утку, эмнун’кы а’к’альон’, — тымн’ъатав тивын Павъе.',\n",
              " 'К’эйвэ?',\n",
              " '— инивыск’ычетгъи Павъена.',\n",
              " '— Н’рок’ав класс плыткук?',\n",
              " 'К’эйвэ?',\n",
              " '— Русильымил?..',\n",
              " 'Пэнъёлгык к’ача.',\n",
              " 'Люнрэйк’унтэнн’ыльигым.',\n",
              " 'Ынн’ин вак тывалёмын: «Рэк’и?» Мэткиит точыткогъак: «Кэй… кэй… кэйн’ын омкычыкойпы гымыкк’ачагты…» ынкъам тытленвэнтэтгъэк — ыммэмы гымык’к’ач нытвак’эн… Пэтле н’эргэръук мури, н’инк’эймури, мытчейвэквэт гойгогты, мыткалеткорантамык.',\n",
              " '«Ыммэмы», — эмк’элелвынэ тивык ынкъам ынкэк’эй к’ынур тывалёмынат ытльэн вэтгавыт: «К’ылетцын, к’ылетцын, Эрынк’ук’эй».',\n",
              " 'Нинэнригым нитчерэк’ин валы.',\n",
              " 'Ынн’энъылё мури Павъе к’аантальо гинмури.',\n",
              " 'Ынн’атал выентэтэ вальын ынк’эн к’ивъечьэчен’ рэн’ъатвывакъонвык Анадыркэн.',\n",
              " 'Атымн’эрак’ыльаткыльэн, нунтымк’ин.',\n",
              " 'Н’ээкык энмэч мэйн’эти, эмиче.',\n",
              " 'Вай энмэч амн’ырооткэн гивин’ит эльукэ тынтыркын – палк’аттагнэпы н’эвъэнк’эй Гивын’ы.',\n",
              " 'Э’квыргъам нивын, янор нырин’эн Въэн’эты – н’энку румэкэнн’ыт к’орагынрэтыльыт.',\n",
              " 'Вакъогъэ ытлён диваныткынык тъэратконвы, чотатэ рэлпэты Пэнтон – вытку льоё омаканма.',\n",
              " 'Мытрин’эркын?',\n",
              " '– Ванэван.',\n",
              " 'Пэнтона э’тйиву люн’ылгэ рыннин, тэн’ытръэч ивнин: – К’оо.',\n",
              " 'Путурэк ынн’атал нымлык’эн!',\n",
              " 'Рулвэт витылк’иви – мин’кы гэльулин ынк’эн льулк’ылк’эй?',\n",
              " 'Нэмэ лылянныматэ ынкъам тэкэм ынкы валёмнэн вэтгавъёлгэпы рымн’ылявъё пын’ыл: – Вакъонвы билетынкалыровымгоркыт рин’эльыт Москвагты самолёта 2211.',\n",
              " '– Вай, вай, гымнин н’ээккин к’улик’ул?',\n",
              " '– рэймэвык н’инн’эвыск’эт, пынлёнэн Рулвэтынэ.',\n",
              " 'Лылечурмэ рыкалырова рыгйивэннин вэтчатвальын билетынчечьатынвык вальын к’лявыл, гагчыск’эты, выквачьата, нак’ам аалёмкэгты, иквъи: – Эк’уликэ, эк’уликэ.',\n",
              " '– Янор мынтъирэтку, – рамыннон’эты очнэн Пэнтона.',\n",
              " 'Люур вай: – Рак’ылк’ыл!',\n",
              " '– Ръэнут?',\n",
              " 'Эчги-ым льунин гынмылкин а’ачек, джинсык’онагльан, рэмыннун’и.',\n",
              " '«К’эмиплыткуи’, омаквъэ», – тан’ычьэты гитэнин Рулвэтынэ омэчаттыляльын а’ачек.',\n",
              " 'Еп этэнлелюнн’экыльин, онтымытвагты игыр ныпэрак’эн.',\n",
              " 'Н’энку-ым… К’эйвэ эты раматан’ын гынмыл тывъё путурэн’эвыск’этк’эй?',\n",
              " 'К’эйвэ эты н’эвыск’этк’эй гыныгрээн рэмнун’эты?..',\n",
              " 'К’элюк’, ынн’ин нивк’инэт валк’аральыт, амк’ынэргатык, гуйгук вама, колё гъэк’имлюлин, нак’ам тэн’имыръэнут гэлпылин – энарак, ченэтрак-оттырак’айык, лыгититэепкин тайкыёк.',\n",
              " '«Эмнун’кы тырэмэлевы, – нымычвынатк’эн Рулвэт.',\n",
              " \"Ынкатагнэпы рэмкын нымкык'ин гивиткун'ит гъэнк'эръулин эймэвык торваамэты, ивэ, этааны, ынкы нымытван'н'огъат кэльэт.\",\n",
              " \"Чинит-ым этынвэн, атъылёкэйъэлгык нъэлгъэт н'ирэк'ликкин мытлын'эн парол.\",\n",
              " \"Ынк'оры, панэна еп ёрок к'ача вэтчатвама, чывачгынлегъэ Раглын'ан'к'ачагты ынкъам вэтгыры иквъи: \\xa0– Ынк'эн к'ырымэн и'ны!..\",\n",
              " \"Э'ЛВАЧ нылек'ин вэнвыеквэ тульыльин.\",\n",
              " \"Ынан лыги, ин'к'ун нутэтумгэ тольыо'равэтльат ганрак'ылк'ылява, гэнвэ нымнымгыпы.\",\n",
              " \"«Гым чинит этынвэгым!» – ынн'ин к'онпын' нычимгъук'ин ытлён, титэ мин'кри нытульыск'ивк'ин.\",\n",
              " \"Чинит-ым ытлён маск'онпын' ляйвынвык гатвата – рамкыеквэйпы тольатынво ръэнут чачальын.\",\n",
              " \"Н'инк'эе румкэвнин тольатъё каарачыко, мин'кыри ынк'оры о'птытъар ы'лён'эт винвэ нылк'ытк'ин ронво тольатъё.\",\n",
              " \"«Такамытлён, Кыргыян», – эмк'элелвынэ иквъи Э'лвач.\",\n",
              " \"– К'ынви-и-и-л!\",\n",
              " \"К'ынвэр Э'лвач к'олентогъэ: \\xa0– Кыргыянвык'ай!\",\n",
              " 'Ытри нывилгъэт амъянра рыров.',\n",
              " \"Ынк'эната йъарат лён'ыйк'ытчота этын'н'огъэ ытлён.\",\n",
              " \"«Ылён иа'м тырайъон'ыркын?\",\n",
              " \"– ынн'ин нэмэ чимгъугъи ытлён, льома ы'ттъыёча ныппылюк'ин ывикк'эй.\",\n",
              " \"– Ытлён танымчан'ынво?\",\n",
              " \"Кыргыян-ым ынкы, титэ люнльутэ рыннин вэлеркылельын, чимгъугъи: «Э'митлён ытлён?\",\n",
              " \"Чит-ым алымы Э'лвач нытъивк'ин, к'эйвэ алымы маск'онпын' рачыко варкын».\",\n",
              " \"Ытръэск'ун-ым ынн'ин иткыльин – Э'лвач эйгулеткыльин тэмъюн'ыткук, ытлён ныкэтгук'ин».\",\n",
              " \"Э'лвач янор тальолк'ын'эты кын'этгъи.\",\n",
              " \"Эчги ынан льунин Э'лвач, янор тагъенчагъэ, ынк'оры к'олентогъэ: \\xa0– Нырэк’игыт ынкы?\",\n",
              " \"Йъок-ым Э'лвач, эвын'н'огъэ: \\xa0– Како, како, мэй!\",\n",
              " \"– эчги-ым чичеквъи, моонэн Э'лвач выквэпы рывантовык, мэткиит к'ол выквыйн'ын рырултэннин, э'милёната гаталялен гыткалгын.\",\n",
              " 'Ганоратвавлен рыгырголявык.',\n",
              " \"Э'лвач тан'авъеткынка нытвак'эн.\",\n",
              " \"Н'оонк'эн-ым панэна еп лылянныматэты, авъеткынка нытвак'эн.\",\n",
              " \"К'ынвэр мэрынрэк'эй, э'квыргъам танчечавын' иквъи: \\xa0– Ынн'э, эвнъээ'ткэ.\",\n",
              " \"Кыргыянына унмыейвэчу рытчынин Э'лвач, чемгъон'н'огъэ: «Ынн'атал тотъэты вальын!\",\n",
              " \"«Авнарагтыка?» – чит рамн'ылёгн'ынэн ынан Э'лвач, пууръу-ымиквъи: \\xa0– Иам' яран'к'ачагты гэлийгыт?\",\n",
              " \"Гитэнинэт н'эйыт, э'митлёнырык нытан'ынпэравк'эн нутэнут.\",\n",
              " \"Тан'к'эглынангэт ытлён гагтыпыннавлен, рыпэт гэмэчкулюмкэтлин к'эн'ъаёгты.\",\n",
              " \"«Ынн'от-ым вай – к'онпын'акватгъэ Э'лвач, – чимгъугъи Кыргыян.\",\n",
              " \"Ръэв ынкъам к'ораны\\nАн'к'ачормэпы нылек'ин к'оран'ы, ръэв-ым ан'к'айпы нык'олен- ток'эн:\\n- Китак'ун мынтэйкэвмык.\",\n",
              " \"Мэн'ин эплеэн арман' вальын!\",\n",
              " '- Ээ!',\n",
              " 'Мынтэйкэвмык!',\n",
              " \"Ръэвэ ан'к'ы нэнанпэглявк'эн н'ойн'а, ытръэч лымынкыри мимыл нэтчетыръок'эн.\",\n",
              " \"- Гэвылк'этлин титин'ы.\",\n",
              " \"- Опопы к'ырэмкичиги нымэты.\",\n",
              " '- Ии, вынэ мырэмкичик.',\n",
              " \"- Ы'ттъыгытолк'ыля.\",\n",
              " \"- Рэк'э-ым нык'амэтватк'энат?\",\n",
              " '- Гэлвылин.',\n",
              " \"- Э'ми-ым илиил?\",\n",
              " \"- Пычик'этэ гэлпылин.\",\n",
              " \"- Э'ми пычик'эт?\",\n",
              " \"- Гэрин'элинэт.\",\n",
              " \"Ныгнатк'эн чакыгэт и'гины.\",\n",
              " 'Мынчайпат.',\n",
              " \"И'г-э гитэск'ивнинэт, уйн'э!\",\n",
              " \"Ынн'ин ивыплыткук вэтлы нэмэ рылыск'эквъэ.\",\n",
              " \"- Гым тырун'элы.\",\n",
              " 'Кыевык вэтлы пынлёгъэ:\\n- Чайкок гититлин?',\n",
              " '- Ии.',\n",
              " '- Вынэ мынчаёмык.',\n",
              " '- Гачаёплыткоморэ.',\n",
              " '- Кита виин чайпанма мынувичвэнмык!',\n",
              " '- Ев-ев, вынэ янот мынчаёмык!',\n",
              " \"- Мынпин'к'учит!\",\n",
              " '- Кита мынтэйкэвмык!',\n",
              " \"Аны к'ол ганн'энайпылен.\",\n",
              " 'Эйпынин.',\n",
              " 'Кылельэквэтгъи.',\n",
              " \"Люур тылянвык милютк'эе льунинэт галгат.\",\n",
              " \"Аны ынк'о рэнтычганнэн кэлы!\",\n",
              " 'Ытлья гъоптычайпатлен.',\n",
              " \"Ымыльорык нанъяк'эн ун'этльэн.\",\n",
              " 'Вэнлыги тъаркэнайпы таӈамчачагты тэйӈэтти нинэнтыӄинэт.',\n",
              " 'Ӄол рыннинэт ынныӈыттыльыт «рыгалгатъолёвнэнат».',\n",
              " 'Увильын нанъаӄэн, миӈкыри ӄун нинъыӄин.',\n",
              " 'Ыннин ыʼттъымыт гамайынляленат амноӈэты Панечевына готкочьынтыватленат.',\n",
              " 'Аны ыннъыттъымык колё йъаяӄ, нывакъотваӄэн.',\n",
              " 'Лыгэн йъаяӄыт нэнриӈэвынэт, Панечевына Ӄэргынкаав ивнин рамынноӈэты:\\n   - Ӈотӄэнат-ым галгат.',\n",
              " 'Ӄэргынкаав «галгаӈыттыма», Панечев «ныгалгаргоӄэн», эвыр ынкы нэнарыгнарӄэнат.',\n",
              " '- Ыʼмто галготык?',\n",
              " '- Нинъыӄинэт галгат?',\n",
              " 'пынлёгъэ Семенков.',\n",
              " 'Аплёратвака рэннин левтъэтйивӄэй.',\n",
              " 'Мэӈин люнчичевэ нитӄин, раӄынвы румэкэвыркынинэт йъаяӄэн левтыт.',\n",
              " 'Игыр, октябрь гынунэтык, ынӄэнат колё нытаӈэлгыпэраӄэнат – тынӄы Фудзияма картинкак.',\n",
              " '- Ганъеӈынтыватэгыт?',\n",
              " \"- Э'квырга таӈынныгалягъэ?\",\n",
              " '- Тэленъеп… Мэвын тъыннук, анныкэмачы.',\n",
              " 'Итык-ым, ӈутку эмнуӈкинэмил лёӈпэрата.',\n",
              " 'Ӄэнъеквээмӄэйык лёӈварэӈочьыннота титыркын.',\n",
              " 'Гэкэлиткулин Иркутскыкэн университетык.',\n",
              " 'Советкэн власть вама, эмӄынгивик гырокы амноӈэты нэквэтӄин, нывыквыэнарэрысӄэвӄэн.',\n",
              " '– Кытутйит амкоргава, акваттэнмавма.',\n",
              " 'Ӄээӄын ръэнут лёӈытва рыннин.',\n",
              " 'Пэтле ытлён тыпэлян.',\n",
              " 'Рэӄык?',\n",
              " 'Алымы панэна наройвыӄэн, еп энпэвкыльин.',\n",
              " \"Ӄэлюӄ ванэван амынан ытлён амэгчеркэо'равэтльо нитын эвыннымнымык Чукоткакэн.\",\n",
              " \"Лымӈэ Тавайваамык – тъэр экэликэ рытъёттэ эмигчиркэ вальыт о'равэтльат?\",\n",
              " \"Кытъаткэ ымы ытлён тымӈэтвао'равэтльо нъэли, городкэн ляйвыткоо'равэтльо.\",\n",
              " 'Этлы чинит.',\n",
              " 'Ымы пенсияльо еп люнринӈэ.',\n",
              " '- Манэт.',\n",
              " 'Кытъаткэ-ым ынӄэнат сберкнижкат люӈкэлильыт.',\n",
              " '- Постановленияйпы губернаторэн.',\n",
              " 'Йъилгык ӄорагынрэтыльыморэ нылпынрыморэ 500 рыблята, ӈэвысӄэтти – 1000.',\n",
              " '- Лыгэн-ым лёӈӈъота?',\n",
              " '- Манэлпынрык нымэлӄин – рымкэвык.',\n",
              " 'Итык-ым эрым окрсельхозуправлениек (ипэ департамент), мэӈин тыйъон, нивӄин, энмэн манэлпынрыгыргын нэрэнымкэвӈын.',\n",
              " 'Гыройъэлгык ынин рэнъэлӈыт 62 элеӈитти.',\n",
              " 'Льэлеӈкы чама нуткучьыткуӄин.',\n",
              " 'Ынкыгрээн манэяакэнат.',\n",
              " 'Кытъаткэ гэвэты, ӄэйвэ эты варкыт 150.000 рублти Выквынэн?',\n",
              " 'Чама тычимгъугъэк, тынӄы кэлигйит Гоголын вагыргын пэраркын, титэ Чичиковына, героя кэликин «Мёртвые души», нинэркурӄинэт помещикэн уйӈэ вальыт крестьянтэ, энмэч въильыт, наӄам калетвальыт эмэлкэ ягталытвальо.',\n",
              " 'Гиуӈэӄэй нынмэйӈэвӄин интернатык.',\n",
              " 'Айваръавыплыткок, ытльата ӈааккагты рывъёльавнэн рылек рынныт.',\n",
              " '- Рэӄысӄиви гарынныма?',\n",
              " '– пынлёнэн эймэвильэ энаальа ытля Гиуӈэн.',\n",
              " 'Тивын: «Ӄынлегын».',\n",
              " 'Инъэ, ялгыттэнмавма, очоча ынпыначгын ивнин: «Павъеельой, вэчьым, тури Эрынӄу чейвэ нъиттык?',\n",
              " 'Тыгитэн Павъе.',\n",
              " '– Пэнъёлгываны лыгэракэн.',\n",
              " 'Ӈаанкы-ым,- кэӈунэӈэтэ рыкалыровнэнат лымӈэ ӄутти выквыт, - энаальэн ралӄаӈын.',\n",
              " 'Кытоор мури ӈутку ганотваморэ.',\n",
              " 'Энмэч гэвулӄытвилин.',\n",
              " 'Пэнъёлгык ӄача нывакъотваӄэн Павъе.',\n",
              " 'Ръэнут ӈан ынӄо ныннупэтӄин, малпынвынтывытрын нъалянтатӄэн.',\n",
              " '- Колё, мэй, гувэтлин!',\n",
              " 'Ӄэйвэ?',\n",
              " \"Чемысӄываамӄай пэтле и'рнин.\",\n",
              " '- А-а-а…\\n\\nМытчаёмгомык.',\n",
              " 'Ӄэйвэ?',\n",
              " \"- О'ратнотагты амыглёта, - таӈъораӈ ынпыначга нэнанвэтгаатӄэн: - Амгынан?\",\n",
              " \"- Ӈутку, эмнуӈкы а'ӄальоӈ, - чит а'тав тивын.\",\n",
              " '- Гэ-гэ-гэ-гэ, - мэрынрэӄэй люур танӈыткольатымгогъэ ытлён, ӄынур коргавыльын.',\n",
              " 'Ӄэйвэ?',\n",
              " '– инивысӄычетгъи Павъена.',\n",
              " '– Гымнин экык Сергей льэлеӈкы кытур отпускыма интернатык рэрэсӄивлин.',\n",
              " 'Лывавнэн.',\n",
              " '- Ӈроӄав класс плыткук?',\n",
              " 'Ӄэйвэ?',\n",
              " 'Пэнъёлгык ӄача.',\n",
              " 'Ынӈин тывалёмын: «Рэӄи?» Мэткиит точыткогъак: «Кэй… кэй мэлкэйӈын омкычыкойпы гымыкӄачагты…» ынкъам тытленвэнтэтгъэк – ыммэмы гымыкӄач нытваӄэн…\\n\\nПэтле, ӈэргэрръук, мури, ӈинӄэймури, мытчейвэквэт гойгогты, мыткалеткорантамык.',\n",
              " \"«Ыммэмы», эмӄэлелвынэ тивык ынкъам ынкэӄэй о'птыма тывалёмынат ынин вэтгавыт: «Ӄылетцын, ӄылетцын, Эрынӄуӄэй».\",\n",
              " 'Ӄэйвэ эты ӄулин ынӄэн ваны тырэльуӈын?»',\n",
              " \"\\nГАНЫМЫТВАЛЕНАТ ГАТВАЛЕНАТ ЯТЪЁЛ ЫНКЪАМ МЭЛЁТАЛГЫН\\n\\nЯтъёлын яран'ы гатвален тинтинин.\",\n",
              " \"Вэты ятъёл арак'атын'огъэ:\\n- Инкун вэлер ярачермэты нъывэтгыльавнэн.\",\n",
              " \"Н'рак' ылён'эт галак ятъёл пчан'эты эвын'н'огъэ: \\n- Милютэк'эй, ивкэ кинэнрэск'ивэтыркын ралковты.\",\n",
              " \"Нъарак'атръок'эн ятъёл ин'к'ун милютэтэ\\n\\nНъынатвынэн ятъел.\",\n",
              " \"К'ынтогэ мэлёт ярайпы к'рымэн гынин яран'ы!\",\n",
              " \"Чинит егэ\\n\\nнымэрэгтывак'эн.\",\n",
              " \"- К'элюк'-ым гым ятъела чинит ярайпы гинэннэлин.\",\n",
              " \"- К'элук'-ым гым ятъела чинит ярайпы гинэннэлин.\",\n",
              " \"- К'паагэ впэргатык.\",\n",
              " \"Кэйн'ын ярагты к'ытгъи милютин ынкъам кнъайн'ан'н'огъэ: \\n- Ррр…ррр… К'нтогэ эк'ылпэ милютин ярайпы ятъел.\",\n",
              " '- Ку-ка-ре-ку!',\n",
              " \"К'легтанн'ыгатле к'ытгъи ярагты милютин.\",\n",
              " '-Ку-ка-ре-ку!',\n",
              " \"Энмэч пэнъёлгыткынгыпы к'увмриги!\",\n",
              " \"Энмэч пэнъёлгыткынгыпы к'увириги!\",\n",
              " \"- Тэръэпыркын…\\nК'легтанн'ыгалгатан'рочаивнин:\\n\\n-Ку-ка-ре-ку!\"]"
            ]
          },
          "metadata": {
            "tags": []
          },
          "execution_count": 161
        }
      ]
    },
    {
      "cell_type": "code",
      "metadata": {
        "colab": {
          "base_uri": "https://localhost:8080/"
        },
        "id": "c31iC2CDxWwY",
        "outputId": "32b3ee5c-3f93-40ea-c8cd-da3ef7e0de76"
      },
      "source": [
        "mixed_sentences = get_all_sentences('chuckchi_and_rus/хакатон')"
      ],
      "execution_count": 109,
      "outputs": [
        {
          "output_type": "stream",
          "text": [
            "aaa\n",
            "ok\n"
          ],
          "name": "stdout"
        }
      ]
    },
    {
      "cell_type": "code",
      "metadata": {
        "id": "IQCrg61Ixim8"
      },
      "source": [
        "mixed_labels = [lid_model.predict(sent.replace('\\n', ' '))[0][0] for sent in mixed_sentences]"
      ],
      "execution_count": 111,
      "outputs": []
    },
    {
      "cell_type": "code",
      "metadata": {
        "id": "kQ9Nf_OVxs1N"
      },
      "source": [
        "c1 = Counter(mixed_labels)"
      ],
      "execution_count": 112,
      "outputs": []
    },
    {
      "cell_type": "code",
      "metadata": {
        "colab": {
          "base_uri": "https://localhost:8080/"
        },
        "id": "bdHZ6JV7x2qD",
        "outputId": "0ca120b2-a1de-4369-a55f-fc383e755ed1"
      },
      "source": [
        "sum([val for key,val in c1.items()])"
      ],
      "execution_count": 113,
      "outputs": [
        {
          "output_type": "execute_result",
          "data": {
            "text/plain": [
              "5219"
            ]
          },
          "metadata": {
            "tags": []
          },
          "execution_count": 113
        }
      ]
    },
    {
      "cell_type": "code",
      "metadata": {
        "colab": {
          "base_uri": "https://localhost:8080/"
        },
        "id": "btjc8UbAxxgC",
        "outputId": "dc5ebae6-9d14-4993-c63c-f4d687b95bf9"
      },
      "source": [
        "{key: (val/5219, val) for key,val in c1.items()}"
      ],
      "execution_count": 155,
      "outputs": [
        {
          "output_type": "execute_result",
          "data": {
            "text/plain": [
              "{'__label__am': (0.00019160758766047136, 1),\n",
              " '__label__ar': (0.00019160758766047136, 1),\n",
              " '__label__av': (0.0005748227629814141, 3),\n",
              " '__label__az': (0.00019160758766047136, 1),\n",
              " '__label__bcl': (0.00019160758766047136, 1),\n",
              " '__label__be': (0.07415213642460242, 387),\n",
              " '__label__bg': (0.005173404866832727, 27),\n",
              " '__label__bxr': (0.0011496455259628281, 6),\n",
              " '__label__ce': (0.0009580379383023567, 5),\n",
              " '__label__ceb': (0.0007664303506418854, 4),\n",
              " '__label__cs': (0.011113240084307339, 58),\n",
              " '__label__da': (0.0009580379383023567, 5),\n",
              " '__label__de': (0.0011496455259628281, 6),\n",
              " '__label__en': (0.004406974516190841, 23),\n",
              " '__label__eo': (0.00019160758766047136, 1),\n",
              " '__label__es': (0.0005748227629814141, 3),\n",
              " '__label__et': (0.0009580379383023567, 5),\n",
              " '__label__fi': (0.0003832151753209427, 2),\n",
              " '__label__fr': (0.0024908986395861276, 13),\n",
              " '__label__hr': (0.00019160758766047136, 1),\n",
              " '__label__hu': (0.0007664303506418854, 4),\n",
              " '__label__hy': (0.00019160758766047136, 1),\n",
              " '__label__it': (0.0007664303506418854, 4),\n",
              " '__label__jv': (0.0003832151753209427, 2),\n",
              " '__label__kk': (0.0011496455259628281, 6),\n",
              " '__label__krc': (0.012454493197930638, 65),\n",
              " '__label__ky': (0.0013412531136232995, 7),\n",
              " '__label__lez': (0.001532860701283771, 8),\n",
              " '__label__li': (0.00019160758766047136, 1),\n",
              " '__label__lt': (0.00019160758766047136, 1),\n",
              " '__label__mhr': (0.035064188541866256, 183),\n",
              " '__label__mk': (0.00019160758766047136, 1),\n",
              " '__label__mn': (0.19122437248515042, 998),\n",
              " '__label__mr': (0.0019160758766047135, 10),\n",
              " '__label__my': (0.00019160758766047136, 1),\n",
              " '__label__myv': (0.004406974516190841, 23),\n",
              " '__label__nl': (0.00019160758766047136, 1),\n",
              " '__label__no': (0.00019160758766047136, 1),\n",
              " '__label__pl': (0.0009580379383023567, 5),\n",
              " '__label__pt': (0.001532860701283771, 8),\n",
              " '__label__ru': (0.43437440122628856, 2267),\n",
              " '__label__sah': (0.16363287986204253, 854),\n",
              " '__label__sl': (0.00019160758766047136, 1),\n",
              " '__label__sr': (0.0005748227629814141, 3),\n",
              " '__label__tg': (0.0011496455259628281, 6),\n",
              " '__label__tt': (0.033531327840582485, 175),\n",
              " '__label__tyv': (0.00019160758766047136, 1),\n",
              " '__label__uk': (0.004981797279172255, 26),\n",
              " '__label__uz': (0.00019160758766047136, 1),\n",
              " '__label__xal': (0.00019160758766047136, 1),\n",
              " '__label__zh': (0.00019160758766047136, 1)}"
            ]
          },
          "metadata": {
            "tags": []
          },
          "execution_count": 155
        }
      ]
    },
    {
      "cell_type": "code",
      "metadata": {
        "colab": {
          "base_uri": "https://localhost:8080/"
        },
        "id": "ABXYiSmx0A0j",
        "outputId": "e924a5e2-40c8-417b-cef3-4fc5dd43e5a9"
      },
      "source": [
        "len(c1)"
      ],
      "execution_count": 152,
      "outputs": [
        {
          "output_type": "execute_result",
          "data": {
            "text/plain": [
              "51"
            ]
          },
          "metadata": {
            "tags": []
          },
          "execution_count": 152
        }
      ]
    },
    {
      "cell_type": "code",
      "metadata": {
        "colab": {
          "base_uri": "https://localhost:8080/"
        },
        "id": "wqar87bj0evb",
        "outputId": "0774ae3c-e992-4186-b39b-392a15e9520a"
      },
      "source": [
        "help(lid_model.predict)"
      ],
      "execution_count": 118,
      "outputs": [
        {
          "output_type": "stream",
          "text": [
            "Help on method predict in module fasttext.FastText:\n",
            "\n",
            "predict(text, k=1, threshold=0.0, on_unicode_error='strict') method of fasttext.FastText._FastText instance\n",
            "    Given a string, get a list of labels and a list of\n",
            "    corresponding probabilities. k controls the number\n",
            "    of returned labels. A choice of 5, will return the 5\n",
            "    most probable labels. By default this returns only\n",
            "    the most likely label and probability. threshold filters\n",
            "    the returned labels by a threshold on probability. A\n",
            "    choice of 0.5 will return labels with at least 0.5\n",
            "    probability. k and threshold will be applied together to\n",
            "    determine the returned labels.\n",
            "    \n",
            "    This function assumes to be given\n",
            "    a single line of text. We split words on whitespace (space,\n",
            "    newline, tab, vertical tab) and the control characters carriage\n",
            "    return, formfeed and the null character.\n",
            "    \n",
            "    If the model is not supervised, this function will throw a ValueError.\n",
            "    \n",
            "    If given a list of strings, it will return a list of results as usually\n",
            "    received for a single line of text.\n",
            "\n"
          ],
          "name": "stdout"
        }
      ]
    },
    {
      "cell_type": "code",
      "metadata": {
        "colab": {
          "base_uri": "https://localhost:8080/"
        },
        "id": "6dTKmwky0t8i",
        "outputId": "c273c261-049c-4595-df36-a016f89ba0d1"
      },
      "source": [
        "lid_model.predict(\"Глокая куздра штеко бодланула бокра и кудрячит бокренка\", k=5)"
      ],
      "execution_count": 121,
      "outputs": [
        {
          "output_type": "execute_result",
          "data": {
            "text/plain": [
              "(('__label__ru', '__label__sr', '__label__uk', '__label__mk', '__label__ce'),\n",
              " array([0.70139599, 0.1751997 , 0.07372152, 0.03047292, 0.00580288]))"
            ]
          },
          "metadata": {
            "tags": []
          },
          "execution_count": 121
        }
      ]
    },
    {
      "cell_type": "code",
      "metadata": {
        "id": "OSbiaDhO1EXU"
      },
      "source": [
        "chu_multi_label = lid_model.predict([i.replace('\\n',' ') for i in chuckchi_sentences], k=3)"
      ],
      "execution_count": 148,
      "outputs": []
    },
    {
      "cell_type": "code",
      "metadata": {
        "id": "8meuz-wr1ZSU"
      },
      "source": [
        "mixed_multi_label = lid_model.predict([i.replace('\\n',' ') for i in mixed_sentences], k=3)"
      ],
      "execution_count": 149,
      "outputs": []
    },
    {
      "cell_type": "code",
      "metadata": {
        "id": "MXE1mNMk1213"
      },
      "source": [
        "label_set = set([j for i in chu_multi_label[0] for j in i])"
      ],
      "execution_count": 150,
      "outputs": []
    },
    {
      "cell_type": "code",
      "metadata": {
        "colab": {
          "base_uri": "https://localhost:8080/"
        },
        "id": "itPPuQMC2E0Y",
        "outputId": "10507cbc-5b16-4102-f216-214cc8fd1de1"
      },
      "source": [
        "help(lid_model)"
      ],
      "execution_count": 153,
      "outputs": [
        {
          "output_type": "stream",
          "text": [
            "Help on _FastText in module fasttext.FastText object:\n",
            "\n",
            "class _FastText(builtins.object)\n",
            " |  This class defines the API to inspect models and should not be used to\n",
            " |  create objects. It will be returned by functions such as load_model or\n",
            " |  train.\n",
            " |  \n",
            " |  In general this API assumes to be given only unicode for Python2 and the\n",
            " |  Python3 equvalent called str for any string-like arguments. All unicode\n",
            " |  strings are then encoded as UTF-8 and fed to the fastText C++ API.\n",
            " |  \n",
            " |  Methods defined here:\n",
            " |  \n",
            " |  __contains__(self, word)\n",
            " |  \n",
            " |  __getitem__(self, word)\n",
            " |  \n",
            " |  __init__(self, model_path=None, args=None)\n",
            " |      Initialize self.  See help(type(self)) for accurate signature.\n",
            " |  \n",
            " |  get_analogies(self, wordA, wordB, wordC, k=10, on_unicode_error='strict')\n",
            " |  \n",
            " |  get_dimension(self)\n",
            " |      Get the dimension (size) of a lookup vector (hidden layer).\n",
            " |  \n",
            " |  get_input_matrix(self)\n",
            " |      Get a reference to the full input matrix of a Model. This only\n",
            " |      works if the model is not quantized.\n",
            " |  \n",
            " |  get_input_vector(self, ind)\n",
            " |      Given an index, get the corresponding vector of the Input Matrix.\n",
            " |  \n",
            " |  get_label_id(self, label)\n",
            " |      Given a label, get the label id within the dictionary.\n",
            " |      Returns -1 if label is not in the dictionary.\n",
            " |  \n",
            " |  get_labels(self, include_freq=False, on_unicode_error='strict')\n",
            " |      Get the entire list of labels of the dictionary optionally\n",
            " |      including the frequency of the individual labels. Unsupervised\n",
            " |      models use words as labels, which is why get_labels\n",
            " |      will call and return get_words for this type of\n",
            " |      model.\n",
            " |  \n",
            " |  get_line(self, text, on_unicode_error='strict')\n",
            " |      Split a line of text into words and labels. Labels must start with\n",
            " |      the prefix used to create the model (__label__ by default).\n",
            " |  \n",
            " |  get_meter(self, path, k=-1)\n",
            " |  \n",
            " |  get_nearest_neighbors(self, word, k=10, on_unicode_error='strict')\n",
            " |  \n",
            " |  get_output_matrix(self)\n",
            " |      Get a reference to the full output matrix of a Model. This only\n",
            " |      works if the model is not quantized.\n",
            " |  \n",
            " |  get_sentence_vector(self, text)\n",
            " |      Given a string, get a single vector represenation. This function\n",
            " |      assumes to be given a single line of text. We split words on\n",
            " |      whitespace (space, newline, tab, vertical tab) and the control\n",
            " |      characters carriage return, formfeed and the null character.\n",
            " |  \n",
            " |  get_subword_id(self, subword)\n",
            " |      Given a subword, return the index (within input matrix) it hashes to.\n",
            " |  \n",
            " |  get_subwords(self, word, on_unicode_error='strict')\n",
            " |      Given a word, get the subwords and their indicies.\n",
            " |  \n",
            " |  get_word_id(self, word)\n",
            " |      Given a word, get the word id within the dictionary.\n",
            " |      Returns -1 if word is not in the dictionary.\n",
            " |  \n",
            " |  get_word_vector(self, word)\n",
            " |      Get the vector representation of word.\n",
            " |  \n",
            " |  get_words(self, include_freq=False, on_unicode_error='strict')\n",
            " |      Get the entire list of words of the dictionary optionally\n",
            " |      including the frequency of the individual words. This\n",
            " |      does not include any subwords. For that please consult\n",
            " |      the function get_subwords.\n",
            " |  \n",
            " |  is_quantized(self)\n",
            " |  \n",
            " |  predict(self, text, k=1, threshold=0.0, on_unicode_error='strict')\n",
            " |      Given a string, get a list of labels and a list of\n",
            " |      corresponding probabilities. k controls the number\n",
            " |      of returned labels. A choice of 5, will return the 5\n",
            " |      most probable labels. By default this returns only\n",
            " |      the most likely label and probability. threshold filters\n",
            " |      the returned labels by a threshold on probability. A\n",
            " |      choice of 0.5 will return labels with at least 0.5\n",
            " |      probability. k and threshold will be applied together to\n",
            " |      determine the returned labels.\n",
            " |      \n",
            " |      This function assumes to be given\n",
            " |      a single line of text. We split words on whitespace (space,\n",
            " |      newline, tab, vertical tab) and the control characters carriage\n",
            " |      return, formfeed and the null character.\n",
            " |      \n",
            " |      If the model is not supervised, this function will throw a ValueError.\n",
            " |      \n",
            " |      If given a list of strings, it will return a list of results as usually\n",
            " |      received for a single line of text.\n",
            " |  \n",
            " |  quantize(self, input=None, qout=False, cutoff=0, retrain=False, epoch=None, lr=None, thread=None, verbose=None, dsub=2, qnorm=False)\n",
            " |      Quantize the model reducing the size of the model and\n",
            " |      it's memory footprint.\n",
            " |  \n",
            " |  save_model(self, path)\n",
            " |      Save the model to the given path\n",
            " |  \n",
            " |  set_args(self, args=None)\n",
            " |  \n",
            " |  set_matrices(self, input_matrix, output_matrix)\n",
            " |      Set input and output matrices. This function assumes you know what you\n",
            " |      are doing.\n",
            " |  \n",
            " |  test(self, path, k=1, threshold=0.0)\n",
            " |      Evaluate supervised model using file given by path\n",
            " |  \n",
            " |  test_label(self, path, k=1, threshold=0.0)\n",
            " |      Return the precision and recall score for each label.\n",
            " |      \n",
            " |      The returned value is a dictionary, where the key is the label.\n",
            " |      For example:\n",
            " |      f.test_label(...)\n",
            " |      {'__label__italian-cuisine' : {'precision' : 0.7, 'recall' : 0.74}}\n",
            " |  \n",
            " |  ----------------------------------------------------------------------\n",
            " |  Data descriptors defined here:\n",
            " |  \n",
            " |  __dict__\n",
            " |      dictionary for instance variables (if defined)\n",
            " |  \n",
            " |  __weakref__\n",
            " |      list of weak references to the object (if defined)\n",
            " |  \n",
            " |  labels\n",
            " |  \n",
            " |  words\n",
            "\n"
          ],
          "name": "stdout"
        }
      ]
    },
    {
      "cell_type": "code",
      "metadata": {
        "colab": {
          "base_uri": "https://localhost:8080/"
        },
        "id": "SZJwiUl637M6",
        "outputId": "283b8d92-6528-469b-9a8e-1b7e957ad1b3"
      },
      "source": [
        "lid_model.predict(\"Совсем белый, лёгкий, сверху падает, тебе в руку попадет, сразу же лужицей станет. Что это?\")"
      ],
      "execution_count": 156,
      "outputs": [
        {
          "output_type": "execute_result",
          "data": {
            "text/plain": [
              "(('__label__ru',), array([0.99889559]))"
            ]
          },
          "metadata": {
            "tags": []
          },
          "execution_count": 156
        }
      ]
    },
    {
      "cell_type": "code",
      "metadata": {
        "colab": {
          "base_uri": "https://localhost:8080/"
        },
        "id": "lBUzV_7A4M_J",
        "outputId": "5bf7b28a-80bc-4c99-9d75-ce143706e92e"
      },
      "source": [
        "lid_model.predict(\"Small anchor for catching shot seals and its handle.\")"
      ],
      "execution_count": 157,
      "outputs": [
        {
          "output_type": "execute_result",
          "data": {
            "text/plain": [
              "(('__label__en',), array([0.96301574]))"
            ]
          },
          "metadata": {
            "tags": []
          },
          "execution_count": 157
        }
      ]
    },
    {
      "cell_type": "code",
      "metadata": {
        "colab": {
          "base_uri": "https://localhost:8080/"
        },
        "id": "NS8L_3l_4TMD",
        "outputId": "2ddd2f2a-0a34-4b02-b405-c01f14b91c16"
      },
      "source": [
        "lid_model.predict(\"Дина КЭУКЭЙ, заведующиӈав информационныкэн-библиографическыкэн отделен анадыркэн Публичныкэн библиотекэн нынныльын Тан-Богоразын Пэтле пэлӄэтыльын Тыӈэтэгын (1920—1940) гитлин ытръэчкин чукоткакэн поэтгыпы, микын стихыт гакалейпатленат кэлик еп амгока Майӈымараквыргын.\")"
      ],
      "execution_count": 158,
      "outputs": [
        {
          "output_type": "execute_result",
          "data": {
            "text/plain": [
              "(('__label__mn',), array([0.35087064]))"
            ]
          },
          "metadata": {
            "tags": []
          },
          "execution_count": 158
        }
      ]
    },
    {
      "cell_type": "code",
      "metadata": {
        "colab": {
          "base_uri": "https://localhost:8080/"
        },
        "id": "AV0zQ6c74cU9",
        "outputId": "01223053-c7fa-4ef8-94f2-5707ed72a39e"
      },
      "source": [
        "lid_model.predict(\"Мэлгынвыкэн валы\\xa0 Пын’ылтэл \\xa0 Инъэ, ялгыттэнмавма, бригадира ынпыначгын ивнин: «Павъеельой, вэчьым, тури Эрынк’у чейвэ нъиттык?\")"
      ],
      "execution_count": 159,
      "outputs": [
        {
          "output_type": "execute_result",
          "data": {
            "text/plain": [
              "(('__label__ru',), array([0.38393706]))"
            ]
          },
          "metadata": {
            "tags": []
          },
          "execution_count": 159
        }
      ]
    },
    {
      "cell_type": "code",
      "metadata": {
        "id": "f7W6ZOjh4z5Z"
      },
      "source": [
        "chuckchi_labels_with_p = [(lid_model.predict(sent.replace('\\n', ' '))[0][0],lid_model.predict(sent.replace('\\n', ' '))[1][0])  for sent in chuckchi_sentences]"
      ],
      "execution_count": 169,
      "outputs": []
    },
    {
      "cell_type": "code",
      "metadata": {
        "colab": {
          "base_uri": "https://localhost:8080/"
        },
        "id": "YaM0DEe85Qa3",
        "outputId": "99444eae-8204-4e6f-e13b-a7f6ce7e9510"
      },
      "source": [
        "chuckchi_labels_with_p[0]"
      ],
      "execution_count": 170,
      "outputs": [
        {
          "output_type": "execute_result",
          "data": {
            "text/plain": [
              "('__label__be', 0.3983767628669739)"
            ]
          },
          "metadata": {
            "tags": []
          },
          "execution_count": 170
        }
      ]
    },
    {
      "cell_type": "code",
      "metadata": {
        "id": "UhRsgWaG44jh"
      },
      "source": [
        "false_rus = [(chuckchi_sentences[i],chuckchi_labels_with_p[i][0], chuckchi_labels_with_p[i][1]) for i in range(len(chuckchi_labels_with_p)) if chuckchi_labels_with_p[i][0]=='__label__ru']"
      ],
      "execution_count": 181,
      "outputs": []
    },
    {
      "cell_type": "code",
      "metadata": {
        "id": "G00opZK07G4z"
      },
      "source": [
        "languages = ['ru','mn','ky','be','bg','ukr','sah','krc','tt','mhr']"
      ],
      "execution_count": 198,
      "outputs": []
    },
    {
      "cell_type": "code",
      "metadata": {
        "id": "8vfDz5EX7uxT"
      },
      "source": [
        "from tqdm import tqdm_notebook"
      ],
      "execution_count": 199,
      "outputs": []
    },
    {
      "cell_type": "code",
      "metadata": {
        "id": "EAclOY355eAS"
      },
      "source": [
        "def get_features(sents):\r\n",
        "  features = []\r\n",
        "\r\n",
        "  for sent in tqdm_notebook(sents):\r\n",
        "    obj = {}\r\n",
        "    labels, probas = lid_model.predict(sent.replace('\\n',' '), k=10)\r\n",
        "    for lang in languages:\r\n",
        "      for label, proba in zip(labels, probas):\r\n",
        "        if label == f'__label__{lang}':\r\n",
        "          obj[lang] = proba\r\n",
        "      if lang not in obj:\r\n",
        "        obj[lang] = 0\r\n",
        "    features.append(obj)\r\n",
        "  \r\n",
        "  return features"
      ],
      "execution_count": 200,
      "outputs": []
    },
    {
      "cell_type": "code",
      "metadata": {
        "colab": {
          "base_uri": "https://localhost:8080/",
          "height": 120,
          "referenced_widgets": [
            "d3827b48fa70400198aa0563391d060b",
            "9c385ca4c0a5447fbb847523863c6cce",
            "5ee048fec0974819a12f3c5d206fcd53",
            "ca90e146577b4b00a3b35d0955b39df7",
            "386534363ebb43f196bb4bd5d74723ac",
            "05a9fa65c9824223ba894e9a46aebd35",
            "a65a4d54b250462aae5c602a1af4f3fb",
            "8c94696577c546f2a31b20a1fc01c3a6"
          ]
        },
        "id": "ZQNoJEH28Wju",
        "outputId": "d0ac75ae-80b4-4e72-d361-d9688ee30255"
      },
      "source": [
        "df = get_features(chuckchi_sentences)"
      ],
      "execution_count": 201,
      "outputs": [
        {
          "output_type": "stream",
          "text": [
            "/usr/local/lib/python3.6/dist-packages/ipykernel_launcher.py:4: TqdmDeprecationWarning: This function will be removed in tqdm==5.0.0\n",
            "Please use `tqdm.notebook.tqdm` instead of `tqdm.tqdm_notebook`\n",
            "  after removing the cwd from sys.path.\n"
          ],
          "name": "stderr"
        },
        {
          "output_type": "display_data",
          "data": {
            "application/vnd.jupyter.widget-view+json": {
              "model_id": "d3827b48fa70400198aa0563391d060b",
              "version_minor": 0,
              "version_major": 2
            },
            "text/plain": [
              "HBox(children=(FloatProgress(value=0.0, max=1220.0), HTML(value='')))"
            ]
          },
          "metadata": {
            "tags": []
          }
        },
        {
          "output_type": "stream",
          "text": [
            "\n"
          ],
          "name": "stdout"
        }
      ]
    },
    {
      "cell_type": "code",
      "metadata": {
        "id": "8zQrNwk28rU_"
      },
      "source": [
        "import pandas as pd"
      ],
      "execution_count": 202,
      "outputs": []
    },
    {
      "cell_type": "code",
      "metadata": {
        "id": "CxTjFbJP8uDt"
      },
      "source": [
        "df = pd.DataFrame(df)"
      ],
      "execution_count": 203,
      "outputs": []
    },
    {
      "cell_type": "code",
      "metadata": {
        "id": "BggynMLw8yHh"
      },
      "source": [
        "df['true_lang'] = 'chu'"
      ],
      "execution_count": 204,
      "outputs": []
    },
    {
      "cell_type": "code",
      "metadata": {
        "colab": {
          "base_uri": "https://localhost:8080/",
          "height": 197
        },
        "id": "10O491LI88V6",
        "outputId": "b97c1cf9-e804-4103-9823-10b7277992fa"
      },
      "source": [
        "df.head()"
      ],
      "execution_count": 205,
      "outputs": [
        {
          "output_type": "execute_result",
          "data": {
            "text/html": [
              "<div>\n",
              "<style scoped>\n",
              "    .dataframe tbody tr th:only-of-type {\n",
              "        vertical-align: middle;\n",
              "    }\n",
              "\n",
              "    .dataframe tbody tr th {\n",
              "        vertical-align: top;\n",
              "    }\n",
              "\n",
              "    .dataframe thead th {\n",
              "        text-align: right;\n",
              "    }\n",
              "</style>\n",
              "<table border=\"1\" class=\"dataframe\">\n",
              "  <thead>\n",
              "    <tr style=\"text-align: right;\">\n",
              "      <th></th>\n",
              "      <th>ru</th>\n",
              "      <th>mn</th>\n",
              "      <th>ky</th>\n",
              "      <th>be</th>\n",
              "      <th>bg</th>\n",
              "      <th>ukr</th>\n",
              "      <th>sah</th>\n",
              "      <th>krc</th>\n",
              "      <th>tt</th>\n",
              "      <th>mhr</th>\n",
              "      <th>true_lang</th>\n",
              "    </tr>\n",
              "  </thead>\n",
              "  <tbody>\n",
              "    <tr>\n",
              "      <th>0</th>\n",
              "      <td>0.060840</td>\n",
              "      <td>0.203973</td>\n",
              "      <td>0.0</td>\n",
              "      <td>0.398377</td>\n",
              "      <td>0.0</td>\n",
              "      <td>0</td>\n",
              "      <td>0.175809</td>\n",
              "      <td>0.053992</td>\n",
              "      <td>0.000000</td>\n",
              "      <td>0.007360</td>\n",
              "      <td>chu</td>\n",
              "    </tr>\n",
              "    <tr>\n",
              "      <th>1</th>\n",
              "      <td>0.011651</td>\n",
              "      <td>0.556423</td>\n",
              "      <td>0.0</td>\n",
              "      <td>0.259592</td>\n",
              "      <td>0.0</td>\n",
              "      <td>0</td>\n",
              "      <td>0.050537</td>\n",
              "      <td>0.032237</td>\n",
              "      <td>0.000000</td>\n",
              "      <td>0.012064</td>\n",
              "      <td>chu</td>\n",
              "    </tr>\n",
              "    <tr>\n",
              "      <th>2</th>\n",
              "      <td>0.156369</td>\n",
              "      <td>0.084576</td>\n",
              "      <td>0.0</td>\n",
              "      <td>0.421293</td>\n",
              "      <td>0.0</td>\n",
              "      <td>0</td>\n",
              "      <td>0.212409</td>\n",
              "      <td>0.016842</td>\n",
              "      <td>0.000000</td>\n",
              "      <td>0.000000</td>\n",
              "      <td>chu</td>\n",
              "    </tr>\n",
              "    <tr>\n",
              "      <th>3</th>\n",
              "      <td>0.383937</td>\n",
              "      <td>0.265074</td>\n",
              "      <td>0.0</td>\n",
              "      <td>0.011915</td>\n",
              "      <td>0.0</td>\n",
              "      <td>0</td>\n",
              "      <td>0.210356</td>\n",
              "      <td>0.014660</td>\n",
              "      <td>0.020587</td>\n",
              "      <td>0.025229</td>\n",
              "      <td>chu</td>\n",
              "    </tr>\n",
              "    <tr>\n",
              "      <th>4</th>\n",
              "      <td>0.018178</td>\n",
              "      <td>0.249707</td>\n",
              "      <td>0.0</td>\n",
              "      <td>0.092863</td>\n",
              "      <td>0.0</td>\n",
              "      <td>0</td>\n",
              "      <td>0.605541</td>\n",
              "      <td>0.000849</td>\n",
              "      <td>0.000000</td>\n",
              "      <td>0.008400</td>\n",
              "      <td>chu</td>\n",
              "    </tr>\n",
              "  </tbody>\n",
              "</table>\n",
              "</div>"
            ],
            "text/plain": [
              "         ru        mn   ky        be  ...       krc        tt       mhr  true_lang\n",
              "0  0.060840  0.203973  0.0  0.398377  ...  0.053992  0.000000  0.007360        chu\n",
              "1  0.011651  0.556423  0.0  0.259592  ...  0.032237  0.000000  0.012064        chu\n",
              "2  0.156369  0.084576  0.0  0.421293  ...  0.016842  0.000000  0.000000        chu\n",
              "3  0.383937  0.265074  0.0  0.011915  ...  0.014660  0.020587  0.025229        chu\n",
              "4  0.018178  0.249707  0.0  0.092863  ...  0.000849  0.000000  0.008400        chu\n",
              "\n",
              "[5 rows x 11 columns]"
            ]
          },
          "metadata": {
            "tags": []
          },
          "execution_count": 205
        }
      ]
    },
    {
      "cell_type": "code",
      "metadata": {
        "colab": {
          "base_uri": "https://localhost:8080/",
          "height": 120,
          "referenced_widgets": [
            "4084ad4087704ad5a48df6e87cd2899f",
            "7c277bfebad14f969b5e4d2a1f69ef9c",
            "0003ecf0da1b4ac7a7042d2de057dd5c",
            "6ec7cfd1b8c1429b99acb44852bf6027",
            "3d27e5960c23418da425ba8f90efd987",
            "9160d2a9e9db4e318344d0dbb9c70694",
            "a59fa61287b44148ae5149ef0b156aac",
            "dfa8ced1f3ac49d49ce2d79ed50da366"
          ]
        },
        "id": "zktwhYxv8_JV",
        "outputId": "1520cbf1-7286-4394-9660-28b2090c7a1b"
      },
      "source": [
        "df1 = get_features(mixed_sentences)"
      ],
      "execution_count": 206,
      "outputs": [
        {
          "output_type": "stream",
          "text": [
            "/usr/local/lib/python3.6/dist-packages/ipykernel_launcher.py:4: TqdmDeprecationWarning: This function will be removed in tqdm==5.0.0\n",
            "Please use `tqdm.notebook.tqdm` instead of `tqdm.tqdm_notebook`\n",
            "  after removing the cwd from sys.path.\n"
          ],
          "name": "stderr"
        },
        {
          "output_type": "display_data",
          "data": {
            "application/vnd.jupyter.widget-view+json": {
              "model_id": "4084ad4087704ad5a48df6e87cd2899f",
              "version_minor": 0,
              "version_major": 2
            },
            "text/plain": [
              "HBox(children=(FloatProgress(value=0.0, max=5219.0), HTML(value='')))"
            ]
          },
          "metadata": {
            "tags": []
          }
        },
        {
          "output_type": "stream",
          "text": [
            "\n"
          ],
          "name": "stdout"
        }
      ]
    },
    {
      "cell_type": "code",
      "metadata": {
        "id": "Ofnjcoac9rSj"
      },
      "source": [
        "df1 = pd.DataFrame(df1)\r\n",
        "df1['true_lang'] = 'unk'"
      ],
      "execution_count": 208,
      "outputs": []
    },
    {
      "cell_type": "code",
      "metadata": {
        "colab": {
          "base_uri": "https://localhost:8080/",
          "height": 197
        },
        "id": "_ScMqO5w90xd",
        "outputId": "51c2b829-4854-410b-d8d3-74dd03da4066"
      },
      "source": [
        "df1.head()"
      ],
      "execution_count": 209,
      "outputs": [
        {
          "output_type": "execute_result",
          "data": {
            "text/html": [
              "<div>\n",
              "<style scoped>\n",
              "    .dataframe tbody tr th:only-of-type {\n",
              "        vertical-align: middle;\n",
              "    }\n",
              "\n",
              "    .dataframe tbody tr th {\n",
              "        vertical-align: top;\n",
              "    }\n",
              "\n",
              "    .dataframe thead th {\n",
              "        text-align: right;\n",
              "    }\n",
              "</style>\n",
              "<table border=\"1\" class=\"dataframe\">\n",
              "  <thead>\n",
              "    <tr style=\"text-align: right;\">\n",
              "      <th></th>\n",
              "      <th>ru</th>\n",
              "      <th>mn</th>\n",
              "      <th>ky</th>\n",
              "      <th>be</th>\n",
              "      <th>bg</th>\n",
              "      <th>ukr</th>\n",
              "      <th>sah</th>\n",
              "      <th>krc</th>\n",
              "      <th>tt</th>\n",
              "      <th>mhr</th>\n",
              "      <th>true_lang</th>\n",
              "    </tr>\n",
              "  </thead>\n",
              "  <tbody>\n",
              "    <tr>\n",
              "      <th>0</th>\n",
              "      <td>0.670730</td>\n",
              "      <td>0.089143</td>\n",
              "      <td>0.000000</td>\n",
              "      <td>0.067984</td>\n",
              "      <td>0.003836</td>\n",
              "      <td>0</td>\n",
              "      <td>0.116024</td>\n",
              "      <td>0.007419</td>\n",
              "      <td>0.010322</td>\n",
              "      <td>0.010521</td>\n",
              "      <td>unk</td>\n",
              "    </tr>\n",
              "    <tr>\n",
              "      <th>1</th>\n",
              "      <td>0.372966</td>\n",
              "      <td>0.162399</td>\n",
              "      <td>0.007253</td>\n",
              "      <td>0.011220</td>\n",
              "      <td>0.000000</td>\n",
              "      <td>0</td>\n",
              "      <td>0.305198</td>\n",
              "      <td>0.000000</td>\n",
              "      <td>0.078177</td>\n",
              "      <td>0.015470</td>\n",
              "      <td>unk</td>\n",
              "    </tr>\n",
              "    <tr>\n",
              "      <th>2</th>\n",
              "      <td>0.853687</td>\n",
              "      <td>0.013827</td>\n",
              "      <td>0.000000</td>\n",
              "      <td>0.011713</td>\n",
              "      <td>0.012494</td>\n",
              "      <td>0</td>\n",
              "      <td>0.014816</td>\n",
              "      <td>0.000000</td>\n",
              "      <td>0.029841</td>\n",
              "      <td>0.006937</td>\n",
              "      <td>unk</td>\n",
              "    </tr>\n",
              "    <tr>\n",
              "      <th>3</th>\n",
              "      <td>0.037188</td>\n",
              "      <td>0.641029</td>\n",
              "      <td>0.004682</td>\n",
              "      <td>0.000000</td>\n",
              "      <td>0.000000</td>\n",
              "      <td>0</td>\n",
              "      <td>0.050863</td>\n",
              "      <td>0.000000</td>\n",
              "      <td>0.036684</td>\n",
              "      <td>0.154834</td>\n",
              "      <td>unk</td>\n",
              "    </tr>\n",
              "    <tr>\n",
              "      <th>4</th>\n",
              "      <td>0.247611</td>\n",
              "      <td>0.037394</td>\n",
              "      <td>0.000000</td>\n",
              "      <td>0.000000</td>\n",
              "      <td>0.000000</td>\n",
              "      <td>0</td>\n",
              "      <td>0.070641</td>\n",
              "      <td>0.000000</td>\n",
              "      <td>0.000000</td>\n",
              "      <td>0.290869</td>\n",
              "      <td>unk</td>\n",
              "    </tr>\n",
              "  </tbody>\n",
              "</table>\n",
              "</div>"
            ],
            "text/plain": [
              "         ru        mn        ky  ...        tt       mhr  true_lang\n",
              "0  0.670730  0.089143  0.000000  ...  0.010322  0.010521        unk\n",
              "1  0.372966  0.162399  0.007253  ...  0.078177  0.015470        unk\n",
              "2  0.853687  0.013827  0.000000  ...  0.029841  0.006937        unk\n",
              "3  0.037188  0.641029  0.004682  ...  0.036684  0.154834        unk\n",
              "4  0.247611  0.037394  0.000000  ...  0.000000  0.290869        unk\n",
              "\n",
              "[5 rows x 11 columns]"
            ]
          },
          "metadata": {
            "tags": []
          },
          "execution_count": 209
        }
      ]
    },
    {
      "cell_type": "code",
      "metadata": {
        "id": "Y1AtNQRq9346"
      },
      "source": [
        "from sklearn.cluster import KMeans"
      ],
      "execution_count": 210,
      "outputs": []
    },
    {
      "cell_type": "code",
      "metadata": {
        "id": "KmVjp4wb97mP"
      },
      "source": [
        "data = pd.concat([df,df1])"
      ],
      "execution_count": 212,
      "outputs": []
    },
    {
      "cell_type": "code",
      "metadata": {
        "id": "-cdNgDCW-IUO"
      },
      "source": [
        "clf = KMeans(n_clusters=2)"
      ],
      "execution_count": 215,
      "outputs": []
    },
    {
      "cell_type": "code",
      "metadata": {
        "id": "pL5a1qgd-Uy_"
      },
      "source": [
        "X = data.drop('true_lang', axis=1)"
      ],
      "execution_count": 216,
      "outputs": []
    },
    {
      "cell_type": "code",
      "metadata": {
        "colab": {
          "base_uri": "https://localhost:8080/"
        },
        "id": "kNnWIWfL-baD",
        "outputId": "b56f8830-5dc6-4a4f-cea9-311ef5b3f5d8"
      },
      "source": [
        "clf.fit(X)"
      ],
      "execution_count": 217,
      "outputs": [
        {
          "output_type": "execute_result",
          "data": {
            "text/plain": [
              "KMeans(algorithm='auto', copy_x=True, init='k-means++', max_iter=300,\n",
              "       n_clusters=2, n_init=10, n_jobs=None, precompute_distances='auto',\n",
              "       random_state=None, tol=0.0001, verbose=0)"
            ]
          },
          "metadata": {
            "tags": []
          },
          "execution_count": 217
        }
      ]
    },
    {
      "cell_type": "code",
      "metadata": {
        "id": "uAguwNZq-fJO"
      },
      "source": [
        "data['predicted'] = clf.predict(X)"
      ],
      "execution_count": 218,
      "outputs": []
    },
    {
      "cell_type": "code",
      "metadata": {
        "colab": {
          "base_uri": "https://localhost:8080/",
          "height": 197
        },
        "id": "-t4fnpou-nIL",
        "outputId": "d41cd295-91db-4a0c-da22-4e12915ac4f7"
      },
      "source": [
        "data.head()"
      ],
      "execution_count": 219,
      "outputs": [
        {
          "output_type": "execute_result",
          "data": {
            "text/html": [
              "<div>\n",
              "<style scoped>\n",
              "    .dataframe tbody tr th:only-of-type {\n",
              "        vertical-align: middle;\n",
              "    }\n",
              "\n",
              "    .dataframe tbody tr th {\n",
              "        vertical-align: top;\n",
              "    }\n",
              "\n",
              "    .dataframe thead th {\n",
              "        text-align: right;\n",
              "    }\n",
              "</style>\n",
              "<table border=\"1\" class=\"dataframe\">\n",
              "  <thead>\n",
              "    <tr style=\"text-align: right;\">\n",
              "      <th></th>\n",
              "      <th>ru</th>\n",
              "      <th>mn</th>\n",
              "      <th>ky</th>\n",
              "      <th>be</th>\n",
              "      <th>bg</th>\n",
              "      <th>ukr</th>\n",
              "      <th>sah</th>\n",
              "      <th>krc</th>\n",
              "      <th>tt</th>\n",
              "      <th>mhr</th>\n",
              "      <th>true_lang</th>\n",
              "      <th>predicted</th>\n",
              "    </tr>\n",
              "  </thead>\n",
              "  <tbody>\n",
              "    <tr>\n",
              "      <th>0</th>\n",
              "      <td>0.060840</td>\n",
              "      <td>0.203973</td>\n",
              "      <td>0.0</td>\n",
              "      <td>0.398377</td>\n",
              "      <td>0.0</td>\n",
              "      <td>0</td>\n",
              "      <td>0.175809</td>\n",
              "      <td>0.053992</td>\n",
              "      <td>0.000000</td>\n",
              "      <td>0.007360</td>\n",
              "      <td>chu</td>\n",
              "      <td>1</td>\n",
              "    </tr>\n",
              "    <tr>\n",
              "      <th>1</th>\n",
              "      <td>0.011651</td>\n",
              "      <td>0.556423</td>\n",
              "      <td>0.0</td>\n",
              "      <td>0.259592</td>\n",
              "      <td>0.0</td>\n",
              "      <td>0</td>\n",
              "      <td>0.050537</td>\n",
              "      <td>0.032237</td>\n",
              "      <td>0.000000</td>\n",
              "      <td>0.012064</td>\n",
              "      <td>chu</td>\n",
              "      <td>1</td>\n",
              "    </tr>\n",
              "    <tr>\n",
              "      <th>2</th>\n",
              "      <td>0.156369</td>\n",
              "      <td>0.084576</td>\n",
              "      <td>0.0</td>\n",
              "      <td>0.421293</td>\n",
              "      <td>0.0</td>\n",
              "      <td>0</td>\n",
              "      <td>0.212409</td>\n",
              "      <td>0.016842</td>\n",
              "      <td>0.000000</td>\n",
              "      <td>0.000000</td>\n",
              "      <td>chu</td>\n",
              "      <td>1</td>\n",
              "    </tr>\n",
              "    <tr>\n",
              "      <th>3</th>\n",
              "      <td>0.383937</td>\n",
              "      <td>0.265074</td>\n",
              "      <td>0.0</td>\n",
              "      <td>0.011915</td>\n",
              "      <td>0.0</td>\n",
              "      <td>0</td>\n",
              "      <td>0.210356</td>\n",
              "      <td>0.014660</td>\n",
              "      <td>0.020587</td>\n",
              "      <td>0.025229</td>\n",
              "      <td>chu</td>\n",
              "      <td>1</td>\n",
              "    </tr>\n",
              "    <tr>\n",
              "      <th>4</th>\n",
              "      <td>0.018178</td>\n",
              "      <td>0.249707</td>\n",
              "      <td>0.0</td>\n",
              "      <td>0.092863</td>\n",
              "      <td>0.0</td>\n",
              "      <td>0</td>\n",
              "      <td>0.605541</td>\n",
              "      <td>0.000849</td>\n",
              "      <td>0.000000</td>\n",
              "      <td>0.008400</td>\n",
              "      <td>chu</td>\n",
              "      <td>1</td>\n",
              "    </tr>\n",
              "  </tbody>\n",
              "</table>\n",
              "</div>"
            ],
            "text/plain": [
              "         ru        mn   ky        be  ...        tt       mhr  true_lang  predicted\n",
              "0  0.060840  0.203973  0.0  0.398377  ...  0.000000  0.007360        chu          1\n",
              "1  0.011651  0.556423  0.0  0.259592  ...  0.000000  0.012064        chu          1\n",
              "2  0.156369  0.084576  0.0  0.421293  ...  0.000000  0.000000        chu          1\n",
              "3  0.383937  0.265074  0.0  0.011915  ...  0.020587  0.025229        chu          1\n",
              "4  0.018178  0.249707  0.0  0.092863  ...  0.000000  0.008400        chu          1\n",
              "\n",
              "[5 rows x 12 columns]"
            ]
          },
          "metadata": {
            "tags": []
          },
          "execution_count": 219
        }
      ]
    },
    {
      "cell_type": "code",
      "metadata": {
        "colab": {
          "base_uri": "https://localhost:8080/",
          "height": 137
        },
        "id": "cOZqHdJu-p3R",
        "outputId": "8316f2fa-f97f-4c92-df6f-5ed85321b657"
      },
      "source": [
        "pd.crosstab(data['true_lang'],data['predicted'])"
      ],
      "execution_count": 220,
      "outputs": [
        {
          "output_type": "execute_result",
          "data": {
            "text/html": [
              "<div>\n",
              "<style scoped>\n",
              "    .dataframe tbody tr th:only-of-type {\n",
              "        vertical-align: middle;\n",
              "    }\n",
              "\n",
              "    .dataframe tbody tr th {\n",
              "        vertical-align: top;\n",
              "    }\n",
              "\n",
              "    .dataframe thead th {\n",
              "        text-align: right;\n",
              "    }\n",
              "</style>\n",
              "<table border=\"1\" class=\"dataframe\">\n",
              "  <thead>\n",
              "    <tr style=\"text-align: right;\">\n",
              "      <th>predicted</th>\n",
              "      <th>0</th>\n",
              "      <th>1</th>\n",
              "    </tr>\n",
              "    <tr>\n",
              "      <th>true_lang</th>\n",
              "      <th></th>\n",
              "      <th></th>\n",
              "    </tr>\n",
              "  </thead>\n",
              "  <tbody>\n",
              "    <tr>\n",
              "      <th>chu</th>\n",
              "      <td>147</td>\n",
              "      <td>1073</td>\n",
              "    </tr>\n",
              "    <tr>\n",
              "      <th>unk</th>\n",
              "      <td>1827</td>\n",
              "      <td>3392</td>\n",
              "    </tr>\n",
              "  </tbody>\n",
              "</table>\n",
              "</div>"
            ],
            "text/plain": [
              "predicted     0     1\n",
              "true_lang            \n",
              "chu         147  1073\n",
              "unk        1827  3392"
            ]
          },
          "metadata": {
            "tags": []
          },
          "execution_count": 220
        }
      ]
    },
    {
      "cell_type": "code",
      "metadata": {
        "colab": {
          "base_uri": "https://localhost:8080/"
        },
        "id": "l2uzrriL-0N2",
        "outputId": "2bf8f9af-2228-4a3c-ae31-1459a6431b19"
      },
      "source": [
        "!wget \"https://raw.githubusercontent.com/nicklogin/ChuckchiHackathon/main/chukchi_validation%20(1).txt\""
      ],
      "execution_count": 224,
      "outputs": [
        {
          "output_type": "stream",
          "text": [
            "--2021-02-10 17:33:07--  https://raw.githubusercontent.com/nicklogin/ChuckchiHackathon/main/chukchi_validation%20(1).txt\n",
            "Resolving raw.githubusercontent.com (raw.githubusercontent.com)... 185.199.108.133, 185.199.111.133, 185.199.110.133, ...\n",
            "Connecting to raw.githubusercontent.com (raw.githubusercontent.com)|185.199.108.133|:443... connected.\n",
            "HTTP request sent, awaiting response... 200 OK\n",
            "Length: 25902 (25K) [text/plain]\n",
            "Saving to: ‘chukchi_validation (1).txt’\n",
            "\n",
            "chukchi_validation  100%[===================>]  25.29K  --.-KB/s    in 0s      \n",
            "\n",
            "2021-02-10 17:33:08 (119 MB/s) - ‘chukchi_validation (1).txt’ saved [25902/25902]\n",
            "\n"
          ],
          "name": "stdout"
        }
      ]
    },
    {
      "cell_type": "code",
      "metadata": {
        "colab": {
          "base_uri": "https://localhost:8080/"
        },
        "id": "nTxeO-46_l_S",
        "outputId": "77b208e3-1937-4529-a191-6ac84087b3e1"
      },
      "source": [
        "!wget \"https://raw.githubusercontent.com/nicklogin/ChuckchiHackathon/main/validation%20(1).txt\""
      ],
      "execution_count": 225,
      "outputs": [
        {
          "output_type": "stream",
          "text": [
            "--2021-02-10 17:33:16--  https://raw.githubusercontent.com/nicklogin/ChuckchiHackathon/main/validation%20(1).txt\n",
            "Resolving raw.githubusercontent.com (raw.githubusercontent.com)... 185.199.110.133, 185.199.109.133, 185.199.108.133, ...\n",
            "Connecting to raw.githubusercontent.com (raw.githubusercontent.com)|185.199.110.133|:443... connected.\n",
            "HTTP request sent, awaiting response... 200 OK\n",
            "Length: 37938 (37K) [text/plain]\n",
            "Saving to: ‘validation (1).txt’\n",
            "\n",
            "validation (1).txt  100%[===================>]  37.05K  --.-KB/s    in 0.003s  \n",
            "\n",
            "2021-02-10 17:33:17 (10.5 MB/s) - ‘validation (1).txt’ saved [37938/37938]\n",
            "\n"
          ],
          "name": "stdout"
        }
      ]
    },
    {
      "cell_type": "code",
      "metadata": {
        "colab": {
          "base_uri": "https://localhost:8080/"
        },
        "id": "TbmRAhTn_u-G",
        "outputId": "42f1e2b0-49c3-4b7d-f8a5-5b767d87c266"
      },
      "source": [
        "!wget \"https://raw.githubusercontent.com/nicklogin/ChuckchiHackathon/main/russian_sents_numbers%20(1).txt\""
      ],
      "execution_count": 231,
      "outputs": [
        {
          "output_type": "stream",
          "text": [
            "--2021-02-10 17:35:45--  https://raw.githubusercontent.com/nicklogin/ChuckchiHackathon/main/russian_sents_numbers%20(1).txt\n",
            "Resolving raw.githubusercontent.com (raw.githubusercontent.com)... 185.199.108.133, 185.199.109.133, 185.199.110.133, ...\n",
            "Connecting to raw.githubusercontent.com (raw.githubusercontent.com)|185.199.108.133|:443... connected.\n",
            "HTTP request sent, awaiting response... 200 OK\n",
            "Length: 264 [text/plain]\n",
            "Saving to: ‘russian_sents_numbers (1).txt.1’\n",
            "\n",
            "russian_sents_numbe 100%[===================>]     264  --.-KB/s    in 0s      \n",
            "\n",
            "2021-02-10 17:35:45 (14.5 MB/s) - ‘russian_sents_numbers (1).txt.1’ saved [264/264]\n",
            "\n"
          ],
          "name": "stdout"
        }
      ]
    },
    {
      "cell_type": "code",
      "metadata": {
        "colab": {
          "base_uri": "https://localhost:8080/"
        },
        "id": "1aEafmRdAfID",
        "outputId": "325e61cc-264d-4363-c36c-043e2bf2d452"
      },
      "source": [
        "os.listdir()"
      ],
      "execution_count": 228,
      "outputs": [
        {
          "output_type": "execute_result",
          "data": {
            "text/plain": [
              "['only_chuckchi',\n",
              " 'chuckchi_and_rus',\n",
              " 'lid.176.bin',\n",
              " '.git',\n",
              " 'validation (1).txt',\n",
              " 'чукотский и русский.zip',\n",
              " 'russian_sents_numbers (1).txt',\n",
              " 'fastText',\n",
              " 'хакатон',\n",
              " 'chukchi_validation.txt',\n",
              " 'только чукотский.zip',\n",
              " 'chukchi_validation (1).txt',\n",
              " 'validation.txt']"
            ]
          },
          "metadata": {
            "tags": []
          },
          "execution_count": 228
        }
      ]
    },
    {
      "cell_type": "code",
      "metadata": {
        "id": "Lrbw33IFAhn_"
      },
      "source": [
        "def load(f,convert=None):\r\n",
        "  with open(f,'r',encoding='utf-8') as inp:\r\n",
        "    text = inp.read().splitlines()\r\n",
        "  if convert:\r\n",
        "    try:\r\n",
        "      text = [convert(i) for i in text]\r\n",
        "    except:\r\n",
        "      pass\r\n",
        "  return text"
      ],
      "execution_count": 238,
      "outputs": []
    },
    {
      "cell_type": "code",
      "metadata": {
        "id": "D9GoBAVMBbVl"
      },
      "source": [
        "valid = load('validation (1).txt')"
      ],
      "execution_count": 235,
      "outputs": []
    },
    {
      "cell_type": "code",
      "metadata": {
        "colab": {
          "base_uri": "https://localhost:8080/"
        },
        "id": "q7_u0exEEAJj",
        "outputId": "94bb8423-70a3-43e5-fac0-fe92aef47aa9"
      },
      "source": [
        "os.listdir()"
      ],
      "execution_count": 256,
      "outputs": [
        {
          "output_type": "execute_result",
          "data": {
            "text/plain": [
              "['only_chuckchi',\n",
              " 'chuckchi_and_rus',\n",
              " 'lid.176.bin',\n",
              " '.git',\n",
              " 'validation (1).txt',\n",
              " 'чукотский и русский.zip',\n",
              " 'russian_sents_numbers (1).txt',\n",
              " 'fastText',\n",
              " 'хакатон',\n",
              " 'chukchi_validation.txt',\n",
              " 'russian_sents_numbers (1).txt.1',\n",
              " 'только чукотский.zip',\n",
              " 'chukchi_validation (1).txt',\n",
              " 'validation.txt']"
            ]
          },
          "metadata": {
            "tags": []
          },
          "execution_count": 256
        }
      ]
    },
    {
      "cell_type": "code",
      "metadata": {
        "id": "SjATBH2aBkw3"
      },
      "source": [
        "rus_numbers = load('russian_sents_numbers (1).txt.1', convert=lambda x:int(x)-1)"
      ],
      "execution_count": 257,
      "outputs": []
    },
    {
      "cell_type": "code",
      "metadata": {
        "colab": {
          "base_uri": "https://localhost:8080/"
        },
        "id": "U4F79DCND7K6",
        "outputId": "30413a23-2e82-4621-a368-a0839ce73b43"
      },
      "source": [
        "rus_numbers"
      ],
      "execution_count": 255,
      "outputs": [
        {
          "output_type": "execute_result",
          "data": {
            "text/plain": [
              "['',\n",
              " '',\n",
              " '',\n",
              " '',\n",
              " '',\n",
              " '',\n",
              " '<!DOCTYPE html>',\n",
              " '<html lang=\"en\">',\n",
              " '  <head>',\n",
              " '    <meta charset=\"utf-8\">',\n",
              " '  <link rel=\"dns-prefetch\" href=\"https://github.githubassets.com\">',\n",
              " '  <link rel=\"dns-prefetch\" href=\"https://avatars.githubusercontent.com\">',\n",
              " '  <link rel=\"dns-prefetch\" href=\"https://github-cloud.s3.amazonaws.com\">',\n",
              " '  <link rel=\"dns-prefetch\" href=\"https://user-images.githubusercontent.com/\">',\n",
              " '',\n",
              " '',\n",
              " '',\n",
              " '  <link crossorigin=\"anonymous\" media=\"all\" integrity=\"sha512-rF3cnLJE5IkKUWFkw54emxUMV82DhbZ9aJun83zhvBgJ7J7ZXC20bEFVuLY9RRRC60Ig+pHQO57DuYBrYO+cAA==\" rel=\"stylesheet\" href=\"https://github.githubassets.com/assets/frameworks-ac5ddc9cb244e4890a516164c39e1e9b.css\" />',\n",
              " '  <link crossorigin=\"anonymous\" media=\"all\" integrity=\"sha512-COVYh+U7Losyf4/43AlKX9VlGHpb8dafa1BDCjySztH9fDfPtG/JKujmF8qxqvCFtQ52wEF5h/CT3xd9MRo0JA==\" rel=\"stylesheet\" href=\"https://github.githubassets.com/assets/site-08e55887e53b2e8b327f8ff8dc094a5f.css\" />',\n",
              " '    <link crossorigin=\"anonymous\" media=\"all\" integrity=\"sha512-QbKgFXj+JoU12QsMYLRWqW9sWAzGHCCMC7FlsHunxzfLL4jGwfsmyAtbn4F/deHyBtQOmEQLz5mPljNOKjwErw==\" rel=\"stylesheet\" href=\"https://github.githubassets.com/assets/behaviors-41b2a01578fe268535d90b0c60b456a9.css\" />',\n",
              " '    ',\n",
              " '    ',\n",
              " '    ',\n",
              " '    <link crossorigin=\"anonymous\" media=\"all\" integrity=\"sha512-2QYLOTG1Aa/Nq1CKgmlPElI1RfCFxxTHzoci3iVz8x9x8Q/oYsPTjeACbyE/5wa1kvmSiJ4z50ZUKOmkiZA7Fg==\" rel=\"stylesheet\" href=\"https://github.githubassets.com/assets/github-d9060b3931b501afcdab508a82694f12.css\" />',\n",
              " '',\n",
              " '  <script crossorigin=\"anonymous\" defer=\"defer\" integrity=\"sha512-8K2vvwbW+6H27Nad5ydg8PA2/aMD/LKq+EiK9s0U0hhVZxCI2tWBsYk9beAtisRw2j+Or5k2/F+6dk02nmj/PA==\" type=\"application/javascript\" src=\"https://github.githubassets.com/assets/environment-f0adafbf.js\"></script>',\n",
              " '    <script crossorigin=\"anonymous\" defer=\"defer\" integrity=\"sha512-LlOSyvY6Kmnc0M5/oHAVwqDtUpZJhq15UkAYG6ZYcLmGjBXbBNoaDtD5axhK/siKb24nuR2YdF1Jo8pIjmbXXA==\" type=\"application/javascript\" src=\"https://github.githubassets.com/assets/chunk-frameworks-2e5392ca.js\"></script>',\n",
              " '    <script crossorigin=\"anonymous\" defer=\"defer\" integrity=\"sha512-H0rjYD2T5N5sO+6lNwiPpR9vnKQFdF3PSHlSFyJNaP6mrELu6EIp8fKg11wPF40bETdGz1voc/bCXd0v729BuA==\" type=\"application/javascript\" src=\"https://github.githubassets.com/assets/chunk-vendor-1f4ae360.js\"></script>',\n",
              " '  ',\n",
              " '  <script crossorigin=\"anonymous\" defer=\"defer\" integrity=\"sha512-ycTgxafKxX/dBrYSU2F1K9SCba76XT5VwDE7cSPrHp2+p/BIQbFyds1tNtgkiVeao0JFcLgASNK2l65A18ILyA==\" type=\"application/javascript\" src=\"https://github.githubassets.com/assets/behaviors-c9c4e0c5.js\"></script>',\n",
              " '  ',\n",
              " '    <script crossorigin=\"anonymous\" defer=\"defer\" integrity=\"sha512-evfy6RyDyXvLuaEEFaUaIlw9dSRgvKkF3rMeUELkvXq7sGEK/43vTg+3EE6E8nOsjpuPyYQjgS8bxzqkTjlZag==\" type=\"application/javascript\" data-module-id=\"./chunk-contributions-spider-graph.js\" data-src=\"https://github.githubassets.com/assets/chunk-contributions-spider-graph-7af7f2e9.js\"></script>',\n",
              " '    <script crossorigin=\"anonymous\" defer=\"defer\" integrity=\"sha512-obMR8mPKx8OvqRe34LgnUcxeJ1qujiA4ND3H6UX13ExMlA/WfHLjEzXRmgGRcRvN/8J1nzc+Z+jgz/PLTFy6zg==\" type=\"application/javascript\" data-module-id=\"./chunk-drag-drop.js\" data-src=\"https://github.githubassets.com/assets/chunk-drag-drop-a1b311f2.js\"></script>',\n",
              " '    <script crossorigin=\"anonymous\" defer=\"defer\" integrity=\"sha512-V4eZZUWgD9RSVrXzWPGn+vP/9+D0oCITMcifb0ktnwvLUUuXHtwiPWXiu4CYxU4zzC1k6DMTDCZG/GQi0QOJpA==\" type=\"application/javascript\" data-module-id=\"./chunk-edit.js\" data-src=\"https://github.githubassets.com/assets/chunk-edit-57879965.js\"></script>',\n",
              " '    <script crossorigin=\"anonymous\" defer=\"defer\" integrity=\"sha512-TGnbT/6B5dxVwEk7iOlwSY9mfqhfq8m05ec+KjdlfEwoieq73iBeyidClQUSmFa2snukwzF9peY8c7FJf9FARA==\" type=\"application/javascript\" data-module-id=\"./chunk-emoji-picker-element.js\" data-src=\"https://github.githubassets.com/assets/chunk-emoji-picker-element-4c69db4f.js\"></script>',\n",
              " '    <script crossorigin=\"anonymous\" defer=\"defer\" integrity=\"sha512-NwYkwzxETzKUYRXumHDsBIuggkh86KmJ1WrwWZW5wTvVPf047+wOmOHI5b4D65bfdtd3WbXJ7k+3ZWoxpIaqcA==\" type=\"application/javascript\" data-module-id=\"./chunk-insights-graph.js\" data-src=\"https://github.githubassets.com/assets/chunk-insights-graph-370624c3.js\"></script>',\n",
              " '    <script crossorigin=\"anonymous\" defer=\"defer\" integrity=\"sha512-FrgE/rf7iPI/rYtbUZnmUu7DATKUTwSFoOvztvKKOAfNL25SFfJ65gUzEd0E0GnjlWoCIzFOJYv+irUJ0vEecA==\" type=\"application/javascript\" data-module-id=\"./chunk-jump-to.js\" data-src=\"https://github.githubassets.com/assets/chunk-jump-to-16b804fe.js\"></script>',\n",
              " '    <script crossorigin=\"anonymous\" defer=\"defer\" integrity=\"sha512-tcH4xCRuMBAh1PruDaiwGnRIbHlF6bGLhxyCQ16uqok1cV5QFMguVPWJtN9KI0jGQOgN+Pha3+uOUXhXdfK/qw==\" type=\"application/javascript\" data-module-id=\"./chunk-profile-pins-element.js\" data-src=\"https://github.githubassets.com/assets/chunk-profile-pins-element-b5c1f8c4.js\"></script>',\n",
              " '    <script crossorigin=\"anonymous\" defer=\"defer\" integrity=\"sha512-E+H+wAtjiqutBvn2cnXzDIvmasIhYiS7i7JzOfFUwo+Ej8zT54OrJtP//RhwixnypgOpCF4JvqzYy6zOtORDmg==\" type=\"application/javascript\" data-module-id=\"./chunk-runner-groups.js\" data-src=\"https://github.githubassets.com/assets/chunk-runner-groups-13e1fec0.js\"></script>',\n",
              " '    <script crossorigin=\"anonymous\" defer=\"defer\" integrity=\"sha512-U+Pp1bYuA3fRqhike5Go//O/vsExaZLz00lrIby+rZ88yf03nQHz3wLZR9paWkakpD7TH5nS6AUpabCc7OFWpg==\" type=\"application/javascript\" data-module-id=\"./chunk-sortable-behavior.js\" data-src=\"https://github.githubassets.com/assets/chunk-sortable-behavior-53e3e9d5.js\"></script>',\n",
              " '    <script crossorigin=\"anonymous\" defer=\"defer\" integrity=\"sha512-QBwrFY4kzAVN0nZmTYJLeEhi5bQ+42rE8h1g384XeZb7n62BykcUICACtaDQ473aIrRf38RSR7WDfNEIVuSlTA==\" type=\"application/javascript\" data-module-id=\"./chunk-tweetsodium.js\" data-src=\"https://github.githubassets.com/assets/chunk-tweetsodium-401c2b15.js\"></script>',\n",
              " '    <script crossorigin=\"anonymous\" defer=\"defer\" integrity=\"sha512-wTiR0OTWRXem3tK60//Fv7PTDh1X8HtuH6lFldt3DQ/VbwoB2KFNLNASYsfuKhZxXF12km7x0kHMrHD95PnvXw==\" type=\"application/javascript\" data-module-id=\"./chunk-user-status-submit.js\" data-src=\"https://github.githubassets.com/assets/chunk-user-status-submit-c13891d0.js\"></script>',\n",
              " '  ',\n",
              " '  <script crossorigin=\"anonymous\" defer=\"defer\" integrity=\"sha512-PK4g4u9SxtGmCh9nyVpe+l0ZryxffN/JuoFpFxBcQXk7hdrYTL/9XZuS/nlnWoLy1ry79vsVqWK8XFag/BPfDA==\" type=\"application/javascript\" src=\"https://github.githubassets.com/assets/repositories-3cae20e2.js\"></script>',\n",
              " '<script crossorigin=\"anonymous\" defer=\"defer\" integrity=\"sha512-DqLeKrsuTmjJTkkUDIGsnkwcnGx/+gVhAlAOD9UmXpYV3rjBxhph6/WqEbv3V8XqjNp5ICNPomuJDUhsOOpV3A==\" type=\"application/javascript\" src=\"https://github.githubassets.com/assets/diffs-0ea2de2a.js\"></script>',\n",
              " '',\n",
              " '  <meta name=\"viewport\" content=\"width=device-width\">',\n",
              " '  ',\n",
              " '  <title>ChuckchiHackathon/russian_sents_numbers (1).txt at main · nicklogin/ChuckchiHackathon · GitHub</title>',\n",
              " '    <meta name=\"description\" content=\"Contribute to nicklogin/ChuckchiHackathon development by creating an account on GitHub.\">',\n",
              " '    <link rel=\"search\" type=\"application/opensearchdescription+xml\" href=\"/opensearch.xml\" title=\"GitHub\">',\n",
              " '  <link rel=\"fluid-icon\" href=\"https://github.com/fluidicon.png\" title=\"GitHub\">',\n",
              " '  <meta property=\"fb:app_id\" content=\"1401488693436528\">',\n",
              " '  <meta name=\"apple-itunes-app\" content=\"app-id=1477376905\" />',\n",
              " '    <meta name=\"twitter:image:src\" content=\"https://avatars.githubusercontent.com/u/22028306?s=400&amp;v=4\" /><meta name=\"twitter:site\" content=\"@github\" /><meta name=\"twitter:card\" content=\"summary\" /><meta name=\"twitter:title\" content=\"nicklogin/ChuckchiHackathon\" /><meta name=\"twitter:description\" content=\"Contribute to nicklogin/ChuckchiHackathon development by creating an account on GitHub.\" />',\n",
              " '    <meta property=\"og:image\" content=\"https://avatars.githubusercontent.com/u/22028306?s=400&amp;v=4\" /><meta property=\"og:site_name\" content=\"GitHub\" /><meta property=\"og:type\" content=\"object\" /><meta property=\"og:title\" content=\"nicklogin/ChuckchiHackathon\" /><meta property=\"og:url\" content=\"https://github.com/nicklogin/ChuckchiHackathon\" /><meta property=\"og:description\" content=\"Contribute to nicklogin/ChuckchiHackathon development by creating an account on GitHub.\" />',\n",
              " '',\n",
              " '',\n",
              " '',\n",
              " '    ',\n",
              " '',\n",
              " '  <link rel=\"assets\" href=\"https://github.githubassets.com/\">',\n",
              " '  ',\n",
              " '',\n",
              " '  <meta name=\"request-id\" content=\"8BE4:79BE:1FB08C:23EBB4:6024190A\" data-pjax-transient=\"true\"/><meta name=\"html-safe-nonce\" content=\"03122f66d6554ad3296123dd6aedd56cf42341f96cd7f0fe77a40b2845520560\" data-pjax-transient=\"true\"/><meta name=\"visitor-payload\" content=\"eyJyZWZlcnJlciI6IiIsInJlcXVlc3RfaWQiOiI4QkU0Ojc5QkU6MUZCMDhDOjIzRUJCNDo2MDI0MTkwQSIsInZpc2l0b3JfaWQiOiI0NjcyOTEyMjczNDkzNDY1MzU0IiwicmVnaW9uX2VkZ2UiOiJhcC1ub3J0aGVhc3QtMSIsInJlZ2lvbl9yZW5kZXIiOiJhcC1ub3J0aGVhc3QtMSJ9\" data-pjax-transient=\"true\"/><meta name=\"visitor-hmac\" content=\"b9156a2d3b38e33642ad31727f47329db4f8436d0700f29780ebeeefe12f23c8\" data-pjax-transient=\"true\"/>',\n",
              " '',\n",
              " '    <meta name=\"hovercard-subject-tag\" content=\"repository:337771328\" data-pjax-transient>',\n",
              " '',\n",
              " '',\n",
              " '  <meta name=\"github-keyboard-shortcuts\" content=\"repository,source-code\" data-pjax-transient=\"true\" />',\n",
              " '',\n",
              " '  ',\n",
              " '',\n",
              " '  <meta name=\"selected-link\" value=\"repo_source\" data-pjax-transient>',\n",
              " '',\n",
              " '    <meta name=\"google-site-verification\" content=\"c1kuD-K2HIVF635lypcsWPoD4kilo5-jA_wBFyT4uMY\">',\n",
              " '  <meta name=\"google-site-verification\" content=\"KT5gs8h0wvaagLKAVWq8bbeNwnZZK1r1XQysX3xurLU\">',\n",
              " '  <meta name=\"google-site-verification\" content=\"ZzhVyEFwb7w3e0-uOTltm8Jsck2F5StVihD0exw2fsA\">',\n",
              " '  <meta name=\"google-site-verification\" content=\"GXs5KoUUkNCoaAZn7wPN-t01Pywp9M3sEjnt_3_ZWPc\">',\n",
              " '',\n",
              " '  <meta name=\"octolytics-host\" content=\"collector.githubapp.com\" /><meta name=\"octolytics-app-id\" content=\"github\" /><meta name=\"octolytics-event-url\" content=\"https://collector.githubapp.com/github-external/browser_event\" />',\n",
              " '',\n",
              " '  <meta name=\"analytics-location\" content=\"/&lt;user-name&gt;/&lt;repo-name&gt;/blob/show\" data-pjax-transient=\"true\" />',\n",
              " '',\n",
              " '  ',\n",
              " '',\n",
              " '',\n",
              " '',\n",
              " '  <meta name=\"optimizely-datafile\" content=\"{&quot;version&quot;: &quot;4&quot;, &quot;rollouts&quot;: [], &quot;typedAudiences&quot;: [], &quot;anonymizeIP&quot;: true, &quot;projectId&quot;: &quot;16737760170&quot;, &quot;variables&quot;: [], &quot;featureFlags&quot;: [], &quot;experiments&quot;: [], &quot;audiences&quot;: [{&quot;conditions&quot;: &quot;[\\\\&quot;or\\\\&quot;, {\\\\&quot;match\\\\&quot;: \\\\&quot;exact\\\\&quot;, \\\\&quot;name\\\\&quot;: \\\\&quot;$opt_dummy_attribute\\\\&quot;, \\\\&quot;type\\\\&quot;: \\\\&quot;custom_attribute\\\\&quot;, \\\\&quot;value\\\\&quot;: \\\\&quot;$opt_dummy_value\\\\&quot;}]&quot;, &quot;id&quot;: &quot;$opt_dummy_audience&quot;, &quot;name&quot;: &quot;Optimizely-Generated Audience for Backwards Compatibility&quot;}], &quot;groups&quot;: [], &quot;attributes&quot;: [{&quot;id&quot;: &quot;16822470375&quot;, &quot;key&quot;: &quot;user_id&quot;}, {&quot;id&quot;: &quot;17143601254&quot;, &quot;key&quot;: &quot;spammy&quot;}, {&quot;id&quot;: &quot;18175660309&quot;, &quot;key&quot;: &quot;organization_plan&quot;}, {&quot;id&quot;: &quot;18813001570&quot;, &quot;key&quot;: &quot;is_logged_in&quot;}, {&quot;id&quot;: &quot;19073851829&quot;, &quot;key&quot;: &quot;geo&quot;}], &quot;botFiltering&quot;: false, &quot;accountId&quot;: &quot;16737760170&quot;, &quot;events&quot;: [{&quot;experimentIds&quot;: [], &quot;id&quot;: &quot;17911811441&quot;, &quot;key&quot;: &quot;hydro_click.dashboard.teacher_toolbox_cta&quot;}, {&quot;experimentIds&quot;: [], &quot;id&quot;: &quot;18124116703&quot;, &quot;key&quot;: &quot;submit.organizations.complete_sign_up&quot;}, {&quot;experimentIds&quot;: [], &quot;id&quot;: &quot;18145892387&quot;, &quot;key&quot;: &quot;no_metric.tracked_outside_of_optimizely&quot;}, {&quot;experimentIds&quot;: [], &quot;id&quot;: &quot;18178755568&quot;, &quot;key&quot;: &quot;click.org_onboarding_checklist.add_repo&quot;}, {&quot;experimentIds&quot;: [], &quot;id&quot;: &quot;18180553241&quot;, &quot;key&quot;: &quot;submit.repository_imports.create&quot;}, {&quot;experimentIds&quot;: [], &quot;id&quot;: &quot;18186103728&quot;, &quot;key&quot;: &quot;click.help.learn_more_about_repository_creation&quot;}, {&quot;experimentIds&quot;: [], &quot;id&quot;: &quot;18188530140&quot;, &quot;key&quot;: &quot;test_event.do_not_use_in_production&quot;}, {&quot;experimentIds&quot;: [], &quot;id&quot;: &quot;18191963644&quot;, &quot;key&quot;: &quot;click.empty_org_repo_cta.transfer_repository&quot;}, {&quot;experimentIds&quot;: [], &quot;id&quot;: &quot;18195612788&quot;, &quot;key&quot;: &quot;click.empty_org_repo_cta.import_repository&quot;}, {&quot;experimentIds&quot;: [], &quot;id&quot;: &quot;18210945499&quot;, &quot;key&quot;: &quot;click.org_onboarding_checklist.invite_members&quot;}, {&quot;experimentIds&quot;: [], &quot;id&quot;: &quot;18211063248&quot;, &quot;key&quot;: &quot;click.empty_org_repo_cta.create_repository&quot;}, {&quot;experimentIds&quot;: [], &quot;id&quot;: &quot;18215721889&quot;, &quot;key&quot;: &quot;click.org_onboarding_checklist.update_profile&quot;}, {&quot;experimentIds&quot;: [], &quot;id&quot;: &quot;18224360785&quot;, &quot;key&quot;: &quot;click.org_onboarding_checklist.dismiss&quot;}, {&quot;experimentIds&quot;: [], &quot;id&quot;: &quot;18234832286&quot;, &quot;key&quot;: &quot;submit.organization_activation.complete&quot;}, {&quot;experimentIds&quot;: [], &quot;id&quot;: &quot;18252392383&quot;, &quot;key&quot;: &quot;submit.org_repository.create&quot;}, {&quot;experimentIds&quot;: [], &quot;id&quot;: &quot;18257551537&quot;, &quot;key&quot;: &quot;submit.org_member_invitation.create&quot;}, {&quot;experimentIds&quot;: [], &quot;id&quot;: &quot;18259522260&quot;, &quot;key&quot;: &quot;submit.organization_profile.update&quot;}, {&quot;experimentIds&quot;: [], &quot;id&quot;: &quot;18564603625&quot;, &quot;key&quot;: &quot;view.classroom_select_organization&quot;}, {&quot;experimentIds&quot;: [], &quot;id&quot;: &quot;18568612016&quot;, &quot;key&quot;: &quot;click.classroom_sign_in_click&quot;}, {&quot;experimentIds&quot;: [], &quot;id&quot;: &quot;18572592540&quot;, &quot;key&quot;: &quot;view.classroom_name&quot;}, {&quot;experimentIds&quot;: [], &quot;id&quot;: &quot;18574203855&quot;, &quot;key&quot;: &quot;click.classroom_create_organization&quot;}, {&quot;experimentIds&quot;: [], &quot;id&quot;: &quot;18582053415&quot;, &quot;key&quot;: &quot;click.classroom_select_organization&quot;}, {&quot;experimentIds&quot;: [], &quot;id&quot;: &quot;18589463420&quot;, &quot;key&quot;: &quot;click.classroom_create_classroom&quot;}, {&quot;experimentIds&quot;: [], &quot;id&quot;: &quot;18591323364&quot;, &quot;key&quot;: &quot;click.classroom_create_first_classroom&quot;}, {&quot;experimentIds&quot;: [], &quot;id&quot;: &quot;18591652321&quot;, &quot;key&quot;: &quot;click.classroom_grant_access&quot;}, {&quot;experimentIds&quot;: [], &quot;id&quot;: &quot;18607131425&quot;, &quot;key&quot;: &quot;view.classroom_creation&quot;}, {&quot;experimentIds&quot;: [], &quot;id&quot;: &quot;18831680583&quot;, &quot;key&quot;: &quot;upgrade_account_plan&quot;}, {&quot;experimentIds&quot;: [], &quot;id&quot;: &quot;19064064515&quot;, &quot;key&quot;: &quot;click.signup&quot;}, {&quot;experimentIds&quot;: [], &quot;id&quot;: &quot;19075373687&quot;, &quot;key&quot;: &quot;click.view_account_billing_page&quot;}, {&quot;experimentIds&quot;: [], &quot;id&quot;: &quot;19077355841&quot;, &quot;key&quot;: &quot;click.dismiss_signup_prompt&quot;}, {&quot;experimentIds&quot;: [], &quot;id&quot;: &quot;19079713938&quot;, &quot;key&quot;: &quot;click.contact_sales&quot;}, {&quot;experimentIds&quot;: [], &quot;id&quot;: &quot;19120963070&quot;, &quot;key&quot;: &quot;click.compare_account_plans&quot;}, {&quot;experimentIds&quot;: [], &quot;id&quot;: &quot;19151690317&quot;, &quot;key&quot;: &quot;click.upgrade_account_cta&quot;}, {&quot;experimentIds&quot;: [], &quot;id&quot;: &quot;19424193129&quot;, &quot;key&quot;: &quot;click.open_account_switcher&quot;}, {&quot;experimentIds&quot;: [], &quot;id&quot;: &quot;19520330825&quot;, &quot;key&quot;: &quot;click.visit_account_profile&quot;}, {&quot;experimentIds&quot;: [], &quot;id&quot;: &quot;19540970635&quot;, &quot;key&quot;: &quot;click.switch_account_context&quot;}, {&quot;experimentIds&quot;: [], &quot;id&quot;: &quot;19730198868&quot;, &quot;key&quot;: &quot;submit.homepage_signup&quot;}, {&quot;experimentIds&quot;: [], &quot;id&quot;: &quot;19820830627&quot;, &quot;key&quot;: &quot;click.homepage_signup&quot;}, {&quot;experimentIds&quot;: [], &quot;id&quot;: &quot;19988571001&quot;, &quot;key&quot;: &quot;click.create_enterprise_trial&quot;}], &quot;revision&quot;: &quot;420&quot;}\" />',\n",
              " '  <!-- To prevent page flashing, the optimizely JS needs to be loaded in the',\n",
              " '    <head> tag before the DOM renders -->',\n",
              " '  <script crossorigin=\"anonymous\" defer=\"defer\" integrity=\"sha512-VJrqSK702Mzl9EQxm2OvFxKaumGptgVdeJS2rsaLvVlOdR4HEu3ZFjtV83kMKdYRelUnxxaAFw0wthkpdEUafw==\" type=\"application/javascript\" src=\"https://github.githubassets.com/assets/optimizely-549aea48.js\"></script>',\n",
              " '',\n",
              " '',\n",
              " '',\n",
              " '  ',\n",
              " '',\n",
              " '      <meta name=\"hostname\" content=\"github.com\">',\n",
              " '    <meta name=\"user-login\" content=\"\">',\n",
              " '',\n",
              " '',\n",
              " '      <meta name=\"expected-hostname\" content=\"github.com\">',\n",
              " '',\n",
              " '',\n",
              " '    <meta name=\"enabled-features\" content=\"MARKETPLACE_PENDING_INSTALLATIONS,ACTIONS_SHORT_SHA_WARNING\">',\n",
              " '',\n",
              " '  <meta http-equiv=\"x-pjax-version\" content=\"23a593132acf8377452acb276ca608e2f47f020fa5dd6bb74cd12cecef1610d0\">',\n",
              " '  ',\n",
              " '',\n",
              " '        <link href=\"https://github.com/nicklogin/ChuckchiHackathon/commits/main.atom\" rel=\"alternate\" title=\"Recent Commits to ChuckchiHackathon:main\" type=\"application/atom+xml\">',\n",
              " '',\n",
              " '  <meta name=\"go-import\" content=\"github.com/nicklogin/ChuckchiHackathon git https://github.com/nicklogin/ChuckchiHackathon.git\">',\n",
              " '',\n",
              " '  <meta name=\"octolytics-dimension-user_id\" content=\"22028306\" /><meta name=\"octolytics-dimension-user_login\" content=\"nicklogin\" /><meta name=\"octolytics-dimension-repository_id\" content=\"337771328\" /><meta name=\"octolytics-dimension-repository_nwo\" content=\"nicklogin/ChuckchiHackathon\" /><meta name=\"octolytics-dimension-repository_public\" content=\"true\" /><meta name=\"octolytics-dimension-repository_is_fork\" content=\"false\" /><meta name=\"octolytics-dimension-repository_network_root_id\" content=\"337771328\" /><meta name=\"octolytics-dimension-repository_network_root_nwo\" content=\"nicklogin/ChuckchiHackathon\" />',\n",
              " '',\n",
              " '',\n",
              " '',\n",
              " '    <link rel=\"canonical\" href=\"https://github.com/nicklogin/ChuckchiHackathon/blob/main/russian_sents_numbers%20(1).txt\" data-pjax-transient>',\n",
              " '',\n",
              " '',\n",
              " '  <meta name=\"browser-stats-url\" content=\"https://api.github.com/_private/browser/stats\">',\n",
              " '',\n",
              " '  <meta name=\"browser-errors-url\" content=\"https://api.github.com/_private/browser/errors\">',\n",
              " '',\n",
              " '  <meta name=\"browser-optimizely-client-errors-url\" content=\"https://api.github.com/_private/browser/optimizely_client/errors\">',\n",
              " '',\n",
              " '  <link rel=\"mask-icon\" href=\"https://github.githubassets.com/pinned-octocat.svg\" color=\"#000000\">',\n",
              " '  <link rel=\"alternate icon\" class=\"js-site-favicon\" type=\"image/png\" href=\"https://github.githubassets.com/favicons/favicon.png\">',\n",
              " '  <link rel=\"icon\" class=\"js-site-favicon\" type=\"image/svg+xml\" href=\"https://github.githubassets.com/favicons/favicon.svg\">',\n",
              " '',\n",
              " '<meta name=\"theme-color\" content=\"#1e2327\">',\n",
              " '',\n",
              " '',\n",
              " '  <link rel=\"manifest\" href=\"/manifest.json\" crossOrigin=\"use-credentials\">',\n",
              " '',\n",
              " '  </head>',\n",
              " '',\n",
              " '  <body class=\"logged-out env-production page-responsive page-blob\" style=\"word-wrap: break-word;\">',\n",
              " '    ',\n",
              " '',\n",
              " '    <div class=\"position-relative js-header-wrapper \">',\n",
              " '      <a href=\"#start-of-content\" class=\"px-2 py-4 bg-blue text-white show-on-focus js-skip-to-content\">Skip to content</a>',\n",
              " '      <span class=\"progress-pjax-loader width-full js-pjax-loader-bar Progress position-fixed\">',\n",
              " '    <span style=\"background-color: #79b8ff;width: 0%;\" class=\"Progress-item progress-pjax-loader-bar \"></span>',\n",
              " '</span>      ',\n",
              " '      ',\n",
              " '',\n",
              " '',\n",
              " '            <header class=\"Header-old header-logged-out js-details-container Details position-relative f4 py-2\" role=\"banner\">',\n",
              " '  <div class=\"container-xl d-lg-flex flex-items-center p-responsive\">',\n",
              " '    <div class=\"d-flex flex-justify-between flex-items-center\">',\n",
              " '        <a class=\"mr-4\" href=\"https://github.com/\" aria-label=\"Homepage\" data-ga-click=\"(Logged out) Header, go to homepage, icon:logo-wordmark\">',\n",
              " '          <svg height=\"32\" class=\"octicon octicon-mark-github text-white\" viewBox=\"0 0 16 16\" version=\"1.1\" width=\"32\" aria-hidden=\"true\"><path fill-rule=\"evenodd\" d=\"M8 0C3.58 0 0 3.58 0 8c0 3.54 2.29 6.53 5.47 7.59.4.07.55-.17.55-.38 0-.19-.01-.82-.01-1.49-2.01.37-2.53-.49-2.69-.94-.09-.23-.48-.94-.82-1.13-.28-.15-.68-.52-.01-.53.63-.01 1.08.58 1.23.82.72 1.21 1.87.87 2.33.66.07-.52.28-.87.51-1.07-1.78-.2-3.64-.89-3.64-3.95 0-.87.31-1.59.82-2.15-.08-.2-.36-1.02.08-2.12 0 0 .67-.21 2.2.82.64-.18 1.32-.27 2-.27.68 0 1.36.09 2 .27 1.53-1.04 2.2-.82 2.2-.82.44 1.1.16 1.92.08 2.12.51.56.82 1.27.82 2.15 0 3.07-1.87 3.75-3.65 3.95.29.25.54.73.54 1.48 0 1.07-.01 1.93-.01 2.2 0 .21.15.46.55.38A8.013 8.013 0 0016 8c0-4.42-3.58-8-8-8z\"></path></svg>',\n",
              " '        </a>',\n",
              " '',\n",
              " '          <div class=\"d-lg-none css-truncate css-truncate-target width-fit p-2\">',\n",
              " '            ',\n",
              " '',\n",
              " '          </div>',\n",
              " '',\n",
              " '        <div class=\"d-flex flex-items-center\">',\n",
              " '              <a href=\"/join?ref_cta=Sign+up&amp;ref_loc=header+logged+out&amp;ref_page=%2F%3Cuser-name%3E%2F%3Crepo-name%3E%2Fblob%2Fshow&amp;source=header-repo\"',\n",
              " '                class=\"d-inline-block d-lg-none f5 text-white no-underline border border-gray-dark rounded-2 px-2 py-1 mr-3 mr-sm-5\"',\n",
              " '                data-hydro-click=\"{&quot;event_type&quot;:&quot;authentication.click&quot;,&quot;payload&quot;:{&quot;location_in_page&quot;:&quot;site header&quot;,&quot;repository_id&quot;:null,&quot;auth_type&quot;:&quot;SIGN_UP&quot;,&quot;originating_url&quot;:&quot;https://github.com/nicklogin/ChuckchiHackathon/blob/main/russian_sents_numbers%20(1).txt&quot;,&quot;user_id&quot;:null}}\" data-hydro-click-hmac=\"a80e504fb89e9cdac81bb3cc1d71f816c3e5e70829c8dd43add2cf092c9acc18\"',\n",
              " '                data-ga-click=\"Sign up, click to sign up for account, ref_page:/&lt;user-name&gt;/&lt;repo-name&gt;/blob/show;ref_cta:Sign up;ref_loc:header logged out\">',\n",
              " '                Sign&nbsp;up',\n",
              " '              </a>',\n",
              " '',\n",
              " '          <button class=\"btn-link d-lg-none mt-1 js-details-target\" type=\"button\" aria-label=\"Toggle navigation\" aria-expanded=\"false\">',\n",
              " '            <svg height=\"24\" class=\"octicon octicon-three-bars text-white\" viewBox=\"0 0 16 16\" version=\"1.1\" width=\"24\" aria-hidden=\"true\"><path fill-rule=\"evenodd\" d=\"M1 2.75A.75.75 0 011.75 2h12.5a.75.75 0 110 1.5H1.75A.75.75 0 011 2.75zm0 5A.75.75 0 011.75 7h12.5a.75.75 0 110 1.5H1.75A.75.75 0 011 7.75zM1.75 12a.75.75 0 100 1.5h12.5a.75.75 0 100-1.5H1.75z\"></path></svg>',\n",
              " '          </button>',\n",
              " '        </div>',\n",
              " '    </div>',\n",
              " '',\n",
              " '    <div class=\"HeaderMenu HeaderMenu--logged-out position-fixed top-0 right-0 bottom-0 height-fit position-lg-relative d-lg-flex flex-justify-between flex-items-center flex-auto\">',\n",
              " '      <div class=\"d-flex d-lg-none flex-justify-end border-bottom bg-gray-light p-3\">',\n",
              " '        <button class=\"btn-link js-details-target\" type=\"button\" aria-label=\"Toggle navigation\" aria-expanded=\"false\">',\n",
              " '          <svg height=\"24\" class=\"octicon octicon-x text-gray\" viewBox=\"0 0 24 24\" version=\"1.1\" width=\"24\" aria-hidden=\"true\"><path fill-rule=\"evenodd\" d=\"M5.72 5.72a.75.75 0 011.06 0L12 10.94l5.22-5.22a.75.75 0 111.06 1.06L13.06 12l5.22 5.22a.75.75 0 11-1.06 1.06L12 13.06l-5.22 5.22a.75.75 0 01-1.06-1.06L10.94 12 5.72 6.78a.75.75 0 010-1.06z\"></path></svg>',\n",
              " '        </button>',\n",
              " '      </div>',\n",
              " '',\n",
              " '        <nav class=\"mt-0 px-3 px-lg-0 mb-5 mb-lg-0\" aria-label=\"Global\">',\n",
              " '          <ul class=\"d-lg-flex list-style-none\">',\n",
              " '              <li class=\"d-block d-lg-flex flex-lg-nowrap flex-lg-items-center border-bottom border-lg-bottom-0 mr-0 mr-lg-3 edge-item-fix position-relative flex-wrap flex-justify-between d-flex flex-items-center \">',\n",
              " '                <details class=\"HeaderMenu-details details-overlay details-reset width-full\">',\n",
              " '                  <summary class=\"HeaderMenu-summary HeaderMenu-link px-0 py-3 border-0 no-wrap d-block d-lg-inline-block\">',\n",
              " '                    Why GitHub?',\n",
              " '                    <svg x=\"0px\" y=\"0px\" viewBox=\"0 0 14 8\" xml:space=\"preserve\" fill=\"none\" class=\"icon-chevon-down-mktg position-absolute position-lg-relative\">',\n",
              " '                      <path d=\"M1,1l6.2,6L13,1\"></path>',\n",
              " '                    </svg>',\n",
              " '                  </summary>',\n",
              " '                  <div class=\"dropdown-menu flex-auto rounded-1 bg-white px-0 mt-0 pb-4 p-lg-4 position-relative position-lg-absolute left-0 left-lg-n4\">',\n",
              " '                    <a href=\"/features\" class=\"py-2 lh-condensed-ultra d-block link-gray-dark no-underline h5 Bump-link--hover\" data-ga-click=\"(Logged out) Header, go to Features\">Features <span class=\"Bump-link-symbol float-right text-normal text-gray-light pr-3\">&rarr;</span></a>',\n",
              " '                    <ul class=\"list-style-none f5 pb-3\">',\n",
              " '                        <li class=\"edge-item-fix\"><a href=\"/mobile\" class=\"py-2 lh-condensed-ultra d-block link-gray no-underline f5 Bump-link--hover\">Mobile <span class=\"Bump-link-symbol float-right text-normal text-gray-light pr-3\">&rarr;</span></a></li>',\n",
              " '                        <li class=\"edge-item-fix\"><a href=\"/features/actions\" class=\"py-2 lh-condensed-ultra d-block link-gray no-underline f5 Bump-link--hover\">Actions <span class=\"Bump-link-symbol float-right text-normal text-gray-light pr-3\">&rarr;</span></a></li>',\n",
              " '                        <li class=\"edge-item-fix\"><a href=\"/features/codespaces\" class=\"py-2 lh-condensed-ultra d-block link-gray no-underline f5 Bump-link--hover\">Codespaces <span class=\"Bump-link-symbol float-right text-normal text-gray-light pr-3\">&rarr;</span></a></li>',\n",
              " '                        <li class=\"edge-item-fix\"><a href=\"/features/packages\" class=\"py-2 lh-condensed-ultra d-block link-gray no-underline f5 Bump-link--hover\">Packages <span class=\"Bump-link-symbol float-right text-normal text-gray-light pr-3\">&rarr;</span></a></li>',\n",
              " '                        <li class=\"edge-item-fix\"><a href=\"/features/security\" class=\"py-2 lh-condensed-ultra d-block link-gray no-underline f5 Bump-link--hover\">Security <span class=\"Bump-link-symbol float-right text-normal text-gray-light pr-3\">&rarr;</span></a></li>',\n",
              " '                        <li class=\"edge-item-fix\"><a href=\"/features/code-review/\" class=\"py-2 lh-condensed-ultra d-block link-gray no-underline f5 Bump-link--hover\">Code review <span class=\"Bump-link-symbol float-right text-normal text-gray-light pr-3\">&rarr;</span></a></li>',\n",
              " '                        <li class=\"edge-item-fix\"><a href=\"/features/project-management/\" class=\"py-2 lh-condensed-ultra d-block link-gray no-underline f5 Bump-link--hover\">Project management <span class=\"Bump-link-symbol float-right text-normal text-gray-light pr-3\">&rarr;</span></a></li>',\n",
              " '                        <li class=\"edge-item-fix\"><a href=\"/features/integrations\" class=\"py-2 lh-condensed-ultra d-block link-gray no-underline f5 Bump-link--hover\">Integrations <span class=\"Bump-link-symbol float-right text-normal text-gray-light pr-3\">&rarr;</span></a></li>',\n",
              " '                    </ul>',\n",
              " '',\n",
              " '                    <ul class=\"list-style-none mb-0 border-lg-top pt-lg-3\">',\n",
              " '                      <li class=\"edge-item-fix\"><a href=\"/sponsors\" class=\"py-2 lh-condensed-ultra d-block no-underline link-gray-dark no-underline h5 Bump-link--hover\" data-ga-click=\"(Logged out) Header, go to Sponsors\">GitHub Sponsors <span class=\"Bump-link-symbol float-right text-normal text-gray-light pr-3\">&rarr;</span></a></li>',\n",
              " '                      <li class=\"edge-item-fix\"><a href=\"/customer-stories\" class=\"py-2 lh-condensed-ultra d-block no-underline link-gray-dark no-underline h5 Bump-link--hover\" data-ga-click=\"(Logged out) Header, go to Customer stories\">Customer stories <span class=\"Bump-link-symbol float-right text-normal text-gray-light pr-3\">&rarr;</span></a></li>',\n",
              " '                      <li class=\"edge-item-fix\"><a href=\"/security\" class=\"py-2 lh-condensed-ultra d-block no-underline link-gray-dark no-underline h5 Bump-link--hover\" data-ga-click=\"(Logged out) Header, go to Security\">Security <span class=\"Bump-link-symbol float-right text-normal text-gray-light pr-3\">&rarr;</span></a></li>',\n",
              " '                    </ul>',\n",
              " '                  </div>',\n",
              " '                </details>',\n",
              " '              </li>',\n",
              " '              <li class=\"border-bottom border-lg-bottom-0 mr-0 mr-lg-3\">',\n",
              " '                <a href=\"/team\" class=\"HeaderMenu-link no-underline py-3 d-block d-lg-inline-block\" data-ga-click=\"(Logged out) Header, go to Team\">Team</a>',\n",
              " '              </li>',\n",
              " '              <li class=\"border-bottom border-lg-bottom-0 mr-0 mr-lg-3\">',\n",
              " '                <a href=\"/enterprise\" class=\"HeaderMenu-link no-underline py-3 d-block d-lg-inline-block\" data-ga-click=\"(Logged out) Header, go to Enterprise\">Enterprise</a>',\n",
              " '              </li>',\n",
              " '',\n",
              " '              <li class=\"d-block d-lg-flex flex-lg-nowrap flex-lg-items-center border-bottom border-lg-bottom-0 mr-0 mr-lg-3 edge-item-fix position-relative flex-wrap flex-justify-between d-flex flex-items-center \">',\n",
              " '                <details class=\"HeaderMenu-details details-overlay details-reset width-full\">',\n",
              " '                  <summary class=\"HeaderMenu-summary HeaderMenu-link px-0 py-3 border-0 no-wrap d-block d-lg-inline-block\">',\n",
              " '                    Explore',\n",
              " '                    <svg x=\"0px\" y=\"0px\" viewBox=\"0 0 14 8\" xml:space=\"preserve\" fill=\"none\" class=\"icon-chevon-down-mktg position-absolute position-lg-relative\">',\n",
              " '                      <path d=\"M1,1l6.2,6L13,1\"></path>',\n",
              " '                    </svg>',\n",
              " '                  </summary>',\n",
              " '',\n",
              " '                  <div class=\"dropdown-menu flex-auto rounded-1 bg-white px-0 pt-2 pb-0 mt-0 pb-4 p-lg-4 position-relative position-lg-absolute left-0 left-lg-n4\">',\n",
              " '                    <ul class=\"list-style-none mb-3\">',\n",
              " '                      <li class=\"edge-item-fix\"><a href=\"/explore\" class=\"py-2 lh-condensed-ultra d-block link-gray-dark no-underline h5 Bump-link--hover\" data-ga-click=\"(Logged out) Header, go to Explore\">Explore GitHub <span class=\"Bump-link-symbol float-right text-normal text-gray-light pr-3\">&rarr;</span></a></li>',\n",
              " '                    </ul>',\n",
              " '',\n",
              " '                    <h4 class=\"text-gray-light text-normal text-mono f5 mb-2 border-lg-top pt-lg-3\">Learn &amp; contribute</h4>',\n",
              " '                    <ul class=\"list-style-none mb-3\">',\n",
              " '                      <li class=\"edge-item-fix\"><a href=\"/topics\" class=\"py-2 lh-condensed-ultra d-block link-gray no-underline f5 Bump-link--hover\" data-ga-click=\"(Logged out) Header, go to Topics\">Topics <span class=\"Bump-link-symbol float-right text-normal text-gray-light pr-3\">&rarr;</span></a></li>',\n",
              " '                        <li class=\"edge-item-fix\"><a href=\"/collections\" class=\"py-2 lh-condensed-ultra d-block link-gray no-underline f5 Bump-link--hover\" data-ga-click=\"(Logged out) Header, go to Collections\">Collections <span class=\"Bump-link-symbol float-right text-normal text-gray-light pr-3\">&rarr;</span></a></li>',\n",
              " '                      <li class=\"edge-item-fix\"><a href=\"/trending\" class=\"py-2 lh-condensed-ultra d-block link-gray no-underline f5 Bump-link--hover\" data-ga-click=\"(Logged out) Header, go to Trending\">Trending <span class=\"Bump-link-symbol float-right text-normal text-gray-light pr-3\">&rarr;</span></a></li>',\n",
              " '                      <li class=\"edge-item-fix\"><a href=\"https://lab.github.com/\" class=\"py-2 lh-condensed-ultra d-block link-gray no-underline f5 Bump-link--hover\" data-ga-click=\"(Logged out) Header, go to Learning lab\">Learning Lab <span class=\"Bump-link-symbol float-right text-normal text-gray-light pr-3\">&rarr;</span></a></li>',\n",
              " '                      <li class=\"edge-item-fix\"><a href=\"https://opensource.guide\" class=\"py-2 lh-condensed-ultra d-block link-gray no-underline f5 Bump-link--hover\" data-ga-click=\"(Logged out) Header, go to Open source guides\">Open source guides <span class=\"Bump-link-symbol float-right text-normal text-gray-light pr-3\">&rarr;</span></a></li>',\n",
              " '                    </ul>',\n",
              " '',\n",
              " '                    <h4 class=\"text-gray-light text-normal text-mono f5 mb-2 border-lg-top pt-lg-3\">Connect with others</h4>',\n",
              " '                    <ul class=\"list-style-none mb-0\">',\n",
              " '                      <li class=\"edge-item-fix\"><a href=\"https://github.com/readme\" class=\"py-2 lh-condensed-ultra d-block link-gray no-underline f5 Bump-link--hover\">The ReadME Project <span class=\"Bump-link-symbol float-right text-normal text-gray-light pr-3\">&rarr;</span></a></li>',\n",
              " '                      <li class=\"edge-item-fix\"><a href=\"https://github.com/events\" class=\"py-2 lh-condensed-ultra d-block link-gray no-underline f5 Bump-link--hover\" data-ga-click=\"(Logged out) Header, go to Events\">Events <span class=\"Bump-link-symbol float-right text-normal text-gray-light pr-3\">&rarr;</span></a></li>',\n",
              " '                      <li class=\"edge-item-fix\"><a href=\"https://github.community\" class=\"py-2 lh-condensed-ultra d-block link-gray no-underline f5 Bump-link--hover\" data-ga-click=\"(Logged out) Header, go to Community forum\">Community forum <span class=\"Bump-link-symbol float-right text-normal text-gray-light pr-3\">&rarr;</span></a></li>',\n",
              " '                      <li class=\"edge-item-fix\"><a href=\"https://education.github.com\" class=\"py-2 lh-condensed-ultra d-block link-gray no-underline f5 Bump-link--hover\" data-ga-click=\"(Logged out) Header, go to GitHub Education\">GitHub Education <span class=\"Bump-link-symbol float-right text-normal text-gray-light pr-3\">&rarr;</span></a></li>',\n",
              " '                      <li class=\"edge-item-fix\"><a href=\"https://stars.github.com\" class=\"py-2 pb-0 lh-condensed-ultra d-block link-gray no-underline f5 Bump-link--hover\" data-ga-click=\"(Logged out) Header, go to GitHub Stars Program\">GitHub Stars program <span class=\"Bump-link-symbol float-right text-normal text-gray-light pr-3\">&rarr;</span></a></li>',\n",
              " '                    </ul>',\n",
              " '                  </div>',\n",
              " '                </details>',\n",
              " '              </li>',\n",
              " '',\n",
              " '              <li class=\"border-bottom border-lg-bottom-0 mr-0 mr-lg-3\">',\n",
              " '                <a href=\"/marketplace\" class=\"HeaderMenu-link no-underline py-3 d-block d-lg-inline-block\" data-ga-click=\"(Logged out) Header, go to Marketplace\">Marketplace</a>',\n",
              " '              </li>',\n",
              " '',\n",
              " '              <li class=\"d-block d-lg-flex flex-lg-nowrap flex-lg-items-center border-bottom border-lg-bottom-0 mr-0 mr-lg-3 edge-item-fix position-relative flex-wrap flex-justify-between d-flex flex-items-center \">',\n",
              " '                <details class=\"HeaderMenu-details details-overlay details-reset width-full\">',\n",
              " '                  <summary class=\"HeaderMenu-summary HeaderMenu-link px-0 py-3 border-0 no-wrap d-block d-lg-inline-block\">',\n",
              " '                    Pricing',\n",
              " '                    <svg x=\"0px\" y=\"0px\" viewBox=\"0 0 14 8\" xml:space=\"preserve\" fill=\"none\" class=\"icon-chevon-down-mktg position-absolute position-lg-relative\">',\n",
              " '                       <path d=\"M1,1l6.2,6L13,1\"></path>',\n",
              " '                    </svg>',\n",
              " '                  </summary>',\n",
              " '',\n",
              " '                  <div class=\"dropdown-menu flex-auto rounded-1 bg-white px-0 pt-2 pb-4 mt-0 p-lg-4 position-relative position-lg-absolute left-0 left-lg-n4\">',\n",
              " '                    <a href=\"/pricing\" class=\"pb-2 lh-condensed-ultra d-block link-gray-dark no-underline h5 Bump-link--hover\" data-ga-click=\"(Logged out) Header, go to Pricing\">Plans <span class=\"Bump-link-symbol float-right text-normal text-gray-light pr-3\">&rarr;</span></a>',\n",
              " '',\n",
              " '                    <ul class=\"list-style-none mb-3\">',\n",
              " '                      <li class=\"edge-item-fix\"><a href=\"/pricing#feature-comparison\" class=\"py-2 lh-condensed-ultra d-block link-gray no-underline f5 Bump-link--hover\" data-ga-click=\"(Logged out) Header, go to Compare plans\">Compare plans <span class=\"Bump-link-symbol float-right text-normal text-gray-light pr-3\">&rarr;</span></a></li>',\n",
              " '                      <li class=\"edge-item-fix\"><a href=\"https://enterprise.github.com/contact\" class=\"py-2 lh-condensed-ultra d-block link-gray no-underline f5 Bump-link--hover\" data-ga-click=\"(Logged out) Header, go to Contact Sales\">Contact Sales <span class=\"Bump-link-symbol float-right text-normal text-gray-light pr-3\">&rarr;</span></a></li>',\n",
              " '                    </ul>',\n",
              " '',\n",
              " '                    <ul class=\"list-style-none mb-0 border-lg-top pt-lg-3\">',\n",
              " '                      <li class=\"edge-item-fix\"><a href=\"/nonprofit\" class=\"py-2 lh-condensed-ultra d-block no-underline link-gray-dark no-underline h5 Bump-link--hover\" data-ga-click=\"(Logged out) Header, go to Nonprofits\">Nonprofit <span class=\"Bump-link-symbol float-right text-normal text-gray-light pr-3\">&rarr;</span></a></li>',\n",
              " '                      <li class=\"edge-item-fix\"><a href=\"https://education.github.com\" class=\"py-2 pb-0 lh-condensed-ultra d-block no-underline link-gray-dark no-underline h5 Bump-link--hover\"  data-ga-click=\"(Logged out) Header, go to Education\">Education <span class=\"Bump-link-symbol float-right text-normal text-gray-light pr-3\">&rarr;</span></a></li>',\n",
              " '                    </ul>',\n",
              " '                  </div>',\n",
              " '                </details>',\n",
              " '              </li>',\n",
              " '          </ul>',\n",
              " '        </nav>',\n",
              " '',\n",
              " '      <div class=\"d-lg-flex flex-items-center px-3 px-lg-0 text-center text-lg-left\">',\n",
              " '          <div class=\"d-lg-flex mb-3 mb-lg-0\">',\n",
              " '            <div class=\"header-search flex-auto js-site-search position-relative flex-self-stretch flex-md-self-auto mb-3 mb-md-0 mr-0 mr-md-3 scoped-search site-scoped-search js-jump-to\"',\n",
              " '  role=\"combobox\"',\n",
              " '  aria-owns=\"jump-to-results\"',\n",
              " '  aria-label=\"Search or jump to\"',\n",
              " '  aria-haspopup=\"listbox\"',\n",
              " '  aria-expanded=\"false\"',\n",
              " '>',\n",
              " '  <div class=\"position-relative\">',\n",
              " '    <!-- \\'\"` --><!-- </textarea></xmp> --></option></form><form class=\"js-site-search-form\" role=\"search\" aria-label=\"Site\" data-scope-type=\"Repository\" data-scope-id=\"337771328\" data-scoped-search-url=\"/nicklogin/ChuckchiHackathon/search\" data-owner-scoped-search-url=\"/users/nicklogin/search\" data-unscoped-search-url=\"/search\" action=\"/nicklogin/ChuckchiHackathon/search\" accept-charset=\"UTF-8\" method=\"get\">',\n",
              " '      <label class=\"form-control input-sm header-search-wrapper p-0 js-chromeless-input-container header-search-wrapper-jump-to position-relative d-flex flex-justify-between flex-items-center\">',\n",
              " '        <input type=\"text\"',\n",
              " '          class=\"form-control input-sm header-search-input jump-to-field js-jump-to-field js-site-search-focus js-site-search-field is-clearable\"',\n",
              " '          data-hotkey=\"s,/\"',\n",
              " '          name=\"q\"',\n",
              " '          value=\"\"',\n",
              " '          placeholder=\"Search\"',\n",
              " '          data-unscoped-placeholder=\"Search GitHub\"',\n",
              " '          data-scoped-placeholder=\"Search\"',\n",
              " '          autocapitalize=\"off\"',\n",
              " '          aria-autocomplete=\"list\"',\n",
              " '          aria-controls=\"jump-to-results\"',\n",
              " '          aria-label=\"Search\"',\n",
              " '          data-jump-to-suggestions-path=\"/_graphql/GetSuggestedNavigationDestinations\"',\n",
              " '          spellcheck=\"false\"',\n",
              " '          autocomplete=\"off\"',\n",
              " '          >',\n",
              " '          <input type=\"hidden\" data-csrf=\"true\" class=\"js-data-jump-to-suggestions-path-csrf\" value=\"7M+Wp9lm/0ViFqkFF1fsIJ4c6cxY939ZUhDwCJCUKp4+U8OoVwOy+zCowsj/Pon+3OPFEHWaAWJMFPDSi0Ncbw==\" />',\n",
              " '          <input type=\"hidden\" class=\"js-site-search-type-field\" name=\"type\" >',\n",
              " '            <img src=\"https://github.githubassets.com/images/search-key-slash.svg\" alt=\"\" class=\"mr-2 header-search-key-slash\">',\n",
              " '',\n",
              " '            <div class=\"Box position-absolute overflow-hidden d-none jump-to-suggestions js-jump-to-suggestions-container\">',\n",
              " '              ',\n",
              " '<ul class=\"d-none js-jump-to-suggestions-template-container\">',\n",
              " '  ',\n",
              " '',\n",
              " '<li class=\"d-flex flex-justify-start flex-items-center p-0 f5 navigation-item js-navigation-item js-jump-to-suggestion\" role=\"option\">',\n",
              " '  <a tabindex=\"-1\" class=\"no-underline d-flex flex-auto flex-items-center jump-to-suggestions-path js-jump-to-suggestion-path js-navigation-open p-2\" href=\"\" data-item-type=\"suggestion\">',\n",
              " '    <div class=\"jump-to-octicon js-jump-to-octicon flex-shrink-0 mr-2 text-center d-none\">',\n",
              " '      <svg height=\"16\" width=\"16\" class=\"octicon octicon-repo flex-shrink-0 js-jump-to-octicon-repo d-none\" title=\"Repository\" aria-label=\"Repository\" viewBox=\"0 0 16 16\" version=\"1.1\" role=\"img\"><path fill-rule=\"evenodd\" d=\"M2 2.5A2.5 2.5 0 014.5 0h8.75a.75.75 0 01.75.75v12.5a.75.75 0 01-.75.75h-2.5a.75.75 0 110-1.5h1.75v-2h-8a1 1 0 00-.714 1.7.75.75 0 01-1.072 1.05A2.495 2.495 0 012 11.5v-9zm10.5-1V9h-8c-.356 0-.694.074-1 .208V2.5a1 1 0 011-1h8zM5 12.25v3.25a.25.25 0 00.4.2l1.45-1.087a.25.25 0 01.3 0L8.6 15.7a.25.25 0 00.4-.2v-3.25a.25.25 0 00-.25-.25h-3.5a.25.25 0 00-.25.25z\"></path></svg>',\n",
              " '      <svg height=\"16\" width=\"16\" class=\"octicon octicon-project flex-shrink-0 js-jump-to-octicon-project d-none\" title=\"Project\" aria-label=\"Project\" viewBox=\"0 0 16 16\" version=\"1.1\" role=\"img\"><path fill-rule=\"evenodd\" d=\"M1.75 0A1.75 1.75 0 000 1.75v12.5C0 15.216.784 16 1.75 16h12.5A1.75 1.75 0 0016 14.25V1.75A1.75 1.75 0 0014.25 0H1.75zM1.5 1.75a.25.25 0 01.25-.25h12.5a.25.25 0 01.25.25v12.5a.25.25 0 01-.25.25H1.75a.25.25 0 01-.25-.25V1.75zM11.75 3a.75.75 0 00-.75.75v7.5a.75.75 0 001.5 0v-7.5a.75.75 0 00-.75-.75zm-8.25.75a.75.75 0 011.5 0v5.5a.75.75 0 01-1.5 0v-5.5zM8 3a.75.75 0 00-.75.75v3.5a.75.75 0 001.5 0v-3.5A.75.75 0 008 3z\"></path></svg>',\n",
              " '      <svg height=\"16\" width=\"16\" class=\"octicon octicon-search flex-shrink-0 js-jump-to-octicon-search d-none\" title=\"Search\" aria-label=\"Search\" viewBox=\"0 0 16 16\" version=\"1.1\" role=\"img\"><path fill-rule=\"evenodd\" d=\"M11.5 7a4.499 4.499 0 11-8.998 0A4.499 4.499 0 0111.5 7zm-.82 4.74a6 6 0 111.06-1.06l3.04 3.04a.75.75 0 11-1.06 1.06l-3.04-3.04z\"></path></svg>',\n",
              " '    </div>',\n",
              " '',\n",
              " '    <img class=\"avatar mr-2 flex-shrink-0 js-jump-to-suggestion-avatar d-none\" alt=\"\" aria-label=\"Team\" src=\"\" width=\"28\" height=\"28\">',\n",
              " '',\n",
              " '    <div class=\"jump-to-suggestion-name js-jump-to-suggestion-name flex-auto overflow-hidden text-left no-wrap css-truncate css-truncate-target\">',\n",
              " '    </div>',\n",
              " '',\n",
              " '    <div class=\"border rounded-1 flex-shrink-0 bg-gray px-1 text-gray-light ml-1 f6 d-none js-jump-to-badge-search\">',\n",
              " '      <span class=\"js-jump-to-badge-search-text-default d-none\" aria-label=\"in this repository\">',\n",
              " '        In this repository',\n",
              " '      </span>',\n",
              " '      <span class=\"js-jump-to-badge-search-text-global d-none\" aria-label=\"in all of GitHub\">',\n",
              " '        All GitHub',\n",
              " '      </span>',\n",
              " '      <span aria-hidden=\"true\" class=\"d-inline-block ml-1 v-align-middle\">↵</span>',\n",
              " '    </div>',\n",
              " '',\n",
              " '    <div aria-hidden=\"true\" class=\"border rounded-1 flex-shrink-0 bg-gray px-1 text-gray-light ml-1 f6 d-none d-on-nav-focus js-jump-to-badge-jump\">',\n",
              " '      Jump to',\n",
              " '      <span class=\"d-inline-block ml-1 v-align-middle\">↵</span>',\n",
              " '    </div>',\n",
              " '  </a>',\n",
              " '</li>',\n",
              " '',\n",
              " '</ul>',\n",
              " '',\n",
              " '<ul class=\"d-none js-jump-to-no-results-template-container\">',\n",
              " '  <li class=\"d-flex flex-justify-center flex-items-center f5 d-none js-jump-to-suggestion p-2\">',\n",
              " '    <span class=\"text-gray\">No suggested jump to results</span>',\n",
              " '  </li>',\n",
              " '</ul>',\n",
              " '',\n",
              " '<ul id=\"jump-to-results\" role=\"listbox\" class=\"p-0 m-0 js-navigation-container jump-to-suggestions-results-container js-jump-to-suggestions-results-container\">',\n",
              " '  ',\n",
              " '',\n",
              " '<li class=\"d-flex flex-justify-start flex-items-center p-0 f5 navigation-item js-navigation-item js-jump-to-scoped-search d-none\" role=\"option\">',\n",
              " '  <a tabindex=\"-1\" class=\"no-underline d-flex flex-auto flex-items-center jump-to-suggestions-path js-jump-to-suggestion-path js-navigation-open p-2\" href=\"\" data-item-type=\"scoped_search\">',\n",
              " '    <div class=\"jump-to-octicon js-jump-to-octicon flex-shrink-0 mr-2 text-center d-none\">',\n",
              " '      <svg height=\"16\" width=\"16\" class=\"octicon octicon-repo flex-shrink-0 js-jump-to-octicon-repo d-none\" title=\"Repository\" aria-label=\"Repository\" viewBox=\"0 0 16 16\" version=\"1.1\" role=\"img\"><path fill-rule=\"evenodd\" d=\"M2 2.5A2.5 2.5 0 014.5 0h8.75a.75.75 0 01.75.75v12.5a.75.75 0 01-.75.75h-2.5a.75.75 0 110-1.5h1.75v-2h-8a1 1 0 00-.714 1.7.75.75 0 01-1.072 1.05A2.495 2.495 0 012 11.5v-9zm10.5-1V9h-8c-.356 0-.694.074-1 .208V2.5a1 1 0 011-1h8zM5 12.25v3.25a.25.25 0 00.4.2l1.45-1.087a.25.25 0 01.3 0L8.6 15.7a.25.25 0 00.4-.2v-3.25a.25.25 0 00-.25-.25h-3.5a.25.25 0 00-.25.25z\"></path></svg>',\n",
              " '      <svg height=\"16\" width=\"16\" class=\"octicon octicon-project flex-shrink-0 js-jump-to-octicon-project d-none\" title=\"Project\" aria-label=\"Project\" viewBox=\"0 0 16 16\" version=\"1.1\" role=\"img\"><path fill-rule=\"evenodd\" d=\"M1.75 0A1.75 1.75 0 000 1.75v12.5C0 15.216.784 16 1.75 16h12.5A1.75 1.75 0 0016 14.25V1.75A1.75 1.75 0 0014.25 0H1.75zM1.5 1.75a.25.25 0 01.25-.25h12.5a.25.25 0 01.25.25v12.5a.25.25 0 01-.25.25H1.75a.25.25 0 01-.25-.25V1.75zM11.75 3a.75.75 0 00-.75.75v7.5a.75.75 0 001.5 0v-7.5a.75.75 0 00-.75-.75zm-8.25.75a.75.75 0 011.5 0v5.5a.75.75 0 01-1.5 0v-5.5zM8 3a.75.75 0 00-.75.75v3.5a.75.75 0 001.5 0v-3.5A.75.75 0 008 3z\"></path></svg>',\n",
              " '      <svg height=\"16\" width=\"16\" class=\"octicon octicon-search flex-shrink-0 js-jump-to-octicon-search d-none\" title=\"Search\" aria-label=\"Search\" viewBox=\"0 0 16 16\" version=\"1.1\" role=\"img\"><path fill-rule=\"evenodd\" d=\"M11.5 7a4.499 4.499 0 11-8.998 0A4.499 4.499 0 0111.5 7zm-.82 4.74a6 6 0 111.06-1.06l3.04 3.04a.75.75 0 11-1.06 1.06l-3.04-3.04z\"></path></svg>',\n",
              " '    </div>',\n",
              " '',\n",
              " '    <img class=\"avatar mr-2 flex-shrink-0 js-jump-to-suggestion-avatar d-none\" alt=\"\" aria-label=\"Team\" src=\"\" width=\"28\" height=\"28\">',\n",
              " '',\n",
              " '    <div class=\"jump-to-suggestion-name js-jump-to-suggestion-name flex-auto overflow-hidden text-left no-wrap css-truncate css-truncate-target\">',\n",
              " '    </div>',\n",
              " '',\n",
              " '    <div class=\"border rounded-1 flex-shrink-0 bg-gray px-1 text-gray-light ml-1 f6 d-none js-jump-to-badge-search\">',\n",
              " '      <span class=\"js-jump-to-badge-search-text-default d-none\" aria-label=\"in this repository\">',\n",
              " '        In this repository',\n",
              " '      </span>',\n",
              " '      <span class=\"js-jump-to-badge-search-text-global d-none\" aria-label=\"in all of GitHub\">',\n",
              " '        All GitHub',\n",
              " '      </span>',\n",
              " '      <span aria-hidden=\"true\" class=\"d-inline-block ml-1 v-align-middle\">↵</span>',\n",
              " '    </div>',\n",
              " '',\n",
              " '    <div aria-hidden=\"true\" class=\"border rounded-1 flex-shrink-0 bg-gray px-1 text-gray-light ml-1 f6 d-none d-on-nav-focus js-jump-to-badge-jump\">',\n",
              " '      Jump to',\n",
              " '      <span class=\"d-inline-block ml-1 v-align-middle\">↵</span>',\n",
              " '    </div>',\n",
              " '  </a>',\n",
              " '</li>',\n",
              " '',\n",
              " '  ',\n",
              " '',\n",
              " '<li class=\"d-flex flex-justify-start flex-items-center p-0 f5 navigation-item js-navigation-item js-jump-to-owner-scoped-search d-none\" role=\"option\">',\n",
              " '  <a tabindex=\"-1\" class=\"no-underline d-flex flex-auto flex-items-center jump-to-suggestions-path js-jump-to-suggestion-path js-navigation-open p-2\" href=\"\" data-item-type=\"owner_scoped_search\">',\n",
              " '    <div class=\"jump-to-octicon js-jump-to-octicon flex-shrink-0 mr-2 text-center d-none\">',\n",
              " '      <svg height=\"16\" width=\"16\" class=\"octicon octicon-repo flex-shrink-0 js-jump-to-octicon-repo d-none\" title=\"Repository\" aria-label=\"Repository\" viewBox=\"0 0 16 16\" version=\"1.1\" role=\"img\"><path fill-rule=\"evenodd\" d=\"M2 2.5A2.5 2.5 0 014.5 0h8.75a.75.75 0 01.75.75v12.5a.75.75 0 01-.75.75h-2.5a.75.75 0 110-1.5h1.75v-2h-8a1 1 0 00-.714 1.7.75.75 0 01-1.072 1.05A2.495 2.495 0 012 11.5v-9zm10.5-1V9h-8c-.356 0-.694.074-1 .208V2.5a1 1 0 011-1h8zM5 12.25v3.25a.25.25 0 00.4.2l1.45-1.087a.25.25 0 01.3 0L8.6 15.7a.25.25 0 00.4-.2v-3.25a.25.25 0 00-.25-.25h-3.5a.25.25 0 00-.25.25z\"></path></svg>',\n",
              " '      <svg height=\"16\" width=\"16\" class=\"octicon octicon-project flex-shrink-0 js-jump-to-octicon-project d-none\" title=\"Project\" aria-label=\"Project\" viewBox=\"0 0 16 16\" version=\"1.1\" role=\"img\"><path fill-rule=\"evenodd\" d=\"M1.75 0A1.75 1.75 0 000 1.75v12.5C0 15.216.784 16 1.75 16h12.5A1.75 1.75 0 0016 14.25V1.75A1.75 1.75 0 0014.25 0H1.75zM1.5 1.75a.25.25 0 01.25-.25h12.5a.25.25 0 01.25.25v12.5a.25.25 0 01-.25.25H1.75a.25.25 0 01-.25-.25V1.75zM11.75 3a.75.75 0 00-.75.75v7.5a.75.75 0 001.5 0v-7.5a.75.75 0 00-.75-.75zm-8.25.75a.75.75 0 011.5 0v5.5a.75.75 0 01-1.5 0v-5.5zM8 3a.75.75 0 00-.75.75v3.5a.75.75 0 001.5 0v-3.5A.75.75 0 008 3z\"></path></svg>',\n",
              " '      <svg height=\"16\" width=\"16\" class=\"octicon octicon-search flex-shrink-0 js-jump-to-octicon-search d-none\" title=\"Search\" aria-label=\"Search\" viewBox=\"0 0 16 16\" version=\"1.1\" role=\"img\"><path fill-rule=\"evenodd\" d=\"M11.5 7a4.499 4.499 0 11-8.998 0A4.499 4.499 0 0111.5 7zm-.82 4.74a6 6 0 111.06-1.06l3.04 3.04a.75.75 0 11-1.06 1.06l-3.04-3.04z\"></path></svg>',\n",
              " '    </div>',\n",
              " '',\n",
              " '    <img class=\"avatar mr-2 flex-shrink-0 js-jump-to-suggestion-avatar d-none\" alt=\"\" aria-label=\"Team\" src=\"\" width=\"28\" height=\"28\">',\n",
              " '',\n",
              " '    <div class=\"jump-to-suggestion-name js-jump-to-suggestion-name flex-auto overflow-hidden text-left no-wrap css-truncate css-truncate-target\">',\n",
              " '    </div>',\n",
              " '',\n",
              " '    <div class=\"border rounded-1 flex-shrink-0 bg-gray px-1 text-gray-light ml-1 f6 d-none js-jump-to-badge-search\">',\n",
              " '      <span class=\"js-jump-to-badge-search-text-default d-none\" aria-label=\"in this user\">',\n",
              " '        In this user',\n",
              " '      </span>',\n",
              " '      <span class=\"js-jump-to-badge-search-text-global d-none\" aria-label=\"in all of GitHub\">',\n",
              " '        All GitHub',\n",
              " '      </span>',\n",
              " '      <span aria-hidden=\"true\" class=\"d-inline-block ml-1 v-align-middle\">↵</span>',\n",
              " '    </div>',\n",
              " '',\n",
              " '    <div aria-hidden=\"true\" class=\"border rounded-1 flex-shrink-0 bg-gray px-1 text-gray-light ml-1 f6 d-none d-on-nav-focus js-jump-to-badge-jump\">',\n",
              " '      Jump to',\n",
              " '      <span class=\"d-inline-block ml-1 v-align-middle\">↵</span>',\n",
              " '    </div>',\n",
              " '  </a>',\n",
              " '</li>',\n",
              " '',\n",
              " '  ',\n",
              " '',\n",
              " '<li class=\"d-flex flex-justify-start flex-items-center p-0 f5 navigation-item js-navigation-item js-jump-to-global-search d-none\" role=\"option\">',\n",
              " '  <a tabindex=\"-1\" class=\"no-underline d-flex flex-auto flex-items-center jump-to-suggestions-path js-jump-to-suggestion-path js-navigation-open p-2\" href=\"\" data-item-type=\"global_search\">',\n",
              " '    <div class=\"jump-to-octicon js-jump-to-octicon flex-shrink-0 mr-2 text-center d-none\">',\n",
              " '      <svg height=\"16\" width=\"16\" class=\"octicon octicon-repo flex-shrink-0 js-jump-to-octicon-repo d-none\" title=\"Repository\" aria-label=\"Repository\" viewBox=\"0 0 16 16\" version=\"1.1\" role=\"img\"><path fill-rule=\"evenodd\" d=\"M2 2.5A2.5 2.5 0 014.5 0h8.75a.75.75 0 01.75.75v12.5a.75.75 0 01-.75.75h-2.5a.75.75 0 110-1.5h1.75v-2h-8a1 1 0 00-.714 1.7.75.75 0 01-1.072 1.05A2.495 2.495 0 012 11.5v-9zm10.5-1V9h-8c-.356 0-.694.074-1 .208V2.5a1 1 0 011-1h8zM5 12.25v3.25a.25.25 0 00.4.2l1.45-1.087a.25.25 0 01.3 0L8.6 15.7a.25.25 0 00.4-.2v-3.25a.25.25 0 00-.25-.25h-3.5a.25.25 0 00-.25.25z\"></path></svg>',\n",
              " '      <svg height=\"16\" width=\"16\" class=\"octicon octicon-project flex-shrink-0 js-jump-to-octicon-project d-none\" title=\"Project\" aria-label=\"Project\" viewBox=\"0 0 16 16\" version=\"1.1\" role=\"img\"><path fill-rule=\"evenodd\" d=\"M1.75 0A1.75 1.75 0 000 1.75v12.5C0 15.216.784 16 1.75 16h12.5A1.75 1.75 0 0016 14.25V1.75A1.75 1.75 0 0014.25 0H1.75zM1.5 1.75a.25.25 0 01.25-.25h12.5a.25.25 0 01.25.25v12.5a.25.25 0 01-.25.25H1.75a.25.25 0 01-.25-.25V1.75zM11.75 3a.75.75 0 00-.75.75v7.5a.75.75 0 001.5 0v-7.5a.75.75 0 00-.75-.75zm-8.25.75a.75.75 0 011.5 0v5.5a.75.75 0 01-1.5 0v-5.5zM8 3a.75.75 0 00-.75.75v3.5a.75.75 0 001.5 0v-3.5A.75.75 0 008 3z\"></path></svg>',\n",
              " '      <svg height=\"16\" width=\"16\" class=\"octicon octicon-search flex-shrink-0 js-jump-to-octicon-search d-none\" title=\"Search\" aria-label=\"Search\" viewBox=\"0 0 16 16\" version=\"1.1\" role=\"img\"><path fill-rule=\"evenodd\" d=\"M11.5 7a4.499 4.499 0 11-8.998 0A4.499 4.499 0 0111.5 7zm-.82 4.74a6 6 0 111.06-1.06l3.04 3.04a.75.75 0 11-1.06 1.06l-3.04-3.04z\"></path></svg>',\n",
              " '    </div>',\n",
              " '',\n",
              " '    <img class=\"avatar mr-2 flex-shrink-0 js-jump-to-suggestion-avatar d-none\" alt=\"\" aria-label=\"Team\" src=\"\" width=\"28\" height=\"28\">',\n",
              " '',\n",
              " '    <div class=\"jump-to-suggestion-name js-jump-to-suggestion-name flex-auto overflow-hidden text-left no-wrap css-truncate css-truncate-target\">',\n",
              " '    </div>',\n",
              " '',\n",
              " '    <div class=\"border rounded-1 flex-shrink-0 bg-gray px-1 text-gray-light ml-1 f6 d-none js-jump-to-badge-search\">',\n",
              " '      <span class=\"js-jump-to-badge-search-text-default d-none\" aria-label=\"in this repository\">',\n",
              " '        In this repository',\n",
              " '      </span>',\n",
              " '      <span class=\"js-jump-to-badge-search-text-global d-none\" aria-label=\"in all of GitHub\">',\n",
              " '        All GitHub',\n",
              " '      </span>',\n",
              " '      <span aria-hidden=\"true\" class=\"d-inline-block ml-1 v-align-middle\">↵</span>',\n",
              " '    </div>',\n",
              " '',\n",
              " '    <div aria-hidden=\"true\" class=\"border rounded-1 flex-shrink-0 bg-gray px-1 text-gray-light ml-1 f6 d-none d-on-nav-focus js-jump-to-badge-jump\">',\n",
              " '      Jump to',\n",
              " '      <span class=\"d-inline-block ml-1 v-align-middle\">↵</span>',\n",
              " '    </div>',\n",
              " '  </a>',\n",
              " '</li>',\n",
              " '',\n",
              " '',\n",
              " '</ul>',\n",
              " '',\n",
              " '            </div>',\n",
              " '      </label>',\n",
              " '</form>  </div>',\n",
              " '</div>',\n",
              " '',\n",
              " '          </div>',\n",
              " '',\n",
              " '        <a href=\"/login?return_to=%2Fnicklogin%2FChuckchiHackathon%2Fblob%2Fmain%2Frussian_sents_numbers%2520%281%29.txt\"',\n",
              " '          class=\"HeaderMenu-link no-underline mr-3\"',\n",
              " '          data-hydro-click=\"{&quot;event_type&quot;:&quot;authentication.click&quot;,&quot;payload&quot;:{&quot;location_in_page&quot;:&quot;site header menu&quot;,&quot;repository_id&quot;:null,&quot;auth_type&quot;:&quot;SIGN_UP&quot;,&quot;originating_url&quot;:&quot;https://github.com/nicklogin/ChuckchiHackathon/blob/main/russian_sents_numbers%20(1).txt&quot;,&quot;user_id&quot;:null}}\" data-hydro-click-hmac=\"a583cb534c016c9f3edd6e899d6ee3de2e37e4b4a9ae86933554f94681b765e9\"',\n",
              " '          data-ga-click=\"(Logged out) Header, clicked Sign in, text:sign-in\">',\n",
              " '          Sign&nbsp;in',\n",
              " '        </a>',\n",
              " '            <a href=\"/join?ref_cta=Sign+up&amp;ref_loc=header+logged+out&amp;ref_page=%2F%3Cuser-name%3E%2F%3Crepo-name%3E%2Fblob%2Fshow&amp;source=header-repo&amp;source_repo=nicklogin%2FChuckchiHackathon\"',\n",
              " '              class=\"HeaderMenu-link d-inline-block no-underline border border-gray-dark rounded-1 px-2 py-1\"',\n",
              " '              data-hydro-click=\"{&quot;event_type&quot;:&quot;authentication.click&quot;,&quot;payload&quot;:{&quot;location_in_page&quot;:&quot;site header menu&quot;,&quot;repository_id&quot;:null,&quot;auth_type&quot;:&quot;SIGN_UP&quot;,&quot;originating_url&quot;:&quot;https://github.com/nicklogin/ChuckchiHackathon/blob/main/russian_sents_numbers%20(1).txt&quot;,&quot;user_id&quot;:null}}\" data-hydro-click-hmac=\"a583cb534c016c9f3edd6e899d6ee3de2e37e4b4a9ae86933554f94681b765e9\"',\n",
              " '              data-ga-click=\"Sign up, click to sign up for account, ref_page:/&lt;user-name&gt;/&lt;repo-name&gt;/blob/show;ref_cta:Sign up;ref_loc:header logged out\">',\n",
              " '              Sign&nbsp;up',\n",
              " '            </a>',\n",
              " '      </div>',\n",
              " '    </div>',\n",
              " '  </div>',\n",
              " '</header>',\n",
              " '',\n",
              " '    </div>',\n",
              " '',\n",
              " '  <div id=\"start-of-content\" class=\"show-on-focus\"></div>',\n",
              " '',\n",
              " '',\n",
              " '',\n",
              " '',\n",
              " '',\n",
              " '    <div data-pjax-replace id=\"js-flash-container\">',\n",
              " '',\n",
              " '',\n",
              " '  <template class=\"js-flash-template\">',\n",
              " '    <div class=\"flash flash-full  {{ className }}\">',\n",
              " '  <div class=\" px-2\" >',\n",
              " '    <button class=\"flash-close js-flash-close\" type=\"button\" aria-label=\"Dismiss this message\">',\n",
              " '      <svg class=\"octicon octicon-x\" viewBox=\"0 0 16 16\" version=\"1.1\" width=\"16\" height=\"16\" aria-hidden=\"true\"><path fill-rule=\"evenodd\" d=\"M3.72 3.72a.75.75 0 011.06 0L8 6.94l3.22-3.22a.75.75 0 111.06 1.06L9.06 8l3.22 3.22a.75.75 0 11-1.06 1.06L8 9.06l-3.22 3.22a.75.75 0 01-1.06-1.06L6.94 8 3.72 4.78a.75.75 0 010-1.06z\"></path></svg>',\n",
              " '    </button>',\n",
              " '    ',\n",
              " '      <div>{{ message }}</div>',\n",
              " '',\n",
              " '  </div>',\n",
              " '</div>',\n",
              " '  </template>',\n",
              " '</div>',\n",
              " '',\n",
              " '',\n",
              " '    ',\n",
              " '',\n",
              " '  <include-fragment class=\"js-notification-shelf-include-fragment\" data-base-src=\"https://github.com/notifications/beta/shelf\"></include-fragment>',\n",
              " '',\n",
              " '',\n",
              " '',\n",
              " '',\n",
              " '  <div',\n",
              " '    class=\"application-main \"',\n",
              " '    data-commit-hovercards-enabled',\n",
              " '    data-discussion-hovercards-enabled',\n",
              " '    data-issue-and-pr-hovercards-enabled',\n",
              " '  >',\n",
              " '        <div itemscope itemtype=\"http://schema.org/SoftwareSourceCode\" class=\"\">',\n",
              " '    <main id=\"js-repo-pjax-container\" data-pjax-container >',\n",
              " '      ',\n",
              " '',\n",
              " '      ',\n",
              " '',\n",
              " '',\n",
              " '',\n",
              " '',\n",
              " '',\n",
              " '',\n",
              " '  ',\n",
              " '',\n",
              " '',\n",
              " '  <div class=\"bg-gray-light pt-3 hide-full-screen mb-5\">',\n",
              " '',\n",
              " '      <div class=\"d-flex mb-3 px-3 px-md-4 px-lg-5\">',\n",
              " '',\n",
              " '        <div class=\"flex-auto min-width-0 width-fit mr-3\">',\n",
              " '            <h1 class=\" d-flex flex-wrap flex-items-center break-word f3 text-normal\">',\n",
              " '    <svg class=\"octicon octicon-repo text-gray mr-2\" viewBox=\"0 0 16 16\" version=\"1.1\" width=\"16\" height=\"16\" aria-hidden=\"true\"><path fill-rule=\"evenodd\" d=\"M2 2.5A2.5 2.5 0 014.5 0h8.75a.75.75 0 01.75.75v12.5a.75.75 0 01-.75.75h-2.5a.75.75 0 110-1.5h1.75v-2h-8a1 1 0 00-.714 1.7.75.75 0 01-1.072 1.05A2.495 2.495 0 012 11.5v-9zm10.5-1V9h-8c-.356 0-.694.074-1 .208V2.5a1 1 0 011-1h8zM5 12.25v3.25a.25.25 0 00.4.2l1.45-1.087a.25.25 0 01.3 0L8.6 15.7a.25.25 0 00.4-.2v-3.25a.25.25 0 00-.25-.25h-3.5a.25.25 0 00-.25.25z\"></path></svg>',\n",
              " '    <span class=\"author flex-self-stretch\" itemprop=\"author\">',\n",
              " '      <a class=\"url fn\" rel=\"author\" data-hovercard-type=\"user\" data-hovercard-url=\"/users/nicklogin/hovercard\" data-octo-click=\"hovercard-link-click\" data-octo-dimensions=\"link_type:self\" href=\"/nicklogin\">nicklogin</a>',\n",
              " '    </span>',\n",
              " '    <span class=\"mx-1 flex-self-stretch color-text-secondary\">/</span>',\n",
              " '  <strong itemprop=\"name\" class=\"mr-2 flex-self-stretch\">',\n",
              " '    <a data-pjax=\"#js-repo-pjax-container\" class=\"\" href=\"/nicklogin/ChuckchiHackathon\">ChuckchiHackathon</a>',\n",
              " '  </strong>',\n",
              " '  ',\n",
              " '</h1>',\n",
              " '',\n",
              " '',\n",
              " '        </div>',\n",
              " '',\n",
              " '          <ul class=\"pagehead-actions flex-shrink-0 d-none d-md-inline\" style=\"padding: 2px 0;\">',\n",
              " '',\n",
              " '  <li>',\n",
              " '          <a class=\"tooltipped tooltipped-s btn btn-sm btn-with-count\" aria-label=\"You must be signed in to watch a repository\" rel=\"nofollow\" data-hydro-click=\"{&quot;event_type&quot;:&quot;authentication.click&quot;,&quot;payload&quot;:{&quot;location_in_page&quot;:&quot;notification subscription menu watch&quot;,&quot;repository_id&quot;:null,&quot;auth_type&quot;:&quot;LOG_IN&quot;,&quot;originating_url&quot;:&quot;https://github.com/nicklogin/ChuckchiHackathon/blob/main/russian_sents_numbers%20(1).txt&quot;,&quot;user_id&quot;:null}}\" data-hydro-click-hmac=\"0059424e50e22f9989b10b54fc5c7fe889c66a11bce3ffff15f3c6012d6917c8\" href=\"/login?return_to=%2Fnicklogin%2FChuckchiHackathon\">',\n",
              " '    <svg class=\"octicon octicon-eye\" height=\"16\" viewBox=\"0 0 16 16\" version=\"1.1\" width=\"16\" aria-hidden=\"true\"><path fill-rule=\"evenodd\" d=\"M1.679 7.932c.412-.621 1.242-1.75 2.366-2.717C5.175 4.242 6.527 3.5 8 3.5c1.473 0 2.824.742 3.955 1.715 1.124.967 1.954 2.096 2.366 2.717a.119.119 0 010 .136c-.412.621-1.242 1.75-2.366 2.717C10.825 11.758 9.473 12.5 8 12.5c-1.473 0-2.824-.742-3.955-1.715C2.92 9.818 2.09 8.69 1.679 8.068a.119.119 0 010-.136zM8 2c-1.981 0-3.67.992-4.933 2.078C1.797 5.169.88 6.423.43 7.1a1.619 1.619 0 000 1.798c.45.678 1.367 1.932 2.637 3.024C4.329 13.008 6.019 14 8 14c1.981 0 3.67-.992 4.933-2.078 1.27-1.091 2.187-2.345 2.637-3.023a1.619 1.619 0 000-1.798c-.45-.678-1.367-1.932-2.637-3.023C11.671 2.992 9.981 2 8 2zm0 8a2 2 0 100-4 2 2 0 000 4z\"></path></svg>',\n",
              " '    Watch',\n",
              " '</a>    <a class=\"social-count\" href=\"/nicklogin/ChuckchiHackathon/watchers\"',\n",
              " '       aria-label=\"1 user is watching this repository\">',\n",
              " '      1',\n",
              " '    </a>',\n",
              " '',\n",
              " '  </li>',\n",
              " '',\n",
              " '  <li>',\n",
              " '          <a class=\"btn btn-sm btn-with-count  tooltipped tooltipped-s\" aria-label=\"You must be signed in to star a repository\" rel=\"nofollow\" data-hydro-click=\"{&quot;event_type&quot;:&quot;authentication.click&quot;,&quot;payload&quot;:{&quot;location_in_page&quot;:&quot;star button&quot;,&quot;repository_id&quot;:337771328,&quot;auth_type&quot;:&quot;LOG_IN&quot;,&quot;originating_url&quot;:&quot;https://github.com/nicklogin/ChuckchiHackathon/blob/main/russian_sents_numbers%20(1).txt&quot;,&quot;user_id&quot;:null}}\" data-hydro-click-hmac=\"0bb65fb73b3fb35014f4cadae3b484dd4c61eaf1d89daa755506cbf4f35a2ca7\" href=\"/login?return_to=%2Fnicklogin%2FChuckchiHackathon\">',\n",
              " '      <svg class=\"octicon octicon-star v-align-text-bottom mr-1\" height=\"16\" viewBox=\"0 0 16 16\" version=\"1.1\" width=\"16\" aria-hidden=\"true\"><path fill-rule=\"evenodd\" d=\"M8 .25a.75.75 0 01.673.418l1.882 3.815 4.21.612a.75.75 0 01.416 1.279l-3.046 2.97.719 4.192a.75.75 0 01-1.088.791L8 12.347l-3.766 1.98a.75.75 0 01-1.088-.79l.72-4.194L.818 6.374a.75.75 0 01.416-1.28l4.21-.611L7.327.668A.75.75 0 018 .25zm0 2.445L6.615 5.5a.75.75 0 01-.564.41l-3.097.45 2.24 2.184a.75.75 0 01.216.664l-.528 3.084 2.769-1.456a.75.75 0 01.698 0l2.77 1.456-.53-3.084a.75.75 0 01.216-.664l2.24-2.183-3.096-.45a.75.75 0 01-.564-.41L8 2.694v.001z\"></path></svg>',\n",
              " '      <span>',\n",
              " '        Star',\n",
              " '</span></a>',\n",
              " '    <a class=\"social-count js-social-count\" href=\"/nicklogin/ChuckchiHackathon/stargazers\"',\n",
              " '      aria-label=\"0 users starred this repository\">',\n",
              " '      0',\n",
              " '    </a>',\n",
              " '',\n",
              " '  </li>',\n",
              " '',\n",
              " '  <li>',\n",
              " '        <a class=\"btn btn-sm btn-with-count tooltipped tooltipped-s\" aria-label=\"You must be signed in to fork a repository\" rel=\"nofollow\" data-hydro-click=\"{&quot;event_type&quot;:&quot;authentication.click&quot;,&quot;payload&quot;:{&quot;location_in_page&quot;:&quot;repo details fork button&quot;,&quot;repository_id&quot;:337771328,&quot;auth_type&quot;:&quot;LOG_IN&quot;,&quot;originating_url&quot;:&quot;https://github.com/nicklogin/ChuckchiHackathon/blob/main/russian_sents_numbers%20(1).txt&quot;,&quot;user_id&quot;:null}}\" data-hydro-click-hmac=\"8105c7f262d79c55bd1556529db4c084ce51b4f701aa9a8640e1594898e016dc\" href=\"/login?return_to=%2Fnicklogin%2FChuckchiHackathon\">',\n",
              " '          <svg class=\"octicon octicon-repo-forked\" viewBox=\"0 0 16 16\" version=\"1.1\" width=\"16\" height=\"16\" aria-hidden=\"true\"><path fill-rule=\"evenodd\" d=\"M5 3.25a.75.75 0 11-1.5 0 .75.75 0 011.5 0zm0 2.122a2.25 2.25 0 10-1.5 0v.878A2.25 2.25 0 005.75 8.5h1.5v2.128a2.251 2.251 0 101.5 0V8.5h1.5a2.25 2.25 0 002.25-2.25v-.878a2.25 2.25 0 10-1.5 0v.878a.75.75 0 01-.75.75h-4.5A.75.75 0 015 6.25v-.878zm3.75 7.378a.75.75 0 11-1.5 0 .75.75 0 011.5 0zm3-8.75a.75.75 0 100-1.5.75.75 0 000 1.5z\"></path></svg>',\n",
              " '          Fork',\n",
              " '</a>',\n",
              " '      <a href=\"/nicklogin/ChuckchiHackathon/network/members\" class=\"social-count\"',\n",
              " '         aria-label=\"0 users forked this repository\">',\n",
              " '        0',\n",
              " '      </a>',\n",
              " '  </li>',\n",
              " '</ul>',\n",
              " '',\n",
              " '      </div>',\n",
              " '        ',\n",
              " '<nav aria-label=\"Repository\" data-pjax=\"#js-repo-pjax-container\" class=\"js-repo-nav js-sidenav-container-pjax js-responsive-underlinenav overflow-hidden UnderlineNav px-3 px-md-4 px-lg-5 bg-gray-light\">',\n",
              " '  <ul class=\"UnderlineNav-body list-style-none \">',\n",
              " '          <li class=\"d-flex\">',\n",
              " '        <a class=\"js-selected-navigation-item selected UnderlineNav-item hx_underlinenav-item no-wrap js-responsive-underlinenav-item\" data-tab-item=\"i0code-tab\" data-hotkey=\"g c\" data-ga-click=\"Repository, Navigation click, Code tab\" aria-current=\"page\" data-selected-links=\"repo_source repo_downloads repo_commits repo_releases repo_tags repo_branches repo_packages repo_deployments /nicklogin/ChuckchiHackathon\" href=\"/nicklogin/ChuckchiHackathon\">',\n",
              " '              <svg class=\"octicon octicon-code UnderlineNav-octicon d-none d-sm-inline\" height=\"16\" viewBox=\"0 0 16 16\" version=\"1.1\" width=\"16\" aria-hidden=\"true\"><path fill-rule=\"evenodd\" d=\"M4.72 3.22a.75.75 0 011.06 1.06L2.06 8l3.72 3.72a.75.75 0 11-1.06 1.06L.47 8.53a.75.75 0 010-1.06l4.25-4.25zm6.56 0a.75.75 0 10-1.06 1.06L13.94 8l-3.72 3.72a.75.75 0 101.06 1.06l4.25-4.25a.75.75 0 000-1.06l-4.25-4.25z\"></path></svg>',\n",
              " '            <span data-content=\"Code\">Code</span>',\n",
              " '              <span title=\"Not available\" class=\"Counter \"></span>',\n",
              " '</a>',\n",
              " '',\n",
              " '      </li>',\n",
              " '      <li class=\"d-flex\">',\n",
              " '        <a class=\"js-selected-navigation-item UnderlineNav-item hx_underlinenav-item no-wrap js-responsive-underlinenav-item\" data-tab-item=\"i1issues-tab\" data-hotkey=\"g i\" data-ga-click=\"Repository, Navigation click, Issues tab\" data-selected-links=\"repo_issues repo_labels repo_milestones /nicklogin/ChuckchiHackathon/issues\" href=\"/nicklogin/ChuckchiHackathon/issues\">',\n",
              " '              <svg class=\"octicon octicon-issue-opened UnderlineNav-octicon d-none d-sm-inline\" height=\"16\" viewBox=\"0 0 16 16\" version=\"1.1\" width=\"16\" aria-hidden=\"true\"><path fill-rule=\"evenodd\" d=\"M8 1.5a6.5 6.5 0 100 13 6.5 6.5 0 000-13zM0 8a8 8 0 1116 0A8 8 0 010 8zm9 3a1 1 0 11-2 0 1 1 0 012 0zm-.25-6.25a.75.75 0 00-1.5 0v3.5a.75.75 0 001.5 0v-3.5z\"></path></svg>',\n",
              " '            <span data-content=\"Issues\">Issues</span>',\n",
              " '              <span title=\"0\" hidden=\"hidden\" class=\"Counter \">0</span>',\n",
              " '</a>',\n",
              " '',\n",
              " '      </li>',\n",
              " '      <li class=\"d-flex\">',\n",
              " '        <a class=\"js-selected-navigation-item UnderlineNav-item hx_underlinenav-item no-wrap js-responsive-underlinenav-item\" data-tab-item=\"i2pull-requests-tab\" data-hotkey=\"g p\" data-ga-click=\"Repository, Navigation click, Pull requests tab\" data-selected-links=\"repo_pulls checks /nicklogin/ChuckchiHackathon/pulls\" href=\"/nicklogin/ChuckchiHackathon/pulls\">',\n",
              " '              <svg class=\"octicon octicon-git-pull-request UnderlineNav-octicon d-none d-sm-inline\" height=\"16\" viewBox=\"0 0 16 16\" version=\"1.1\" width=\"16\" aria-hidden=\"true\"><path fill-rule=\"evenodd\" d=\"M7.177 3.073L9.573.677A.25.25 0 0110 .854v4.792a.25.25 0 01-.427.177L7.177 3.427a.25.25 0 010-.354zM3.75 2.5a.75.75 0 100 1.5.75.75 0 000-1.5zm-2.25.75a2.25 2.25 0 113 2.122v5.256a2.251 2.251 0 11-1.5 0V5.372A2.25 2.25 0 011.5 3.25zM11 2.5h-1V4h1a1 1 0 011 1v5.628a2.251 2.251 0 101.5 0V5A2.5 2.5 0 0011 2.5zm1 10.25a.75.75 0 111.5 0 .75.75 0 01-1.5 0zM3.75 12a.75.75 0 100 1.5.75.75 0 000-1.5z\"></path></svg>',\n",
              " '            <span data-content=\"Pull requests\">Pull requests</span>',\n",
              " '              <span title=\"0\" hidden=\"hidden\" class=\"Counter \">0</span>',\n",
              " '</a>',\n",
              " '',\n",
              " '      </li>',\n",
              " '      <li class=\"d-flex\">',\n",
              " '        <a class=\"js-selected-navigation-item UnderlineNav-item hx_underlinenav-item no-wrap js-responsive-underlinenav-item\" data-tab-item=\"i3actions-tab\" data-hotkey=\"g a\" data-ga-click=\"Repository, Navigation click, Actions tab\" data-selected-links=\"repo_actions /nicklogin/ChuckchiHackathon/actions\" href=\"/nicklogin/ChuckchiHackathon/actions\">',\n",
              " '              <svg class=\"octicon octicon-play UnderlineNav-octicon d-none d-sm-inline\" height=\"16\" viewBox=\"0 0 16 16\" version=\"1.1\" width=\"16\" aria-hidden=\"true\"><path fill-rule=\"evenodd\" d=\"M1.5 8a6.5 6.5 0 1113 0 6.5 6.5 0 01-13 0zM8 0a8 8 0 100 16A8 8 0 008 0zM6.379 5.227A.25.25 0 006 5.442v5.117a.25.25 0 00.379.214l4.264-2.559a.25.25 0 000-.428L6.379 5.227z\"></path></svg>',\n",
              " '            <span data-content=\"Actions\">Actions</span>',\n",
              " '              <span title=\"Not available\" class=\"Counter \"></span>',\n",
              " '</a>',\n",
              " '',\n",
              " '      </li>',\n",
              " '      <li class=\"d-flex\">',\n",
              " '        <a class=\"js-selected-navigation-item UnderlineNav-item hx_underlinenav-item no-wrap js-responsive-underlinenav-item\" data-tab-item=\"i4projects-tab\" data-hotkey=\"g b\" data-ga-click=\"Repository, Navigation click, Projects tab\" data-selected-links=\"repo_projects new_repo_project repo_project /nicklogin/ChuckchiHackathon/projects\" href=\"/nicklogin/ChuckchiHackathon/projects\">',\n",
              " '              <svg class=\"octicon octicon-project UnderlineNav-octicon d-none d-sm-inline\" height=\"16\" viewBox=\"0 0 16 16\" version=\"1.1\" width=\"16\" aria-hidden=\"true\"><path fill-rule=\"evenodd\" d=\"M1.75 0A1.75 1.75 0 000 1.75v12.5C0 15.216.784 16 1.75 16h12.5A1.75 1.75 0 0016 14.25V1.75A1.75 1.75 0 0014.25 0H1.75zM1.5 1.75a.25.25 0 01.25-.25h12.5a.25.25 0 01.25.25v12.5a.25.25 0 01-.25.25H1.75a.25.25 0 01-.25-.25V1.75zM11.75 3a.75.75 0 00-.75.75v7.5a.75.75 0 001.5 0v-7.5a.75.75 0 00-.75-.75zm-8.25.75a.75.75 0 011.5 0v5.5a.75.75 0 01-1.5 0v-5.5zM8 3a.75.75 0 00-.75.75v3.5a.75.75 0 001.5 0v-3.5A.75.75 0 008 3z\"></path></svg>',\n",
              " '            <span data-content=\"Projects\">Projects</span>',\n",
              " '              <span title=\"0\" hidden=\"hidden\" class=\"Counter \">0</span>',\n",
              " '</a>',\n",
              " '',\n",
              " '      </li>',\n",
              " '      <li class=\"d-flex\">',\n",
              " '        <a class=\"js-selected-navigation-item UnderlineNav-item hx_underlinenav-item no-wrap js-responsive-underlinenav-item\" data-tab-item=\"i5security-tab\" data-hotkey=\"g s\" data-ga-click=\"Repository, Navigation click, Security tab\" data-selected-links=\"security overview alerts policy token_scanning code_scanning /nicklogin/ChuckchiHackathon/security\" href=\"/nicklogin/ChuckchiHackathon/security\">',\n",
              " '              <svg class=\"octicon octicon-shield UnderlineNav-octicon d-none d-sm-inline\" height=\"16\" viewBox=\"0 0 16 16\" version=\"1.1\" width=\"16\" aria-hidden=\"true\"><path fill-rule=\"evenodd\" d=\"M7.467.133a1.75 1.75 0 011.066 0l5.25 1.68A1.75 1.75 0 0115 3.48V7c0 1.566-.32 3.182-1.303 4.682-.983 1.498-2.585 2.813-5.032 3.855a1.7 1.7 0 01-1.33 0c-2.447-1.042-4.049-2.357-5.032-3.855C1.32 10.182 1 8.566 1 7V3.48a1.75 1.75 0 011.217-1.667l5.25-1.68zm.61 1.429a.25.25 0 00-.153 0l-5.25 1.68a.25.25 0 00-.174.238V7c0 1.358.275 2.666 1.057 3.86.784 1.194 2.121 2.34 4.366 3.297a.2.2 0 00.154 0c2.245-.956 3.582-2.104 4.366-3.298C13.225 9.666 13.5 8.36 13.5 7V3.48a.25.25 0 00-.174-.237l-5.25-1.68zM9 10.5a1 1 0 11-2 0 1 1 0 012 0zm-.25-5.75a.75.75 0 10-1.5 0v3a.75.75 0 001.5 0v-3z\"></path></svg>',\n",
              " '            <span data-content=\"Security\">Security</span>',\n",
              " '              <include-fragment src=\"/nicklogin/ChuckchiHackathon/security/overall-count\" accept=\"text/fragment+html\"></include-fragment>',\n",
              " '</a>',\n",
              " '',\n",
              " '      </li>',\n",
              " '      <li class=\"d-flex\">',\n",
              " '        <a class=\"js-selected-navigation-item UnderlineNav-item hx_underlinenav-item no-wrap js-responsive-underlinenav-item\" data-tab-item=\"i6insights-tab\" data-ga-click=\"Repository, Navigation click, Insights tab\" data-selected-links=\"repo_graphs repo_contributors dependency_graph dependabot_updates pulse people /nicklogin/ChuckchiHackathon/pulse\" href=\"/nicklogin/ChuckchiHackathon/pulse\">',\n",
              " '              <svg class=\"octicon octicon-graph UnderlineNav-octicon d-none d-sm-inline\" height=\"16\" viewBox=\"0 0 16 16\" version=\"1.1\" width=\"16\" aria-hidden=\"true\"><path fill-rule=\"evenodd\" d=\"M1.5 1.75a.75.75 0 00-1.5 0v12.5c0 .414.336.75.75.75h14.5a.75.75 0 000-1.5H1.5V1.75zm14.28 2.53a.75.75 0 00-1.06-1.06L10 7.94 7.53 5.47a.75.75 0 00-1.06 0L3.22 8.72a.75.75 0 001.06 1.06L7 7.06l2.47 2.47a.75.75 0 001.06 0l5.25-5.25z\"></path></svg>',\n",
              " '            <span data-content=\"Insights\">Insights</span>',\n",
              " '              <span title=\"Not available\" class=\"Counter \"></span>',\n",
              " '</a>',\n",
              " '',\n",
              " '      </li>',\n",
              " '',\n",
              " '</ul>        <div class=\"position-absolute right-0 pr-3 pr-md-4 pr-lg-5 js-responsive-underlinenav-overflow\" style=\"visibility:hidden;\">',\n",
              " '      <details class=\"details-overlay details-reset position-relative\">',\n",
              " '  <summary role=\"button\">',\n",
              " '    <div class=\"UnderlineNav-item mr-0 border-0\">',\n",
              " '            <svg class=\"octicon octicon-kebab-horizontal\" viewBox=\"0 0 16 16\" version=\"1.1\" width=\"16\" height=\"16\" aria-hidden=\"true\"><path d=\"M8 9a1.5 1.5 0 100-3 1.5 1.5 0 000 3zM1.5 9a1.5 1.5 0 100-3 1.5 1.5 0 000 3zm13 0a1.5 1.5 0 100-3 1.5 1.5 0 000 3z\"></path></svg>',\n",
              " '            <span class=\"sr-only\">More</span>',\n",
              " '          </div>',\n",
              " '</summary>  <div>',\n",
              " '    <details-menu role=\"menu\" class=\"dropdown-menu dropdown-menu-sw \">',\n",
              " '  ',\n",
              " '            <ul>',\n",
              " '                <li data-menu-item=\"i0code-tab\" hidden>',\n",
              " '                  <a role=\"menuitem\" class=\"js-selected-navigation-item dropdown-item\" data-selected-links=\" /nicklogin/ChuckchiHackathon\" href=\"/nicklogin/ChuckchiHackathon\">',\n",
              " '                    Code',\n",
              " '</a>                </li>',\n",
              " '                <li data-menu-item=\"i1issues-tab\" hidden>',\n",
              " '                  <a role=\"menuitem\" class=\"js-selected-navigation-item dropdown-item\" data-selected-links=\" /nicklogin/ChuckchiHackathon/issues\" href=\"/nicklogin/ChuckchiHackathon/issues\">',\n",
              " '                    Issues',\n",
              " '</a>                </li>',\n",
              " '                <li data-menu-item=\"i2pull-requests-tab\" hidden>',\n",
              " '                  <a role=\"menuitem\" class=\"js-selected-navigation-item dropdown-item\" data-selected-links=\" /nicklogin/ChuckchiHackathon/pulls\" href=\"/nicklogin/ChuckchiHackathon/pulls\">',\n",
              " '                    Pull requests',\n",
              " '</a>                </li>',\n",
              " '                <li data-menu-item=\"i3actions-tab\" hidden>',\n",
              " '                  <a role=\"menuitem\" class=\"js-selected-navigation-item dropdown-item\" data-selected-links=\" /nicklogin/ChuckchiHackathon/actions\" href=\"/nicklogin/ChuckchiHackathon/actions\">',\n",
              " '                    Actions',\n",
              " '</a>                </li>',\n",
              " '                <li data-menu-item=\"i4projects-tab\" hidden>',\n",
              " '                  <a role=\"menuitem\" class=\"js-selected-navigation-item dropdown-item\" data-selected-links=\" /nicklogin/ChuckchiHackathon/projects\" href=\"/nicklogin/ChuckchiHackathon/projects\">',\n",
              " '                    Projects',\n",
              " '</a>                </li>',\n",
              " '                <li data-menu-item=\"i5security-tab\" hidden>',\n",
              " '                  <a role=\"menuitem\" class=\"js-selected-navigation-item dropdown-item\" data-selected-links=\" /nicklogin/ChuckchiHackathon/security\" href=\"/nicklogin/ChuckchiHackathon/security\">',\n",
              " '                    Security',\n",
              " '</a>                </li>',\n",
              " '                <li data-menu-item=\"i6insights-tab\" hidden>',\n",
              " '                  <a role=\"menuitem\" class=\"js-selected-navigation-item dropdown-item\" data-selected-links=\" /nicklogin/ChuckchiHackathon/pulse\" href=\"/nicklogin/ChuckchiHackathon/pulse\">',\n",
              " '                    Insights',\n",
              " '</a>                </li>',\n",
              " '            </ul>',\n",
              " '',\n",
              " '</details-menu>',\n",
              " '</div></details>    </div>',\n",
              " '',\n",
              " '</nav>',\n",
              " '  </div>',\n",
              " '',\n",
              " '',\n",
              " '<div class=\"container-xl clearfix new-discussion-timeline px-3 px-md-4 px-lg-5\">',\n",
              " '  <div id=\"repo-content-pjax-container\" class=\"repository-content \" >',\n",
              " '',\n",
              " '    ',\n",
              " '      ',\n",
              " '    ',\n",
              " '',\n",
              " '<div>',\n",
              " '  ',\n",
              " '',\n",
              " '',\n",
              " '    <a class=\"d-none js-permalink-shortcut\" data-hotkey=\"y\" href=\"/nicklogin/ChuckchiHackathon/blob/a35b0529f94d97f1c16295ee8f3bdc25a2a914c4/russian_sents_numbers%20(1).txt\">Permalink</a>',\n",
              " '',\n",
              " '    <!-- blob contrib key: blob_contributors:v22:e55480d752acd305916c3db146a4852921f660b5e2c65bfa3c89a41e02fb3005 -->',\n",
              " '',\n",
              " '    <div class=\"d-flex flex-items-start flex-shrink-0 pb-3 flex-wrap flex-md-nowrap flex-justify-between flex-md-justify-start\">',\n",
              " '      ',\n",
              " '<div class=\"position-relative\">',\n",
              " '  <details class=\"details-reset details-overlay mr-0 mb-0 \" id=\"branch-select-menu\">',\n",
              " '    <summary class=\"btn css-truncate\"',\n",
              " '            data-hotkey=\"w\"',\n",
              " '            title=\"Switch branches or tags\">',\n",
              " '      <svg class=\"octicon octicon-git-branch text-gray\" height=\"16\" viewBox=\"0 0 16 16\" version=\"1.1\" width=\"16\" aria-hidden=\"true\"><path fill-rule=\"evenodd\" d=\"M11.75 2.5a.75.75 0 100 1.5.75.75 0 000-1.5zm-2.25.75a2.25 2.25 0 113 2.122V6A2.5 2.5 0 0110 8.5H6a1 1 0 00-1 1v1.128a2.251 2.251 0 11-1.5 0V5.372a2.25 2.25 0 111.5 0v1.836A2.492 2.492 0 016 7h4a1 1 0 001-1v-.628A2.25 2.25 0 019.5 3.25zM4.25 12a.75.75 0 100 1.5.75.75 0 000-1.5zM3.5 3.25a.75.75 0 111.5 0 .75.75 0 01-1.5 0z\"></path></svg>',\n",
              " '      <span class=\"css-truncate-target\" data-menu-button>main</span>',\n",
              " '      <span class=\"dropdown-caret\"></span>',\n",
              " '    </summary>',\n",
              " '',\n",
              " '      <details-menu class=\"SelectMenu SelectMenu--hasFilter\" src=\"/nicklogin/ChuckchiHackathon/refs/main/russian_sents_numbers%20(1).txt?source_action=show&amp;source_controller=blob\" preload>',\n",
              " '        <div class=\"SelectMenu-modal\">',\n",
              " '          <include-fragment class=\"SelectMenu-loading\" aria-label=\"Menu is loading\">',\n",
              " '            <svg class=\"octicon octicon-octoface anim-pulse\" height=\"32\" viewBox=\"0 0 24 24\" version=\"1.1\" width=\"32\" aria-hidden=\"true\"><path d=\"M7.75 11c-.69 0-1.25.56-1.25 1.25v1.5a1.25 1.25 0 102.5 0v-1.5C9 11.56 8.44 11 7.75 11zm1.27 4.5a.469.469 0 01.48-.5h5a.47.47 0 01.48.5c-.116 1.316-.759 2.5-2.98 2.5s-2.864-1.184-2.98-2.5zm7.23-4.5c-.69 0-1.25.56-1.25 1.25v1.5a1.25 1.25 0 102.5 0v-1.5c0-.69-.56-1.25-1.25-1.25z\"></path><path fill-rule=\"evenodd\" d=\"M21.255 3.82a1.725 1.725 0 00-2.141-1.195c-.557.16-1.406.44-2.264.866-.78.386-1.647.93-2.293 1.677A18.442 18.442 0 0012 5c-.93 0-1.784.059-2.569.17-.645-.74-1.505-1.28-2.28-1.664a13.876 13.876 0 00-2.265-.866 1.725 1.725 0 00-2.141 1.196 23.645 23.645 0 00-.69 3.292c-.125.97-.191 2.07-.066 3.112C1.254 11.882 1 13.734 1 15.527 1 19.915 3.13 23 12 23c8.87 0 11-3.053 11-7.473 0-1.794-.255-3.647-.99-5.29.127-1.046.06-2.15-.066-3.125a23.652 23.652 0 00-.689-3.292zM20.5 14c.5 3.5-1.5 6.5-8.5 6.5s-9-3-8.5-6.5c.583-4 3-6 8.5-6s7.928 2 8.5 6z\"></path></svg>',\n",
              " '          </include-fragment>',\n",
              " '        </div>',\n",
              " '      </details-menu>',\n",
              " '  </details>',\n",
              " '',\n",
              " '</div>',\n",
              " '',\n",
              " '      <h2 id=\"blob-path\" class=\"breadcrumb flex-auto min-width-0 text-normal mx-0 mx-md-3 width-full width-md-auto flex-order-1 flex-md-order-none mt-3 mt-md-0\">',\n",
              " '        <span class=\"js-repo-root text-bold\"><span class=\"js-path-segment d-inline-block wb-break-all\"><a data-pjax=\"true\" href=\"/nicklogin/ChuckchiHackathon\"><span>ChuckchiHackathon</span></a></span></span><span class=\"separator\">/</span><strong class=\"final-path\">russian_sents_numbers (1).txt</strong>',\n",
              " '      </h2>',\n",
              " '      <a href=\"/nicklogin/ChuckchiHackathon/find/main\"',\n",
              " '            class=\"js-pjax-capture-input btn mr-2 d-none d-md-block\"',\n",
              " '            data-pjax',\n",
              " '            data-hotkey=\"t\">',\n",
              " '        Go to file',\n",
              " '      </a>',\n",
              " '',\n",
              " '      <details id=\"blob-more-options-details\" class=\"details-overlay details-reset position-relative\">',\n",
              " '  <summary role=\"button\" type=\"button\" class=\"btn \">',\n",
              " '    <svg aria-label=\"More options\" class=\"octicon octicon-kebab-horizontal\" height=\"16\" viewBox=\"0 0 16 16\" version=\"1.1\" width=\"16\" role=\"img\"><path d=\"M8 9a1.5 1.5 0 100-3 1.5 1.5 0 000 3zM1.5 9a1.5 1.5 0 100-3 1.5 1.5 0 000 3zm13 0a1.5 1.5 0 100-3 1.5 1.5 0 000 3z\"></path></svg>',\n",
              " '</summary>  <div>',\n",
              " '    <ul class=\"dropdown-menu dropdown-menu-sw\">',\n",
              " '            <li class=\"d-block d-md-none\">',\n",
              " '              <a class=\"dropdown-item d-flex flex-items-baseline\" data-hydro-click=\"{&quot;event_type&quot;:&quot;repository.click&quot;,&quot;payload&quot;:{&quot;target&quot;:&quot;FIND_FILE_BUTTON&quot;,&quot;repository_id&quot;:337771328,&quot;originating_url&quot;:&quot;https://github.com/nicklogin/ChuckchiHackathon/blob/main/russian_sents_numbers%20(1).txt&quot;,&quot;user_id&quot;:null}}\" data-hydro-click-hmac=\"e7e75e88e41102d98327c6e778a22546fd7b45473d4f2fcddc711a589474e85d\" data-ga-click=\"Repository, find file, location:repo overview\" data-hotkey=\"t\" data-pjax=\"true\" href=\"/nicklogin/ChuckchiHackathon/find/main\">',\n",
              " '                <span class=\"flex-auto\">Go to file</span>',\n",
              " '                <span class=\"text-small text-gray\" aria-hidden=\"true\">T</span>',\n",
              " '</a>            </li>',\n",
              " '            <li data-toggle-for=\"blob-more-options-details\">',\n",
              " '              <button type=\"button\" data-toggle-for=\"jumpto-line-details-dialog\" class=\"btn-link dropdown-item\">',\n",
              " '                <span class=\"d-flex flex-items-baseline\">',\n",
              " '                  <span class=\"flex-auto\">Go to line</span>',\n",
              " '                  <span class=\"text-small text-gray\" aria-hidden=\"true\">L</span>',\n",
              " '                </span>',\n",
              " '              </button>',\n",
              " '            </li>',\n",
              " '            <li class=\"dropdown-divider\" role=\"none\"></li>',\n",
              " '            <li>',\n",
              " '              <clipboard-copy value=\"russian_sents_numbers (1).txt\" class=\"dropdown-item cursor-pointer\" data-toggle-for=\"blob-more-options-details\">',\n",
              " '                Copy path',\n",
              " '              </clipboard-copy>',\n",
              " '            </li>',\n",
              " '          </ul>',\n",
              " '</div></details>    </div>',\n",
              " '',\n",
              " '',\n",
              " '',\n",
              " '    <div class=\"Box d-flex flex-column flex-shrink-0 mb-3\">',\n",
              " '      <include-fragment src=\"/nicklogin/ChuckchiHackathon/contributors/main/russian_sents_numbers%20(1).txt\" class=\"commit-loader\">',\n",
              " '        <div class=\"Box-header Box-header--blue d-flex flex-items-center\">',\n",
              " '          <div class=\"Skeleton avatar avatar-user flex-shrink-0 ml-n1 mr-n1 mt-n1 mb-n1\" style=\"width:24px;height:24px;\"></div>',\n",
              " '          <div class=\"Skeleton Skeleton--text col-5 ml-2\">&nbsp;</div>',\n",
              " '        </div>',\n",
              " '',\n",
              " '        <div class=\"Box-body d-flex flex-items-center\" >',\n",
              " '          <div class=\"Skeleton Skeleton--text col-1\">&nbsp;</div>',\n",
              " '          <span class=\"text-red h6 loader-error\">Cannot retrieve contributors at this time</span>',\n",
              " '        </div>',\n",
              " '</include-fragment>    </div>',\n",
              " '',\n",
              " '',\n",
              " '',\n",
              " '',\n",
              " '',\n",
              " '',\n",
              " '    <div class=\"Box mt-3 position-relative',\n",
              " '      \">',\n",
              " '      ',\n",
              " '<div class=\"Box-header py-2 d-flex flex-column flex-shrink-0 flex-md-row flex-md-items-center\">',\n",
              " '  <div class=\"text-mono f6 flex-auto pr-3 flex-order-2 flex-md-order-1 mt-2 mt-md-0\">',\n",
              " '',\n",
              " '      74 lines (74 sloc)',\n",
              " '      <span class=\"file-info-divider\"></span>',\n",
              " '    264 Bytes',\n",
              " '  </div>',\n",
              " '',\n",
              " '  <div class=\"d-flex py-1 py-md-0 flex-auto flex-order-1 flex-md-order-2 flex-sm-grow-0 flex-justify-between\">',\n",
              " '',\n",
              " '    <div class=\"BtnGroup\">',\n",
              " '      <a href=\"/nicklogin/ChuckchiHackathon/raw/main/russian_sents_numbers%20(1).txt\" id=\"raw-url\" role=\"button\" class=\"btn btn-sm BtnGroup-item \">Raw</a>',\n",
              " '        <a href=\"/nicklogin/ChuckchiHackathon/blame/main/russian_sents_numbers%20(1).txt\" data-hotkey=\"b\" role=\"button\" class=\"btn js-update-url-with-hash btn-sm BtnGroup-item \">Blame</a>',\n",
              " '    </div>',\n",
              " '',\n",
              " '    <div>',\n",
              " '          <a class=\"btn-octicon tooltipped tooltipped-nw js-remove-unless-platform\"',\n",
              " '             data-platforms=\"windows,mac\"',\n",
              " '             href=\"https://desktop.github.com\"',\n",
              " '             aria-label=\"Open this file in GitHub Desktop\"',\n",
              " '             data-ga-click=\"Repository, open with desktop\">',\n",
              " '              <svg class=\"octicon octicon-device-desktop\" viewBox=\"0 0 16 16\" version=\"1.1\" width=\"16\" height=\"16\" aria-hidden=\"true\"><path fill-rule=\"evenodd\" d=\"M1.75 2.5h12.5a.25.25 0 01.25.25v7.5a.25.25 0 01-.25.25H1.75a.25.25 0 01-.25-.25v-7.5a.25.25 0 01.25-.25zM14.25 1H1.75A1.75 1.75 0 000 2.75v7.5C0 11.216.784 12 1.75 12h3.727c-.1 1.041-.52 1.872-1.292 2.757A.75.75 0 004.75 16h6.5a.75.75 0 00.565-1.243c-.772-.885-1.193-1.716-1.292-2.757h3.727A1.75 1.75 0 0016 10.25v-7.5A1.75 1.75 0 0014.25 1zM9.018 12H6.982a5.72 5.72 0 01-.765 2.5h3.566a5.72 5.72 0 01-.765-2.5z\"></path></svg>',\n",
              " '          </a>',\n",
              " '',\n",
              " '          <a href=\"/login?return_to=%2Fnicklogin%2FChuckchiHackathon%2Fblob%2Fmain%2Frussian_sents_numbers%2520%281%29.txt\" class=\"btn-octicon disabled tooltipped tooltipped-nw\"',\n",
              " '            aria-label=\"You must be signed in to make or propose changes\">',\n",
              " '            <svg class=\"octicon octicon-pencil\" height=\"16\" viewBox=\"0 0 16 16\" version=\"1.1\" width=\"16\" aria-hidden=\"true\"><path fill-rule=\"evenodd\" d=\"M11.013 1.427a1.75 1.75 0 012.474 0l1.086 1.086a1.75 1.75 0 010 2.474l-8.61 8.61c-.21.21-.47.364-.756.445l-3.251.93a.75.75 0 01-.927-.928l.929-3.25a1.75 1.75 0 01.445-.758l8.61-8.61zm1.414 1.06a.25.25 0 00-.354 0L10.811 3.75l1.439 1.44 1.263-1.263a.25.25 0 000-.354l-1.086-1.086zM11.189 6.25L9.75 4.81l-6.286 6.287a.25.25 0 00-.064.108l-.558 1.953 1.953-.558a.249.249 0 00.108-.064l6.286-6.286z\"></path></svg>',\n",
              " '          </a>',\n",
              " '          <a href=\"/login?return_to=%2Fnicklogin%2FChuckchiHackathon%2Fblob%2Fmain%2Frussian_sents_numbers%2520%281%29.txt\" class=\"btn-octicon btn-octicon-danger disabled tooltipped tooltipped-nw\"',\n",
              " '            aria-label=\"You must be signed in to make or propose changes\">',\n",
              " '            <svg class=\"octicon octicon-trashcan\" viewBox=\"0 0 16 16\" version=\"1.1\" width=\"16\" height=\"16\" aria-hidden=\"true\"><path fill-rule=\"evenodd\" d=\"M6.5 1.75a.25.25 0 01.25-.25h2.5a.25.25 0 01.25.25V3h-3V1.75zm4.5 0V3h2.25a.75.75 0 010 1.5H2.75a.75.75 0 010-1.5H5V1.75C5 .784 5.784 0 6.75 0h2.5C10.216 0 11 .784 11 1.75zM4.496 6.675a.75.75 0 10-1.492.15l.66 6.6A1.75 1.75 0 005.405 15h5.19c.9 0 1.652-.681 1.741-1.576l.66-6.6a.75.75 0 00-1.492-.149l-.66 6.6a.25.25 0 01-.249.225h-5.19a.25.25 0 01-.249-.225l-.66-6.6z\"></path></svg>',\n",
              " '          </a>',\n",
              " '    </div>',\n",
              " '  </div>',\n",
              " '</div>',\n",
              " '',\n",
              " '      ',\n",
              " '',\n",
              " '  <div itemprop=\"text\" class=\"Box-body p-0 blob-wrapper data type-text  gist-border-0\">',\n",
              " '      ',\n",
              " '<table class=\"highlight tab-size js-file-line-container\" data-tab-size=\"8\" data-paste-markdown-skip>',\n",
              " '      <tr>',\n",
              " '        <td id=\"L1\" class=\"blob-num js-line-number\" data-line-number=\"1\"></td>',\n",
              " '        <td id=\"LC1\" class=\"blob-code blob-code-inner js-file-line\">4</td>',\n",
              " '      </tr>',\n",
              " '      <tr>',\n",
              " '        <td id=\"L2\" class=\"blob-num js-line-number\" data-line-number=\"2\"></td>',\n",
              " '        <td id=\"LC2\" class=\"blob-code blob-code-inner js-file-line\">8</td>',\n",
              " '      </tr>',\n",
              " '      <tr>',\n",
              " '        <td id=\"L3\" class=\"blob-num js-line-number\" data-line-number=\"3\"></td>',\n",
              " '        <td id=\"LC3\" class=\"blob-code blob-code-inner js-file-line\">13</td>',\n",
              " '      </tr>',\n",
              " '      <tr>',\n",
              " '        <td id=\"L4\" class=\"blob-num js-line-number\" data-line-number=\"4\"></td>',\n",
              " '        <td id=\"LC4\" class=\"blob-code blob-code-inner js-file-line\">14</td>',\n",
              " '      </tr>',\n",
              " '      <tr>',\n",
              " '        <td id=\"L5\" class=\"blob-num js-line-number\" data-line-number=\"5\"></td>',\n",
              " '        <td id=\"LC5\" class=\"blob-code blob-code-inner js-file-line\">15</td>',\n",
              " '      </tr>',\n",
              " '      <tr>',\n",
              " '        <td id=\"L6\" class=\"blob-num js-line-number\" data-line-number=\"6\"></td>',\n",
              " '        <td id=\"LC6\" class=\"blob-code blob-code-inner js-file-line\">16</td>',\n",
              " '      </tr>',\n",
              " '      <tr>',\n",
              " '        <td id=\"L7\" class=\"blob-num js-line-number\" data-line-number=\"7\"></td>',\n",
              " '        <td id=\"LC7\" class=\"blob-code blob-code-inner js-file-line\">34</td>',\n",
              " '      </tr>',\n",
              " '      <tr>',\n",
              " '        <td id=\"L8\" class=\"blob-num js-line-number\" data-line-number=\"8\"></td>',\n",
              " '        <td id=\"LC8\" class=\"blob-code blob-code-inner js-file-line\">36</td>',\n",
              " '      </tr>',\n",
              " '      <tr>',\n",
              " '        <td id=\"L9\" class=\"blob-num js-line-number\" data-line-number=\"9\"></td>',\n",
              " '        <td id=\"LC9\" class=\"blob-code blob-code-inner js-file-line\">37</td>',\n",
              " '      </tr>',\n",
              " '      <tr>',\n",
              " '        <td id=\"L10\" class=\"blob-num js-line-number\" data-line-number=\"10\"></td>',\n",
              " '        <td id=\"LC10\" class=\"blob-code blob-code-inner js-file-line\">38</td>',\n",
              " '      </tr>',\n",
              " '      <tr>',\n",
              " '        <td id=\"L11\" class=\"blob-num js-line-number\" data-line-number=\"11\"></td>',\n",
              " '        <td id=\"LC11\" class=\"blob-code blob-code-inner js-file-line\">43</td>',\n",
              " '      </tr>',\n",
              " '      <tr>',\n",
              " '        <td id=\"L12\" class=\"blob-num js-line-number\" data-line-number=\"12\"></td>',\n",
              " '        <td id=\"LC12\" class=\"blob-code blob-code-inner js-file-line\">44</td>',\n",
              " '      </tr>',\n",
              " '      <tr>',\n",
              " '        <td id=\"L13\" class=\"blob-num js-line-number\" data-line-number=\"13\"></td>',\n",
              " '        <td id=\"LC13\" class=\"blob-code blob-code-inner js-file-line\">45</td>',\n",
              " '      </tr>',\n",
              " '      <tr>',\n",
              " '        <td id=\"L14\" class=\"blob-num js-line-number\" data-line-number=\"14\"></td>',\n",
              " '        <td id=\"LC14\" class=\"blob-code blob-code-inner js-file-line\">46</td>',\n",
              " '      </tr>',\n",
              " '      <tr>',\n",
              " '        <td id=\"L15\" class=\"blob-num js-line-number\" data-line-number=\"15\"></td>',\n",
              " '        <td id=\"LC15\" class=\"blob-code blob-code-inner js-file-line\">47</td>',\n",
              " '      </tr>',\n",
              " '      <tr>',\n",
              " '        <td id=\"L16\" class=\"blob-num js-line-number\" data-line-number=\"16\"></td>',\n",
              " '        <td id=\"LC16\" class=\"blob-code blob-code-inner js-file-line\">52</td>',\n",
              " '      </tr>',\n",
              " '      <tr>',\n",
              " '        <td id=\"L17\" class=\"blob-num js-line-number\" data-line-number=\"17\"></td>',\n",
              " '        <td id=\"LC17\" class=\"blob-code blob-code-inner js-file-line\">53</td>',\n",
              " '      </tr>',\n",
              " '      <tr>',\n",
              " '        <td id=\"L18\" class=\"blob-num js-line-number\" data-line-number=\"18\"></td>',\n",
              " '        <td id=\"LC18\" class=\"blob-code blob-code-inner js-file-line\">54</td>',\n",
              " '      </tr>',\n",
              " '      <tr>',\n",
              " '        <td id=\"L19\" class=\"blob-num js-line-number\" data-line-number=\"19\"></td>',\n",
              " '        <td id=\"LC19\" class=\"blob-code blob-code-inner js-file-line\">62</td>',\n",
              " '      </tr>',\n",
              " '      <tr>',\n",
              " '        <td id=\"L20\" class=\"blob-num js-line-number\" data-line-number=\"20\"></td>',\n",
              " '        <td id=\"LC20\" class=\"blob-code blob-code-inner js-file-line\">63</td>',\n",
              " '      </tr>',\n",
              " '      <tr>',\n",
              " '        <td id=\"L21\" class=\"blob-num js-line-number\" data-line-number=\"21\"></td>',\n",
              " '        <td id=\"LC21\" class=\"blob-code blob-code-inner js-file-line\">64</td>',\n",
              " '      </tr>',\n",
              " '      <tr>',\n",
              " '        <td id=\"L22\" class=\"blob-num js-line-number\" data-line-number=\"22\"></td>',\n",
              " '        <td id=\"LC22\" class=\"blob-code blob-code-inner js-file-line\">69</td>',\n",
              " '      </tr>',\n",
              " '      <tr>',\n",
              " '        <td id=\"L23\" class=\"blob-num js-line-number\" data-line-number=\"23\"></td>',\n",
              " '        <td id=\"LC23\" class=\"blob-code blob-code-inner js-file-line\">70</td>',\n",
              " '      </tr>',\n",
              " '      <tr>',\n",
              " '        <td id=\"L24\" class=\"blob-num js-line-number\" data-line-number=\"24\"></td>',\n",
              " '        <td id=\"LC24\" class=\"blob-code blob-code-inner js-file-line\">77</td>',\n",
              " '      </tr>',\n",
              " '      <tr>',\n",
              " '        <td id=\"L25\" class=\"blob-num js-line-number\" data-line-number=\"25\"></td>',\n",
              " '        <td id=\"LC25\" class=\"blob-code blob-code-inner js-file-line\">78</td>',\n",
              " '      </tr>',\n",
              " '      <tr>',\n",
              " '        <td id=\"L26\" class=\"blob-num js-line-number\" data-line-number=\"26\"></td>',\n",
              " '        <td id=\"LC26\" class=\"blob-code blob-code-inner js-file-line\">93</td>',\n",
              " '      </tr>',\n",
              " '      <tr>',\n",
              " '        <td id=\"L27\" class=\"blob-num js-line-number\" data-line-number=\"27\"></td>',\n",
              " '        <td id=\"LC27\" class=\"blob-code blob-code-inner js-file-line\">94</td>',\n",
              " '      </tr>',\n",
              " '      <tr>',\n",
              " '        <td id=\"L28\" class=\"blob-num js-line-number\" data-line-number=\"28\"></td>',\n",
              " '        <td id=\"LC28\" class=\"blob-code blob-code-inner js-file-line\">95</td>',\n",
              " '      </tr>',\n",
              " '      <tr>',\n",
              " '        <td id=\"L29\" class=\"blob-num js-line-number\" data-line-number=\"29\"></td>',\n",
              " '        <td id=\"LC29\" class=\"blob-code blob-code-inner js-file-line\">96</td>',\n",
              " '      </tr>',\n",
              " '      <tr>',\n",
              " '        <td id=\"L30\" class=\"blob-num js-line-number\" data-line-number=\"30\"></td>',\n",
              " '        <td id=\"LC30\" class=\"blob-code blob-code-inner js-file-line\">97</td>',\n",
              " '      </tr>',\n",
              " '      <tr>',\n",
              " '        <td id=\"L31\" class=\"blob-num js-line-number\" data-line-number=\"31\"></td>',\n",
              " '        <td id=\"LC31\" class=\"blob-code blob-code-inner js-file-line\">103</td>',\n",
              " '      </tr>',\n",
              " '      <tr>',\n",
              " '        <td id=\"L32\" class=\"blob-num js-line-number\" data-line-number=\"32\"></td>',\n",
              " '        <td id=\"LC32\" class=\"blob-code blob-code-inner js-file-line\">104</td>',\n",
              " '      </tr>',\n",
              " '      <tr>',\n",
              " '        <td id=\"L33\" class=\"blob-num js-line-number\" data-line-number=\"33\"></td>',\n",
              " '        <td id=\"LC33\" class=\"blob-code blob-code-inner js-file-line\">105</td>',\n",
              " '      </tr>',\n",
              " '      <tr>',\n",
              " '        <td id=\"L34\" class=\"blob-num js-line-number\" data-line-number=\"34\"></td>',\n",
              " '        <td id=\"LC34\" class=\"blob-code blob-code-inner js-file-line\">114</td>',\n",
              " '      </tr>',\n",
              " '      <tr>',\n",
              " '        <td id=\"L35\" class=\"blob-num js-line-number\" data-line-number=\"35\"></td>',\n",
              " '        <td id=\"LC35\" class=\"blob-code blob-code-inner js-file-line\">121</td>',\n",
              " '      </tr>',\n",
              " '      <tr>',\n",
              " '        <td id=\"L36\" class=\"blob-num js-line-number\" data-line-number=\"36\"></td>',\n",
              " '        <td id=\"LC36\" class=\"blob-code blob-code-inner js-file-line\">134</td>',\n",
              " '      </tr>',\n",
              " '      <tr>',\n",
              " '        <td id=\"L37\" class=\"blob-num js-line-number\" data-line-number=\"37\"></td>',\n",
              " '        <td id=\"LC37\" class=\"blob-code blob-code-inner js-file-line\">135</td>',\n",
              " '      </tr>',\n",
              " '      <tr>',\n",
              " '        <td id=\"L38\" class=\"blob-num js-line-number\" data-line-number=\"38\"></td>',\n",
              " '        <td id=\"LC38\" class=\"blob-code blob-code-inner js-file-line\">136</td>',\n",
              " '      </tr>',\n",
              " '      <tr>',\n",
              " '        <td id=\"L39\" class=\"blob-num js-line-number\" data-line-number=\"39\"></td>',\n",
              " '        <td id=\"LC39\" class=\"blob-code blob-code-inner js-file-line\">146</td>',\n",
              " '      </tr>',\n",
              " '      <tr>',\n",
              " ...]"
            ]
          },
          "metadata": {
            "tags": []
          },
          "execution_count": 255
        }
      ]
    },
    {
      "cell_type": "code",
      "metadata": {
        "id": "2lVnfwBNCDZN"
      },
      "source": [
        "target = []\r\n",
        "\r\n",
        "for i in range(len(valid)):\r\n",
        "  if i in rus_numbers:\r\n",
        "    target.append('rus')\r\n",
        "  else:\r\n",
        "    target.append('chu')"
      ],
      "execution_count": 258,
      "outputs": []
    },
    {
      "cell_type": "code",
      "metadata": {
        "colab": {
          "base_uri": "https://localhost:8080/"
        },
        "id": "2g4QuBY2EHj7",
        "outputId": "6b3964b8-c5d3-4e11-a95e-aa9b1d6e4cca"
      },
      "source": [
        "target[:5]"
      ],
      "execution_count": 259,
      "outputs": [
        {
          "output_type": "execute_result",
          "data": {
            "text/plain": [
              "['chu', 'chu', 'chu', 'rus', 'chu']"
            ]
          },
          "metadata": {
            "tags": []
          },
          "execution_count": 259
        }
      ]
    },
    {
      "cell_type": "code",
      "metadata": {
        "colab": {
          "base_uri": "https://localhost:8080/",
          "height": 120,
          "referenced_widgets": [
            "a49409ed21d9413a93f501d7838523b0",
            "31282a3b227c402a96c1903514940b7e",
            "54e7c1631881497a9ca220d977f8666d",
            "96898d8b005c4f069e74febb0b9f07b7",
            "18da6a0bbf334f39898d8bdaeec06d71",
            "b430448e16354487b07587787a8fb8ea",
            "f45fcc40f5ee43ec95b11b369cf92efb",
            "e971e249ffb94a349ead7218b6f8f35f"
          ]
        },
        "id": "olMRc6hFDEla",
        "outputId": "59228a33-1094-4e92-a4f3-647d73134729"
      },
      "source": [
        "df3 = pd.DataFrame(get_features(valid))"
      ],
      "execution_count": 260,
      "outputs": [
        {
          "output_type": "stream",
          "text": [
            "/usr/local/lib/python3.6/dist-packages/ipykernel_launcher.py:4: TqdmDeprecationWarning: This function will be removed in tqdm==5.0.0\n",
            "Please use `tqdm.notebook.tqdm` instead of `tqdm.tqdm_notebook`\n",
            "  after removing the cwd from sys.path.\n"
          ],
          "name": "stderr"
        },
        {
          "output_type": "display_data",
          "data": {
            "application/vnd.jupyter.widget-view+json": {
              "model_id": "a49409ed21d9413a93f501d7838523b0",
              "version_minor": 0,
              "version_major": 2
            },
            "text/plain": [
              "HBox(children=(FloatProgress(value=0.0, max=282.0), HTML(value='')))"
            ]
          },
          "metadata": {
            "tags": []
          }
        },
        {
          "output_type": "stream",
          "text": [
            "\n"
          ],
          "name": "stdout"
        }
      ]
    },
    {
      "cell_type": "code",
      "metadata": {
        "colab": {
          "base_uri": "https://localhost:8080/",
          "height": 197
        },
        "id": "JhOA4QjYDUnR",
        "outputId": "d3f9c1a0-f6c7-4e0a-c6ad-b2d1597a6e4d"
      },
      "source": [
        "df3.head()"
      ],
      "execution_count": 261,
      "outputs": [
        {
          "output_type": "execute_result",
          "data": {
            "text/html": [
              "<div>\n",
              "<style scoped>\n",
              "    .dataframe tbody tr th:only-of-type {\n",
              "        vertical-align: middle;\n",
              "    }\n",
              "\n",
              "    .dataframe tbody tr th {\n",
              "        vertical-align: top;\n",
              "    }\n",
              "\n",
              "    .dataframe thead th {\n",
              "        text-align: right;\n",
              "    }\n",
              "</style>\n",
              "<table border=\"1\" class=\"dataframe\">\n",
              "  <thead>\n",
              "    <tr style=\"text-align: right;\">\n",
              "      <th></th>\n",
              "      <th>ru</th>\n",
              "      <th>mn</th>\n",
              "      <th>ky</th>\n",
              "      <th>be</th>\n",
              "      <th>bg</th>\n",
              "      <th>ukr</th>\n",
              "      <th>sah</th>\n",
              "      <th>krc</th>\n",
              "      <th>tt</th>\n",
              "      <th>mhr</th>\n",
              "    </tr>\n",
              "  </thead>\n",
              "  <tbody>\n",
              "    <tr>\n",
              "      <th>0</th>\n",
              "      <td>0.057031</td>\n",
              "      <td>0.346933</td>\n",
              "      <td>0.000000</td>\n",
              "      <td>0.092335</td>\n",
              "      <td>0.007718</td>\n",
              "      <td>0</td>\n",
              "      <td>0.086275</td>\n",
              "      <td>0.012783</td>\n",
              "      <td>0.013421</td>\n",
              "      <td>0.291271</td>\n",
              "    </tr>\n",
              "    <tr>\n",
              "      <th>1</th>\n",
              "      <td>0.446597</td>\n",
              "      <td>0.078173</td>\n",
              "      <td>0.000000</td>\n",
              "      <td>0.141577</td>\n",
              "      <td>0.000000</td>\n",
              "      <td>0</td>\n",
              "      <td>0.272009</td>\n",
              "      <td>0.014823</td>\n",
              "      <td>0.000000</td>\n",
              "      <td>0.000000</td>\n",
              "    </tr>\n",
              "    <tr>\n",
              "      <th>2</th>\n",
              "      <td>0.040853</td>\n",
              "      <td>0.107463</td>\n",
              "      <td>0.000000</td>\n",
              "      <td>0.111139</td>\n",
              "      <td>0.000000</td>\n",
              "      <td>0</td>\n",
              "      <td>0.235966</td>\n",
              "      <td>0.186341</td>\n",
              "      <td>0.186799</td>\n",
              "      <td>0.000000</td>\n",
              "    </tr>\n",
              "    <tr>\n",
              "      <th>3</th>\n",
              "      <td>0.999186</td>\n",
              "      <td>0.000000</td>\n",
              "      <td>0.000016</td>\n",
              "      <td>0.000020</td>\n",
              "      <td>0.000164</td>\n",
              "      <td>0</td>\n",
              "      <td>0.000000</td>\n",
              "      <td>0.000000</td>\n",
              "      <td>0.000000</td>\n",
              "      <td>0.000000</td>\n",
              "    </tr>\n",
              "    <tr>\n",
              "      <th>4</th>\n",
              "      <td>0.583761</td>\n",
              "      <td>0.100442</td>\n",
              "      <td>0.000000</td>\n",
              "      <td>0.067733</td>\n",
              "      <td>0.000000</td>\n",
              "      <td>0</td>\n",
              "      <td>0.209621</td>\n",
              "      <td>0.000000</td>\n",
              "      <td>0.004031</td>\n",
              "      <td>0.000000</td>\n",
              "    </tr>\n",
              "  </tbody>\n",
              "</table>\n",
              "</div>"
            ],
            "text/plain": [
              "         ru        mn        ky  ...       krc        tt       mhr\n",
              "0  0.057031  0.346933  0.000000  ...  0.012783  0.013421  0.291271\n",
              "1  0.446597  0.078173  0.000000  ...  0.014823  0.000000  0.000000\n",
              "2  0.040853  0.107463  0.000000  ...  0.186341  0.186799  0.000000\n",
              "3  0.999186  0.000000  0.000016  ...  0.000000  0.000000  0.000000\n",
              "4  0.583761  0.100442  0.000000  ...  0.000000  0.004031  0.000000\n",
              "\n",
              "[5 rows x 10 columns]"
            ]
          },
          "metadata": {
            "tags": []
          },
          "execution_count": 261
        }
      ]
    },
    {
      "cell_type": "code",
      "metadata": {
        "id": "ttPIse4jDNqq"
      },
      "source": [
        "df3['predicted'] = clf.predict(df3)"
      ],
      "execution_count": 262,
      "outputs": []
    },
    {
      "cell_type": "code",
      "metadata": {
        "colab": {
          "base_uri": "https://localhost:8080/",
          "height": 197
        },
        "id": "IL6S8OqTDg9t",
        "outputId": "29d75472-b383-42fc-d927-784045189544"
      },
      "source": [
        "df3.head()"
      ],
      "execution_count": 263,
      "outputs": [
        {
          "output_type": "execute_result",
          "data": {
            "text/html": [
              "<div>\n",
              "<style scoped>\n",
              "    .dataframe tbody tr th:only-of-type {\n",
              "        vertical-align: middle;\n",
              "    }\n",
              "\n",
              "    .dataframe tbody tr th {\n",
              "        vertical-align: top;\n",
              "    }\n",
              "\n",
              "    .dataframe thead th {\n",
              "        text-align: right;\n",
              "    }\n",
              "</style>\n",
              "<table border=\"1\" class=\"dataframe\">\n",
              "  <thead>\n",
              "    <tr style=\"text-align: right;\">\n",
              "      <th></th>\n",
              "      <th>ru</th>\n",
              "      <th>mn</th>\n",
              "      <th>ky</th>\n",
              "      <th>be</th>\n",
              "      <th>bg</th>\n",
              "      <th>ukr</th>\n",
              "      <th>sah</th>\n",
              "      <th>krc</th>\n",
              "      <th>tt</th>\n",
              "      <th>mhr</th>\n",
              "      <th>predicted</th>\n",
              "    </tr>\n",
              "  </thead>\n",
              "  <tbody>\n",
              "    <tr>\n",
              "      <th>0</th>\n",
              "      <td>0.057031</td>\n",
              "      <td>0.346933</td>\n",
              "      <td>0.000000</td>\n",
              "      <td>0.092335</td>\n",
              "      <td>0.007718</td>\n",
              "      <td>0</td>\n",
              "      <td>0.086275</td>\n",
              "      <td>0.012783</td>\n",
              "      <td>0.013421</td>\n",
              "      <td>0.291271</td>\n",
              "      <td>1</td>\n",
              "    </tr>\n",
              "    <tr>\n",
              "      <th>1</th>\n",
              "      <td>0.446597</td>\n",
              "      <td>0.078173</td>\n",
              "      <td>0.000000</td>\n",
              "      <td>0.141577</td>\n",
              "      <td>0.000000</td>\n",
              "      <td>0</td>\n",
              "      <td>0.272009</td>\n",
              "      <td>0.014823</td>\n",
              "      <td>0.000000</td>\n",
              "      <td>0.000000</td>\n",
              "      <td>1</td>\n",
              "    </tr>\n",
              "    <tr>\n",
              "      <th>2</th>\n",
              "      <td>0.040853</td>\n",
              "      <td>0.107463</td>\n",
              "      <td>0.000000</td>\n",
              "      <td>0.111139</td>\n",
              "      <td>0.000000</td>\n",
              "      <td>0</td>\n",
              "      <td>0.235966</td>\n",
              "      <td>0.186341</td>\n",
              "      <td>0.186799</td>\n",
              "      <td>0.000000</td>\n",
              "      <td>1</td>\n",
              "    </tr>\n",
              "    <tr>\n",
              "      <th>3</th>\n",
              "      <td>0.999186</td>\n",
              "      <td>0.000000</td>\n",
              "      <td>0.000016</td>\n",
              "      <td>0.000020</td>\n",
              "      <td>0.000164</td>\n",
              "      <td>0</td>\n",
              "      <td>0.000000</td>\n",
              "      <td>0.000000</td>\n",
              "      <td>0.000000</td>\n",
              "      <td>0.000000</td>\n",
              "      <td>0</td>\n",
              "    </tr>\n",
              "    <tr>\n",
              "      <th>4</th>\n",
              "      <td>0.583761</td>\n",
              "      <td>0.100442</td>\n",
              "      <td>0.000000</td>\n",
              "      <td>0.067733</td>\n",
              "      <td>0.000000</td>\n",
              "      <td>0</td>\n",
              "      <td>0.209621</td>\n",
              "      <td>0.000000</td>\n",
              "      <td>0.004031</td>\n",
              "      <td>0.000000</td>\n",
              "      <td>0</td>\n",
              "    </tr>\n",
              "  </tbody>\n",
              "</table>\n",
              "</div>"
            ],
            "text/plain": [
              "         ru        mn        ky  ...        tt       mhr  predicted\n",
              "0  0.057031  0.346933  0.000000  ...  0.013421  0.291271          1\n",
              "1  0.446597  0.078173  0.000000  ...  0.000000  0.000000          1\n",
              "2  0.040853  0.107463  0.000000  ...  0.186799  0.000000          1\n",
              "3  0.999186  0.000000  0.000016  ...  0.000000  0.000000          0\n",
              "4  0.583761  0.100442  0.000000  ...  0.004031  0.000000          0\n",
              "\n",
              "[5 rows x 11 columns]"
            ]
          },
          "metadata": {
            "tags": []
          },
          "execution_count": 263
        }
      ]
    },
    {
      "cell_type": "code",
      "metadata": {
        "id": "iCDtoCjODjdj"
      },
      "source": [
        "df3['true'] = target"
      ],
      "execution_count": 264,
      "outputs": []
    },
    {
      "cell_type": "code",
      "metadata": {
        "colab": {
          "base_uri": "https://localhost:8080/",
          "height": 197
        },
        "id": "HbiMr1BcD27R",
        "outputId": "c5bc9196-635e-46cf-ba0b-bf8b12136514"
      },
      "source": [
        "df3.head()"
      ],
      "execution_count": 265,
      "outputs": [
        {
          "output_type": "execute_result",
          "data": {
            "text/html": [
              "<div>\n",
              "<style scoped>\n",
              "    .dataframe tbody tr th:only-of-type {\n",
              "        vertical-align: middle;\n",
              "    }\n",
              "\n",
              "    .dataframe tbody tr th {\n",
              "        vertical-align: top;\n",
              "    }\n",
              "\n",
              "    .dataframe thead th {\n",
              "        text-align: right;\n",
              "    }\n",
              "</style>\n",
              "<table border=\"1\" class=\"dataframe\">\n",
              "  <thead>\n",
              "    <tr style=\"text-align: right;\">\n",
              "      <th></th>\n",
              "      <th>ru</th>\n",
              "      <th>mn</th>\n",
              "      <th>ky</th>\n",
              "      <th>be</th>\n",
              "      <th>bg</th>\n",
              "      <th>ukr</th>\n",
              "      <th>sah</th>\n",
              "      <th>krc</th>\n",
              "      <th>tt</th>\n",
              "      <th>mhr</th>\n",
              "      <th>predicted</th>\n",
              "      <th>true</th>\n",
              "    </tr>\n",
              "  </thead>\n",
              "  <tbody>\n",
              "    <tr>\n",
              "      <th>0</th>\n",
              "      <td>0.057031</td>\n",
              "      <td>0.346933</td>\n",
              "      <td>0.000000</td>\n",
              "      <td>0.092335</td>\n",
              "      <td>0.007718</td>\n",
              "      <td>0</td>\n",
              "      <td>0.086275</td>\n",
              "      <td>0.012783</td>\n",
              "      <td>0.013421</td>\n",
              "      <td>0.291271</td>\n",
              "      <td>1</td>\n",
              "      <td>chu</td>\n",
              "    </tr>\n",
              "    <tr>\n",
              "      <th>1</th>\n",
              "      <td>0.446597</td>\n",
              "      <td>0.078173</td>\n",
              "      <td>0.000000</td>\n",
              "      <td>0.141577</td>\n",
              "      <td>0.000000</td>\n",
              "      <td>0</td>\n",
              "      <td>0.272009</td>\n",
              "      <td>0.014823</td>\n",
              "      <td>0.000000</td>\n",
              "      <td>0.000000</td>\n",
              "      <td>1</td>\n",
              "      <td>chu</td>\n",
              "    </tr>\n",
              "    <tr>\n",
              "      <th>2</th>\n",
              "      <td>0.040853</td>\n",
              "      <td>0.107463</td>\n",
              "      <td>0.000000</td>\n",
              "      <td>0.111139</td>\n",
              "      <td>0.000000</td>\n",
              "      <td>0</td>\n",
              "      <td>0.235966</td>\n",
              "      <td>0.186341</td>\n",
              "      <td>0.186799</td>\n",
              "      <td>0.000000</td>\n",
              "      <td>1</td>\n",
              "      <td>chu</td>\n",
              "    </tr>\n",
              "    <tr>\n",
              "      <th>3</th>\n",
              "      <td>0.999186</td>\n",
              "      <td>0.000000</td>\n",
              "      <td>0.000016</td>\n",
              "      <td>0.000020</td>\n",
              "      <td>0.000164</td>\n",
              "      <td>0</td>\n",
              "      <td>0.000000</td>\n",
              "      <td>0.000000</td>\n",
              "      <td>0.000000</td>\n",
              "      <td>0.000000</td>\n",
              "      <td>0</td>\n",
              "      <td>rus</td>\n",
              "    </tr>\n",
              "    <tr>\n",
              "      <th>4</th>\n",
              "      <td>0.583761</td>\n",
              "      <td>0.100442</td>\n",
              "      <td>0.000000</td>\n",
              "      <td>0.067733</td>\n",
              "      <td>0.000000</td>\n",
              "      <td>0</td>\n",
              "      <td>0.209621</td>\n",
              "      <td>0.000000</td>\n",
              "      <td>0.004031</td>\n",
              "      <td>0.000000</td>\n",
              "      <td>0</td>\n",
              "      <td>chu</td>\n",
              "    </tr>\n",
              "  </tbody>\n",
              "</table>\n",
              "</div>"
            ],
            "text/plain": [
              "         ru        mn        ky        be  ...        tt       mhr  predicted  true\n",
              "0  0.057031  0.346933  0.000000  0.092335  ...  0.013421  0.291271          1   chu\n",
              "1  0.446597  0.078173  0.000000  0.141577  ...  0.000000  0.000000          1   chu\n",
              "2  0.040853  0.107463  0.000000  0.111139  ...  0.186799  0.000000          1   chu\n",
              "3  0.999186  0.000000  0.000016  0.000020  ...  0.000000  0.000000          0   rus\n",
              "4  0.583761  0.100442  0.000000  0.067733  ...  0.004031  0.000000          0   chu\n",
              "\n",
              "[5 rows x 12 columns]"
            ]
          },
          "metadata": {
            "tags": []
          },
          "execution_count": 265
        }
      ]
    },
    {
      "cell_type": "code",
      "metadata": {
        "colab": {
          "base_uri": "https://localhost:8080/",
          "height": 137
        },
        "id": "6lhGM6vrDtyv",
        "outputId": "b599aef6-f55e-404b-9781-e3ec2f2c74d2"
      },
      "source": [
        "pd.crosstab(df3['true'],df3['predicted'])"
      ],
      "execution_count": 266,
      "outputs": [
        {
          "output_type": "execute_result",
          "data": {
            "text/html": [
              "<div>\n",
              "<style scoped>\n",
              "    .dataframe tbody tr th:only-of-type {\n",
              "        vertical-align: middle;\n",
              "    }\n",
              "\n",
              "    .dataframe tbody tr th {\n",
              "        vertical-align: top;\n",
              "    }\n",
              "\n",
              "    .dataframe thead th {\n",
              "        text-align: right;\n",
              "    }\n",
              "</style>\n",
              "<table border=\"1\" class=\"dataframe\">\n",
              "  <thead>\n",
              "    <tr style=\"text-align: right;\">\n",
              "      <th>predicted</th>\n",
              "      <th>0</th>\n",
              "      <th>1</th>\n",
              "    </tr>\n",
              "    <tr>\n",
              "      <th>true</th>\n",
              "      <th></th>\n",
              "      <th></th>\n",
              "    </tr>\n",
              "  </thead>\n",
              "  <tbody>\n",
              "    <tr>\n",
              "      <th>chu</th>\n",
              "      <td>32</td>\n",
              "      <td>176</td>\n",
              "    </tr>\n",
              "    <tr>\n",
              "      <th>rus</th>\n",
              "      <td>74</td>\n",
              "      <td>0</td>\n",
              "    </tr>\n",
              "  </tbody>\n",
              "</table>\n",
              "</div>"
            ],
            "text/plain": [
              "predicted   0    1\n",
              "true              \n",
              "chu        32  176\n",
              "rus        74    0"
            ]
          },
          "metadata": {
            "tags": []
          },
          "execution_count": 266
        }
      ]
    },
    {
      "cell_type": "code",
      "metadata": {
        "id": "cNM7zuh8ETUS"
      },
      "source": [
        "from sklearn.metrics import f1_score"
      ],
      "execution_count": 267,
      "outputs": []
    },
    {
      "cell_type": "code",
      "metadata": {
        "id": "LnPuLFVZEXgM"
      },
      "source": [
        "d = {'rus':0,'chu':1}\r\n",
        "map_labels = lambda x: d[x]\r\n",
        "true_labels = df3['true'].apply(map_labels)"
      ],
      "execution_count": 279,
      "outputs": []
    },
    {
      "cell_type": "code",
      "metadata": {
        "colab": {
          "base_uri": "https://localhost:8080/"
        },
        "id": "eSXrNBl_FBKu",
        "outputId": "e692e3a2-8ce3-4b64-f66e-f11a8137518e"
      },
      "source": [
        "df3['predicted']"
      ],
      "execution_count": 281,
      "outputs": [
        {
          "output_type": "execute_result",
          "data": {
            "text/plain": [
              "0      1\n",
              "1      1\n",
              "2      1\n",
              "3      0\n",
              "4      0\n",
              "      ..\n",
              "277    1\n",
              "278    1\n",
              "279    1\n",
              "280    1\n",
              "281    1\n",
              "Name: predicted, Length: 282, dtype: int32"
            ]
          },
          "metadata": {
            "tags": []
          },
          "execution_count": 281
        }
      ]
    },
    {
      "cell_type": "code",
      "metadata": {
        "colab": {
          "base_uri": "https://localhost:8080/"
        },
        "id": "9qDnzSuqF3Az",
        "outputId": "7ac09036-4839-4815-f69d-c8625eb1a4ad"
      },
      "source": [
        "true_labels"
      ],
      "execution_count": 282,
      "outputs": [
        {
          "output_type": "execute_result",
          "data": {
            "text/plain": [
              "0      1\n",
              "1      1\n",
              "2      1\n",
              "3      0\n",
              "4      1\n",
              "      ..\n",
              "277    1\n",
              "278    1\n",
              "279    1\n",
              "280    1\n",
              "281    1\n",
              "Name: true, Length: 282, dtype: int64"
            ]
          },
          "metadata": {
            "tags": []
          },
          "execution_count": 282
        }
      ]
    },
    {
      "cell_type": "code",
      "metadata": {
        "colab": {
          "base_uri": "https://localhost:8080/"
        },
        "id": "HLuPuQT6EyZ2",
        "outputId": "7c388c31-2036-4039-9248-a98a9f041806"
      },
      "source": [
        "f1_score(true_labels, df3['predicted'])"
      ],
      "execution_count": 284,
      "outputs": [
        {
          "output_type": "execute_result",
          "data": {
            "text/plain": [
              "0.9166666666666666"
            ]
          },
          "metadata": {
            "tags": []
          },
          "execution_count": 284
        }
      ]
    },
    {
      "cell_type": "code",
      "metadata": {
        "id": "b-Cajb4EGHIa"
      },
      "source": [
        "from sklearn.metrics import classification_report"
      ],
      "execution_count": 285,
      "outputs": []
    },
    {
      "cell_type": "code",
      "metadata": {
        "colab": {
          "base_uri": "https://localhost:8080/"
        },
        "id": "ykbaztf2GKz2",
        "outputId": "751d9f75-34b0-42c4-9c79-cf954adf7c74"
      },
      "source": [
        "print(classification_report(true_labels, df3['predicted']))"
      ],
      "execution_count": 287,
      "outputs": [
        {
          "output_type": "stream",
          "text": [
            "              precision    recall  f1-score   support\n",
            "\n",
            "           0       0.70      1.00      0.82        74\n",
            "           1       1.00      0.85      0.92       208\n",
            "\n",
            "    accuracy                           0.89       282\n",
            "   macro avg       0.85      0.92      0.87       282\n",
            "weighted avg       0.92      0.89      0.89       282\n",
            "\n"
          ],
          "name": "stdout"
        }
      ]
    }
  ]
}